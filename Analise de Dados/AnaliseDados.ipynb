{
 "cells": [
  {
   "cell_type": "code",
   "execution_count": 31,
   "metadata": {},
   "outputs": [],
   "source": [
    "import pandas as pd\n",
    "import numpy as  np\n",
    "import seaborn as sns\n",
    "import matplotlib.pyplot as plt\n",
    "\n",
    "df = pd.read_excel(\"faltas_treinamento_sujo.xlsx\")"
   ]
  },
  {
   "cell_type": "code",
   "execution_count": 32,
   "metadata": {},
   "outputs": [
    {
     "name": "stdout",
     "output_type": "stream",
     "text": [
      "Nome                          0\n",
      "Departamento                  0\n",
      "Turno                         0\n",
      "Faltas                        0\n",
      "Dia_da_Semana_Ultima_Falta    0\n",
      "Data_Ultima_Falta             0\n",
      "Evadiu                        0\n",
      "dtype: int64\n",
      "                Nome Departamento  Turno  Faltas Dia_da_Semana_Ultima_Falta  \\\n",
      "0    Colaborador_001    Operações  Manhã      14                     Quarta   \n",
      "1    Colaborador_002    Operações  Manhã       1                    Segunda   \n",
      "2    Colaborador_003       Vendas  Manhã       3                    Segunda   \n",
      "3    Colaborador_004    Marketing  Manha       3                    Segunda   \n",
      "4    Colaborador_005           RH  Manha       1                     Quarta   \n",
      "..               ...          ...    ...     ...                        ...   \n",
      "219  Colaborador_056    Operações  Tarde       2                    Segunda   \n",
      "220  Colaborador_102       Vendas  Manha       3                    Segunda   \n",
      "221  Colaborador_188       Vendas  Manhã       3                    Segunda   \n",
      "222  Colaborador_147    Marketing  Tarde       1                    Segunda   \n",
      "223  Colaborador_092       Vendas  Manhã       0                     Quinta   \n",
      "\n",
      "    Data_Ultima_Falta Evadiu  \n",
      "0          2024-01-18    Sim  \n",
      "1                 NaT    Não  \n",
      "2          2024-03-10    Não  \n",
      "3          2024-01-21    Não  \n",
      "4          2024-02-18    Não  \n",
      "..                ...    ...  \n",
      "219        2024-01-05    Não  \n",
      "220        2024-02-15    Não  \n",
      "221        2024-02-04    2.0  \n",
      "222        2024-02-02    Não  \n",
      "223        2024-01-09    Não  \n",
      "\n",
      "[224 rows x 7 columns]\n"
     ]
    },
    {
     "name": "stderr",
     "output_type": "stream",
     "text": [
      "C:\\Users\\36188635861\\AppData\\Local\\Temp\\ipykernel_14348\\33095675.py:21: UserWarning: Parsing dates in %d/%m/%Y format when dayfirst=False (the default) was specified. Pass `dayfirst=True` or specify a format to silence this warning.\n",
      "  df['Data_Ultima_Falta'] = pd.to_datetime(df['Data_Ultima_Falta'], errors= 'coerce')\n"
     ]
    }
   ],
   "source": [
    "#a) Verifique valores nulos e tipos incorretos.\n",
    "#b) Corrija a coluna de datas inválidas.\n",
    "#c) Normalize os nomes dos turnos e dias da semana.\n",
    "\n",
    "# Contar os valores ausentes\n",
    "print(df.isnull().sum())\n",
    "\n",
    "\n",
    "df['Nome'].str.split().str.title()\n",
    "\n",
    "df['Departamento'].str.split().str.title()\n",
    "\n",
    "df['Turno'].str.split().str.title()\n",
    "df[\"Turno\"] = df[\"Turno\"].str.title().replace({\"manha\": \"Manhã\"})\n",
    "\n",
    "df['Faltas'].astype(int)\n",
    "\n",
    "df['Dia_da_Semana_Ultima_Falta'].str.split().str.title()\n",
    "df[\"Dia_da_Semana_Ultima_Falta\"] = df[\"Dia_da_Semana_Ultima_Falta\"].str.title().replace({\"segunda\": \"Segunda\"})\n",
    "\n",
    "df['Data_Ultima_Falta'] = pd.to_datetime(df['Data_Ultima_Falta'], errors= 'coerce')\n",
    "\n",
    "df['Evadiu'].str.split().str.title()\n",
    "\n",
    "print(df)\n",
    "\n"
   ]
  },
  {
   "cell_type": "code",
   "execution_count": 33,
   "metadata": {},
   "outputs": [
    {
     "name": "stdout",
     "output_type": "stream",
     "text": [
      "                Nome Departamento  Turno  Faltas Dia_da_Semana_Ultima_Falta  \\\n",
      "0    Colaborador_001    Operações  Manhã      14                     Quarta   \n",
      "1    Colaborador_002    Operações  Manhã       1                    Segunda   \n",
      "2    Colaborador_003       Vendas  Manhã       3                    Segunda   \n",
      "3    Colaborador_004    Marketing  Manha       3                    Segunda   \n",
      "4    Colaborador_005           RH  Manha       1                     Quarta   \n",
      "..               ...          ...    ...     ...                        ...   \n",
      "214  Colaborador_215    Operações  Tarde       3                    Segunda   \n",
      "215  Colaborador_216    Operações  Manha       1                    Segunda   \n",
      "216  Colaborador_217   Financeiro  Tarde       2                    Segunda   \n",
      "217  Colaborador_218           RH  Tarde       1                      Terça   \n",
      "218  Colaborador_219   Financeiro  Manhã       0                      Sexta   \n",
      "\n",
      "    Data_Ultima_Falta Evadiu  \n",
      "0          2024-01-18    Sim  \n",
      "1          2024-03-24    Não  \n",
      "2          2024-03-10    Não  \n",
      "3          2024-01-21    Não  \n",
      "4          2024-02-18    Não  \n",
      "..                ...    ...  \n",
      "214        2024-02-09    Não  \n",
      "215        2024-03-28    Não  \n",
      "216        2024-01-24    Não  \n",
      "217        2024-02-07    Não  \n",
      "218        2024-02-18    Não  \n",
      "\n",
      "[219 rows x 7 columns]\n"
     ]
    },
    {
     "name": "stderr",
     "output_type": "stream",
     "text": [
      "C:\\Users\\36188635861\\AppData\\Local\\Temp\\ipykernel_14348\\4223386558.py:8: FutureWarning: A value is trying to be set on a copy of a DataFrame or Series through chained assignment using an inplace method.\n",
      "The behavior will change in pandas 3.0. This inplace method will never work because the intermediate object on which we are setting values always behaves as a copy.\n",
      "\n",
      "For example, when doing 'df[col].method(value, inplace=True)', try using 'df.method({col: value}, inplace=True)' or df[col] = df[col].method(value) instead, to perform the operation inplace on the original object.\n",
      "\n",
      "\n",
      "  df[\"Evadiu\"].fillna(\"Desconhecido\", inplace = True)\n",
      "C:\\Users\\36188635861\\AppData\\Local\\Temp\\ipykernel_14348\\4223386558.py:10: FutureWarning: A value is trying to be set on a copy of a DataFrame or Series through chained assignment using an inplace method.\n",
      "The behavior will change in pandas 3.0. This inplace method will never work because the intermediate object on which we are setting values always behaves as a copy.\n",
      "\n",
      "For example, when doing 'df[col].method(value, inplace=True)', try using 'df.method({col: value}, inplace=True)' or df[col] = df[col].method(value) instead, to perform the operation inplace on the original object.\n",
      "\n",
      "\n",
      "  df[\"Data_Ultima_Falta\"].fillna(df[\"Data_Ultima_Falta\"].mode(), inplace = True)\n"
     ]
    }
   ],
   "source": [
    "\n",
    "# Exercício 2 – Remoção e Substituição\n",
    "# a) Remova os registros duplicados.\n",
    "# b) Substitua os valores nulos da coluna Evadiu por “Desconhecido”.\n",
    "# c) Substitua os valores nulos da coluna Data_Ultima_Falta pela data mais comum.\n",
    "\n",
    "df = df.drop_duplicates(subset = [\"Nome\"])\n",
    "\n",
    "df[\"Evadiu\"].fillna(\"Desconhecido\", inplace = True)\n",
    "\n",
    "df[\"Data_Ultima_Falta\"].fillna(df[\"Data_Ultima_Falta\"].mode(), inplace = True)\n",
    "print(df)\n",
    "\n"
   ]
  },
  {
   "cell_type": "code",
   "execution_count": 34,
   "metadata": {},
   "outputs": [
    {
     "name": "stdout",
     "output_type": "stream",
     "text": [
      "                Nome Departamento  Turno Faltas Dia_da_Semana_Ultima_Falta  \\\n",
      "0    Colaborador_001    Operações  Manhã      2                     Quarta   \n",
      "1    Colaborador_002    Operações  Manhã      1                    Segunda   \n",
      "2    Colaborador_003       Vendas  Manhã      3                    Segunda   \n",
      "3    Colaborador_004    Marketing  Manha      3                    Segunda   \n",
      "4    Colaborador_005           RH  Manha      1                     Quarta   \n",
      "..               ...          ...    ...    ...                        ...   \n",
      "214  Colaborador_215    Operações  Tarde      3                    Segunda   \n",
      "215  Colaborador_216    Operações  Manha      1                    Segunda   \n",
      "216  Colaborador_217   Financeiro  Tarde      2                    Segunda   \n",
      "217  Colaborador_218           RH  Tarde      1                      Terça   \n",
      "218  Colaborador_219   Financeiro  Manhã      0                      Sexta   \n",
      "\n",
      "    Data_Ultima_Falta Evadiu  \n",
      "0          2024-01-18    Sim  \n",
      "1          2024-03-24    Não  \n",
      "2          2024-03-10    Não  \n",
      "3          2024-01-21    Não  \n",
      "4          2024-02-18    Não  \n",
      "..                ...    ...  \n",
      "214        2024-02-09    Não  \n",
      "215        2024-03-28    Não  \n",
      "216        2024-01-24    Não  \n",
      "217        2024-02-07    Não  \n",
      "218        2024-02-18    Não  \n",
      "\n",
      "[219 rows x 7 columns]\n"
     ]
    },
    {
     "name": "stderr",
     "output_type": "stream",
     "text": [
      "C:\\Users\\36188635861\\AppData\\Local\\Temp\\ipykernel_14348\\651183491.py:32: FutureWarning: Setting an item of incompatible dtype is deprecated and will raise an error in a future version of pandas. Value 'Faltas Suspeitas' has dtype incompatible with int64, please explicitly cast to a compatible dtype first.\n",
      "  df.loc[df['Faltas'] > 10, 'Faltas'] = 'Faltas Suspeitas'\n"
     ]
    }
   ],
   "source": [
    "# Exercício 3 – Correções e Detecção de Outliers\n",
    "# a) Converta a coluna Faltas para tipo inteiro.\n",
    "# b) Substitua outliers de faltas por np.nan e depois pela mediana.\n",
    "# c) Crie um flag “Faltas_Suspeitas” para valores &gt; 10.\n",
    "\n",
    "\n",
    "# b) Substituir outliers por np.nan\n",
    "# Calcular os quartis Q1 e Q3\n",
    "Q1 = df['Faltas'].quantile(0.25)\n",
    "Q3 = df['Faltas'].quantile(0.75)\n",
    "\n",
    "# Calcular o IQR\n",
    "IQR = Q3 - Q1\n",
    "\n",
    "# Definir os limites inferior e superior\n",
    "limite_inferior = Q1 - 1.5 * IQR\n",
    "limite_superior = Q3 + 1.5 * IQR\n",
    "\n",
    "# Identificar outliers\n",
    "outliers = df[(df['Faltas'] < limite_inferior) | (df['Faltas'] > limite_superior)]\n",
    "\n",
    "# print(\"Outliers:\")\n",
    "# print(outliers)\n",
    "\n",
    "df.loc[(df['Faltas'] < limite_inferior) | (df['Faltas'] > limite_superior), 'Faltas'] = np.nan\n",
    "\n",
    "\n",
    "np.nan = df[\"Faltas\"].median()\n",
    "\n",
    "# Preencher os NaNs com a mediana da coluna\n",
    "\n",
    "df.loc[df['Faltas'] > 10, 'Faltas'] = 'Faltas Suspeitas'\n",
    "\n",
    "print(df)\n"
   ]
  },
  {
   "cell_type": "code",
   "execution_count": 35,
   "metadata": {},
   "outputs": [
    {
     "name": "stdout",
     "output_type": "stream",
     "text": [
      "Evasão Total\n",
      "21\n",
      "Evasão Tarde\n",
      "10\n",
      "Desvio padrão por falta\n",
      "Turno\n",
      "Manha    1.195879\n",
      "Manhã    1.570450\n",
      "Tarde    1.430269\n",
      "Name: Faltas, dtype: float64\n"
     ]
    }
   ],
   "source": [
    "Evasao = df.loc[df['Evadiu'] == \"Sim\", 'Faltas'].count()\n",
    "\n",
    "print(\"Evasão Total\")\n",
    "print(Evasao)\n",
    "\n",
    "Evasao_Tarde = df.loc[(df['Turno'] == \"Tarde\") & (df['Evadiu'] == \"Sim\"), 'Faltas'].count()\n",
    "\n",
    "print(\"Evasão Tarde\")\n",
    "print(Evasao_Tarde)\n",
    "\n",
    "#Desvio_Falta = df['Faltas'].pct_change()*100\n",
    "\n",
    "Desvio_Falta = df.groupby('Turno')['Faltas'].std()\n",
    "print(\"Desvio padrão por falta\")\n",
    "print(Desvio_Falta)"
   ]
  },
  {
   "cell_type": "code",
   "execution_count": 36,
   "metadata": {},
   "outputs": [
    {
     "name": "stdout",
     "output_type": "stream",
     "text": [
      "Data_Mes\n",
      "2024-01    68\n",
      "2024-02    70\n",
      "2024-03    70\n",
      "Freq: M, Name: Faltas, dtype: int64\n",
      "Semana_Ultima_Falta\n",
      "2024-01-01/2024-01-07    19\n",
      "2024-01-08/2024-01-14    14\n",
      "2024-01-15/2024-01-21    17\n",
      "2024-01-22/2024-01-28    11\n",
      "2024-01-29/2024-02-04    16\n",
      "2024-02-05/2024-02-11    19\n",
      "2024-02-12/2024-02-18    20\n",
      "2024-02-19/2024-02-25    14\n",
      "2024-02-26/2024-03-03    14\n",
      "2024-03-04/2024-03-10     7\n",
      "2024-03-11/2024-03-17    20\n",
      "2024-03-18/2024-03-24    22\n",
      "2024-03-25/2024-03-31    15\n",
      "Freq: W-SUN, Name: Faltas, dtype: int64\n",
      "Dia_da_Semana_Ultima_Falta\n",
      "Quarta     35\n",
      "Quinta     37\n",
      "Segunda    74\n",
      "Sexta      38\n",
      "Terça      35\n",
      "Name: Faltas, dtype: int64\n"
     ]
    }
   ],
   "source": [
    "df['Data_Mes'] = df['Data_Ultima_Falta'].dt.to_period('M')\n",
    "\n",
    "Mes_Mais_Faltas = df.groupby('Data_Mes')['Faltas'].count()\n",
    "\n",
    "print(Mes_Mais_Faltas)\n",
    "\n",
    "\n",
    "df['Semana_Ultima_Falta'] = df['Data_Ultima_Falta'].dt.to_period('W')\n",
    "\n",
    "Semana_Mais_Faltas = df.groupby('Semana_Ultima_Falta')['Faltas'].count()\n",
    "\n",
    "print(Semana_Mais_Faltas)\n",
    "\n",
    "Dia_Mais_Faltas = df.groupby('Dia_da_Semana_Ultima_Falta')['Faltas'].count()\n",
    "\n",
    "print(Dia_Mais_Faltas)\n",
    "\n",
    "\n"
   ]
  },
  {
   "cell_type": "code",
   "execution_count": 41,
   "metadata": {},
   "outputs": [
    {
     "ename": "TypeError",
     "evalue": "'>' not supported between instances of 'str' and 'int'",
     "output_type": "error",
     "traceback": [
      "\u001b[31m---------------------------------------------------------------------------\u001b[39m",
      "\u001b[31mTypeError\u001b[39m                                 Traceback (most recent call last)",
      "\u001b[36mCell\u001b[39m\u001b[36m \u001b[39m\u001b[32mIn[41]\u001b[39m\u001b[32m, line 10\u001b[39m\n\u001b[32m      8\u001b[39m df[\u001b[33m'\u001b[39m\u001b[33mRisco_Evasao\u001b[39m\u001b[33m'\u001b[39m] = df[\u001b[33m'\u001b[39m\u001b[33mFaltas\u001b[39m\u001b[33m'\u001b[39m]\n\u001b[32m      9\u001b[39m df.loc[df[\u001b[33m'\u001b[39m\u001b[33mRisco_Evasao\u001b[39m\u001b[33m'\u001b[39m] <= \u001b[32m4\u001b[39m, \u001b[33m'\u001b[39m\u001b[33mRisco_Evasao\u001b[39m\u001b[33m'\u001b[39m] = \u001b[33m'\u001b[39m\u001b[33mBaixo\u001b[39m\u001b[33m'\u001b[39m\n\u001b[32m---> \u001b[39m\u001b[32m10\u001b[39m df.loc[\u001b[43mdf\u001b[49m\u001b[43m[\u001b[49m\u001b[33;43m'\u001b[39;49m\u001b[33;43mRisco_Evasao\u001b[39;49m\u001b[33;43m'\u001b[39;49m\u001b[43m]\u001b[49m\u001b[43m \u001b[49m\u001b[43m>\u001b[49m\u001b[43m \u001b[49m\u001b[32;43m5\u001b[39;49m, \u001b[33m'\u001b[39m\u001b[33mRisco_Evasao\u001b[39m\u001b[33m'\u001b[39m] = \u001b[33m'\u001b[39m\u001b[33mModerado\u001b[39m\u001b[33m'\u001b[39m\n\u001b[32m     12\u001b[39m \u001b[38;5;28mprint\u001b[39m(df[\u001b[33m'\u001b[39m\u001b[33mRisco_Evasao\u001b[39m\u001b[33m'\u001b[39m])\n",
      "\u001b[36mFile \u001b[39m\u001b[32m~\\AppData\\Roaming\\Python\\Python312\\site-packages\\pandas\\core\\ops\\common.py:76\u001b[39m, in \u001b[36m_unpack_zerodim_and_defer.<locals>.new_method\u001b[39m\u001b[34m(self, other)\u001b[39m\n\u001b[32m     72\u001b[39m             \u001b[38;5;28;01mreturn\u001b[39;00m \u001b[38;5;28mNotImplemented\u001b[39m\n\u001b[32m     74\u001b[39m other = item_from_zerodim(other)\n\u001b[32m---> \u001b[39m\u001b[32m76\u001b[39m \u001b[38;5;28;01mreturn\u001b[39;00m \u001b[43mmethod\u001b[49m\u001b[43m(\u001b[49m\u001b[38;5;28;43mself\u001b[39;49m\u001b[43m,\u001b[49m\u001b[43m \u001b[49m\u001b[43mother\u001b[49m\u001b[43m)\u001b[49m\n",
      "\u001b[36mFile \u001b[39m\u001b[32m~\\AppData\\Roaming\\Python\\Python312\\site-packages\\pandas\\core\\arraylike.py:56\u001b[39m, in \u001b[36mOpsMixin.__gt__\u001b[39m\u001b[34m(self, other)\u001b[39m\n\u001b[32m     54\u001b[39m \u001b[38;5;129m@unpack_zerodim_and_defer\u001b[39m(\u001b[33m\"\u001b[39m\u001b[33m__gt__\u001b[39m\u001b[33m\"\u001b[39m)\n\u001b[32m     55\u001b[39m \u001b[38;5;28;01mdef\u001b[39;00m\u001b[38;5;250m \u001b[39m\u001b[34m__gt__\u001b[39m(\u001b[38;5;28mself\u001b[39m, other):\n\u001b[32m---> \u001b[39m\u001b[32m56\u001b[39m     \u001b[38;5;28;01mreturn\u001b[39;00m \u001b[38;5;28;43mself\u001b[39;49m\u001b[43m.\u001b[49m\u001b[43m_cmp_method\u001b[49m\u001b[43m(\u001b[49m\u001b[43mother\u001b[49m\u001b[43m,\u001b[49m\u001b[43m \u001b[49m\u001b[43moperator\u001b[49m\u001b[43m.\u001b[49m\u001b[43mgt\u001b[49m\u001b[43m)\u001b[49m\n",
      "\u001b[36mFile \u001b[39m\u001b[32m~\\AppData\\Roaming\\Python\\Python312\\site-packages\\pandas\\core\\series.py:6119\u001b[39m, in \u001b[36mSeries._cmp_method\u001b[39m\u001b[34m(self, other, op)\u001b[39m\n\u001b[32m   6116\u001b[39m lvalues = \u001b[38;5;28mself\u001b[39m._values\n\u001b[32m   6117\u001b[39m rvalues = extract_array(other, extract_numpy=\u001b[38;5;28;01mTrue\u001b[39;00m, extract_range=\u001b[38;5;28;01mTrue\u001b[39;00m)\n\u001b[32m-> \u001b[39m\u001b[32m6119\u001b[39m res_values = \u001b[43mops\u001b[49m\u001b[43m.\u001b[49m\u001b[43mcomparison_op\u001b[49m\u001b[43m(\u001b[49m\u001b[43mlvalues\u001b[49m\u001b[43m,\u001b[49m\u001b[43m \u001b[49m\u001b[43mrvalues\u001b[49m\u001b[43m,\u001b[49m\u001b[43m \u001b[49m\u001b[43mop\u001b[49m\u001b[43m)\u001b[49m\n\u001b[32m   6121\u001b[39m \u001b[38;5;28;01mreturn\u001b[39;00m \u001b[38;5;28mself\u001b[39m._construct_result(res_values, name=res_name)\n",
      "\u001b[36mFile \u001b[39m\u001b[32m~\\AppData\\Roaming\\Python\\Python312\\site-packages\\pandas\\core\\ops\\array_ops.py:344\u001b[39m, in \u001b[36mcomparison_op\u001b[39m\u001b[34m(left, right, op)\u001b[39m\n\u001b[32m    341\u001b[39m     \u001b[38;5;28;01mreturn\u001b[39;00m invalid_comparison(lvalues, rvalues, op)\n\u001b[32m    343\u001b[39m \u001b[38;5;28;01melif\u001b[39;00m lvalues.dtype == \u001b[38;5;28mobject\u001b[39m \u001b[38;5;129;01mor\u001b[39;00m \u001b[38;5;28misinstance\u001b[39m(rvalues, \u001b[38;5;28mstr\u001b[39m):\n\u001b[32m--> \u001b[39m\u001b[32m344\u001b[39m     res_values = \u001b[43mcomp_method_OBJECT_ARRAY\u001b[49m\u001b[43m(\u001b[49m\u001b[43mop\u001b[49m\u001b[43m,\u001b[49m\u001b[43m \u001b[49m\u001b[43mlvalues\u001b[49m\u001b[43m,\u001b[49m\u001b[43m \u001b[49m\u001b[43mrvalues\u001b[49m\u001b[43m)\u001b[49m\n\u001b[32m    346\u001b[39m \u001b[38;5;28;01melse\u001b[39;00m:\n\u001b[32m    347\u001b[39m     res_values = _na_arithmetic_op(lvalues, rvalues, op, is_cmp=\u001b[38;5;28;01mTrue\u001b[39;00m)\n",
      "\u001b[36mFile \u001b[39m\u001b[32m~\\AppData\\Roaming\\Python\\Python312\\site-packages\\pandas\\core\\ops\\array_ops.py:129\u001b[39m, in \u001b[36mcomp_method_OBJECT_ARRAY\u001b[39m\u001b[34m(op, x, y)\u001b[39m\n\u001b[32m    127\u001b[39m     result = libops.vec_compare(x.ravel(), y.ravel(), op)\n\u001b[32m    128\u001b[39m \u001b[38;5;28;01melse\u001b[39;00m:\n\u001b[32m--> \u001b[39m\u001b[32m129\u001b[39m     result = \u001b[43mlibops\u001b[49m\u001b[43m.\u001b[49m\u001b[43mscalar_compare\u001b[49m\u001b[43m(\u001b[49m\u001b[43mx\u001b[49m\u001b[43m.\u001b[49m\u001b[43mravel\u001b[49m\u001b[43m(\u001b[49m\u001b[43m)\u001b[49m\u001b[43m,\u001b[49m\u001b[43m \u001b[49m\u001b[43my\u001b[49m\u001b[43m,\u001b[49m\u001b[43m \u001b[49m\u001b[43mop\u001b[49m\u001b[43m)\u001b[49m\n\u001b[32m    130\u001b[39m \u001b[38;5;28;01mreturn\u001b[39;00m result.reshape(x.shape)\n",
      "\u001b[36mFile \u001b[39m\u001b[32mops.pyx:107\u001b[39m, in \u001b[36mpandas._libs.ops.scalar_compare\u001b[39m\u001b[34m()\u001b[39m\n",
      "\u001b[31mTypeError\u001b[39m: '>' not supported between instances of 'str' and 'int'"
     ]
    }
   ],
   "source": [
    "# df['Risco_Evasao'] = pd.cut(\n",
    "#     df['Faltas'],\n",
    "#     bins=[float('inf'), 5, 10, float('inf')],\n",
    "#     labels=['Baixo', 'Moderado', 'Alto']\n",
    "# )\n",
    "\n",
    "# print(df)\n",
    "df['Risco_Evasao'] = df['Faltas']\n",
    "df.loc[df['Risco_Evasao'] <= 4, 'Risco_Evasao'] = 'Baixo'\n",
    "df.loc[df['Risco_Evasao'] > 5, 'Risco_Evasao'] = 'Moderado'\n",
    "\n",
    "\n",
    "print(df['Risco_Evasao'])\n",
    "\n"
   ]
  }
 ],
 "metadata": {
  "kernelspec": {
   "display_name": "Python 3",
   "language": "python",
   "name": "python3"
  },
  "language_info": {
   "codemirror_mode": {
    "name": "ipython",
    "version": 3
   },
   "file_extension": ".py",
   "mimetype": "text/x-python",
   "name": "python",
   "nbconvert_exporter": "python",
   "pygments_lexer": "ipython3",
   "version": "3.12.1"
  }
 },
 "nbformat": 4,
 "nbformat_minor": 2
}
