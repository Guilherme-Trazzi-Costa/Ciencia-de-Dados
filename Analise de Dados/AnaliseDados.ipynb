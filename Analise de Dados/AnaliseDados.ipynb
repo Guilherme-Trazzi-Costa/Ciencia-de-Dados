{
 "cells": [
  {
   "cell_type": "code",
   "execution_count": 56,
   "metadata": {},
   "outputs": [],
   "source": [
    "import pandas as pd\n",
    "import numpy as  np\n",
    "import seaborn as sns\n",
    "import matplotlib.pyplot as plt\n",
    "\n",
    "df = pd.read_excel(\"faltas_treinamento_sujo.xlsx\")"
   ]
  },
  {
   "cell_type": "code",
   "execution_count": 57,
   "metadata": {},
   "outputs": [
    {
     "name": "stdout",
     "output_type": "stream",
     "text": [
      "Nome                           0\n",
      "Departamento                   0\n",
      "Turno                          0\n",
      "Faltas                         0\n",
      "Dia_da_Semana_Ultima_Falta     0\n",
      "Data_Ultima_Falta              0\n",
      "Evadiu                        14\n",
      "dtype: int64\n",
      "                Nome Departamento  Turno  Faltas Dia_da_Semana_Ultima_Falta  \\\n",
      "0    Colaborador_001    Operações  Manhã      14                     Quarta   \n",
      "1    Colaborador_002    Operações  Manhã       1                    Segunda   \n",
      "2    Colaborador_003       Vendas  Manhã       3                    Segunda   \n",
      "3    Colaborador_004    Marketing  Manha       3                    Segunda   \n",
      "4    Colaborador_005           RH  Manha       1                     Quarta   \n",
      "..               ...          ...    ...     ...                        ...   \n",
      "219  Colaborador_056    Operações  Tarde       2                    Segunda   \n",
      "220  Colaborador_102       Vendas  Manha       3                    Segunda   \n",
      "221  Colaborador_188       Vendas  Manhã       3                    Segunda   \n",
      "222  Colaborador_147    Marketing  Tarde       1                    Segunda   \n",
      "223  Colaborador_092       Vendas  Manhã       0                     Quinta   \n",
      "\n",
      "    Data_Ultima_Falta Evadiu  \n",
      "0          2024-01-18    Sim  \n",
      "1                 NaT    Não  \n",
      "2          2024-03-10    Não  \n",
      "3          2024-01-21    Não  \n",
      "4          2024-02-18    Não  \n",
      "..                ...    ...  \n",
      "219        2024-01-05    Não  \n",
      "220        2024-02-15    Não  \n",
      "221        2024-02-04    NaN  \n",
      "222        2024-02-02    Não  \n",
      "223        2024-01-09    Não  \n",
      "\n",
      "[224 rows x 7 columns]\n"
     ]
    },
    {
     "name": "stderr",
     "output_type": "stream",
     "text": [
      "C:\\Users\\36188635861\\AppData\\Local\\Temp\\ipykernel_1460\\33095675.py:21: UserWarning: Parsing dates in %d/%m/%Y format when dayfirst=False (the default) was specified. Pass `dayfirst=True` or specify a format to silence this warning.\n",
      "  df['Data_Ultima_Falta'] = pd.to_datetime(df['Data_Ultima_Falta'], errors= 'coerce')\n"
     ]
    }
   ],
   "source": [
    "#a) Verifique valores nulos e tipos incorretos.\n",
    "#b) Corrija a coluna de datas inválidas.\n",
    "#c) Normalize os nomes dos turnos e dias da semana.\n",
    "\n",
    "# Contar os valores ausentes\n",
    "print(df.isnull().sum())\n",
    "\n",
    "\n",
    "df['Nome'].str.split().str.title()\n",
    "\n",
    "df['Departamento'].str.split().str.title()\n",
    "\n",
    "df['Turno'].str.split().str.title()\n",
    "df[\"Turno\"] = df[\"Turno\"].str.title().replace({\"manha\": \"Manhã\"})\n",
    "\n",
    "df['Faltas'].astype(int)\n",
    "\n",
    "df['Dia_da_Semana_Ultima_Falta'].str.split().str.title()\n",
    "df[\"Dia_da_Semana_Ultima_Falta\"] = df[\"Dia_da_Semana_Ultima_Falta\"].str.title().replace({\"segunda\": \"Segunda\"})\n",
    "\n",
    "df['Data_Ultima_Falta'] = pd.to_datetime(df['Data_Ultima_Falta'], errors= 'coerce')\n",
    "\n",
    "df['Evadiu'].str.split().str.title()\n",
    "\n",
    "print(df)\n",
    "\n"
   ]
  },
  {
   "cell_type": "code",
   "execution_count": 58,
   "metadata": {},
   "outputs": [
    {
     "name": "stdout",
     "output_type": "stream",
     "text": [
      "                Nome Departamento  Turno  Faltas Dia_da_Semana_Ultima_Falta  \\\n",
      "0    Colaborador_001    Operações  Manhã      14                     Quarta   \n",
      "1    Colaborador_002    Operações  Manhã       1                    Segunda   \n",
      "2    Colaborador_003       Vendas  Manhã       3                    Segunda   \n",
      "3    Colaborador_004    Marketing  Manha       3                    Segunda   \n",
      "4    Colaborador_005           RH  Manha       1                     Quarta   \n",
      "..               ...          ...    ...     ...                        ...   \n",
      "214  Colaborador_215    Operações  Tarde       3                    Segunda   \n",
      "215  Colaborador_216    Operações  Manha       1                    Segunda   \n",
      "216  Colaborador_217   Financeiro  Tarde       2                    Segunda   \n",
      "217  Colaborador_218           RH  Tarde       1                      Terça   \n",
      "218  Colaborador_219   Financeiro  Manhã       0                      Sexta   \n",
      "\n",
      "    Data_Ultima_Falta Evadiu  \n",
      "0          2024-01-18    Sim  \n",
      "1          2024-03-24    Não  \n",
      "2          2024-03-10    Não  \n",
      "3          2024-01-21    Não  \n",
      "4          2024-02-18    Não  \n",
      "..                ...    ...  \n",
      "214        2024-02-09    Não  \n",
      "215        2024-03-28    Não  \n",
      "216        2024-01-24    Não  \n",
      "217        2024-02-07    Não  \n",
      "218        2024-02-18    Não  \n",
      "\n",
      "[219 rows x 7 columns]\n"
     ]
    },
    {
     "name": "stderr",
     "output_type": "stream",
     "text": [
      "C:\\Users\\36188635861\\AppData\\Local\\Temp\\ipykernel_1460\\4223386558.py:8: FutureWarning: A value is trying to be set on a copy of a DataFrame or Series through chained assignment using an inplace method.\n",
      "The behavior will change in pandas 3.0. This inplace method will never work because the intermediate object on which we are setting values always behaves as a copy.\n",
      "\n",
      "For example, when doing 'df[col].method(value, inplace=True)', try using 'df.method({col: value}, inplace=True)' or df[col] = df[col].method(value) instead, to perform the operation inplace on the original object.\n",
      "\n",
      "\n",
      "  df[\"Evadiu\"].fillna(\"Desconhecido\", inplace = True)\n",
      "C:\\Users\\36188635861\\AppData\\Local\\Temp\\ipykernel_1460\\4223386558.py:10: FutureWarning: A value is trying to be set on a copy of a DataFrame or Series through chained assignment using an inplace method.\n",
      "The behavior will change in pandas 3.0. This inplace method will never work because the intermediate object on which we are setting values always behaves as a copy.\n",
      "\n",
      "For example, when doing 'df[col].method(value, inplace=True)', try using 'df.method({col: value}, inplace=True)' or df[col] = df[col].method(value) instead, to perform the operation inplace on the original object.\n",
      "\n",
      "\n",
      "  df[\"Data_Ultima_Falta\"].fillna(df[\"Data_Ultima_Falta\"].mode(), inplace = True)\n"
     ]
    }
   ],
   "source": [
    "\n",
    "# Exercício 2 – Remoção e Substituição\n",
    "# a) Remova os registros duplicados.\n",
    "# b) Substitua os valores nulos da coluna Evadiu por “Desconhecido”.\n",
    "# c) Substitua os valores nulos da coluna Data_Ultima_Falta pela data mais comum.\n",
    "\n",
    "df = df.drop_duplicates(subset = [\"Nome\"])\n",
    "\n",
    "df[\"Evadiu\"].fillna(\"Desconhecido\", inplace = True)\n",
    "\n",
    "df[\"Data_Ultima_Falta\"].fillna(df[\"Data_Ultima_Falta\"].mode(), inplace = True)\n",
    "print(df)\n",
    "\n"
   ]
  },
  {
   "cell_type": "code",
   "execution_count": 59,
   "metadata": {},
   "outputs": [
    {
     "ename": "ValueError",
     "evalue": "The truth value of a Series is ambiguous. Use a.empty, a.bool(), a.item(), a.any() or a.all().",
     "output_type": "error",
     "traceback": [
      "\u001b[31m---------------------------------------------------------------------------\u001b[39m",
      "\u001b[31mValueError\u001b[39m                                Traceback (most recent call last)",
      "\u001b[32m~\\AppData\\Local\\Temp\\ipykernel_1460\\1494173051.py\u001b[39m in \u001b[36m?\u001b[39m\u001b[34m()\u001b[39m\n\u001b[32m      8\u001b[39m df[\u001b[33m\"Media_Faltas\"\u001b[39m] = df[\u001b[33m'Faltas'\u001b[39m].mean()\n\u001b[32m      9\u001b[39m \n\u001b[32m     10\u001b[39m df[\u001b[33m\"Diferença_Faltas\"\u001b[39m] = df[\u001b[33m\"Media_Faltas\"\u001b[39m] - df[\u001b[33m\"Faltas\"\u001b[39m]\n\u001b[32m     11\u001b[39m \n\u001b[32m---> \u001b[39m\u001b[32m12\u001b[39m \u001b[38;5;28;01mif\u001b[39;00m df[\u001b[33m\"Diferença_Faltas\"\u001b[39m] > \u001b[32m0\u001b[39m:\n\u001b[32m     13\u001b[39m     df[\u001b[33m'Faltas'\u001b[39m] = \u001b[33m\"np.nan\"\u001b[39m\n\u001b[32m     14\u001b[39m \u001b[38;5;28;01melif\u001b[39;00m df[\u001b[33m'Diferença_Faltas'\u001b[39m] < \u001b[32m0\u001b[39m:\n\u001b[32m     15\u001b[39m     df[\u001b[33m'Faltas'\u001b[39m] = \u001b[33m\"np.nan\"\u001b[39m\n",
      "\u001b[32m~\\AppData\\Roaming\\Python\\Python312\\site-packages\\pandas\\core\\generic.py\u001b[39m in \u001b[36m?\u001b[39m\u001b[34m(self)\u001b[39m\n\u001b[32m   1575\u001b[39m     @final\n\u001b[32m   1576\u001b[39m     \u001b[38;5;28;01mdef\u001b[39;00m __nonzero__(self) -> NoReturn:\n\u001b[32m-> \u001b[39m\u001b[32m1577\u001b[39m         raise ValueError(\n\u001b[32m   1578\u001b[39m             f\"The truth value of a {type(self).__name__} is ambiguous. \"\n\u001b[32m   1579\u001b[39m             \u001b[33m\"Use a.empty, a.bool(), a.item(), a.any() or a.all().\"\u001b[39m\n\u001b[32m   1580\u001b[39m         )\n",
      "\u001b[31mValueError\u001b[39m: The truth value of a Series is ambiguous. Use a.empty, a.bool(), a.item(), a.any() or a.all()."
     ]
    }
   ],
   "source": [
    "# Exercício 3 – Correções e Detecção de Outliers\n",
    "# a) Converta a coluna Faltas para tipo inteiro.\n",
    "# b) Substitua outliers de faltas por np.nan e depois pela mediana.\n",
    "# c) Crie um flag “Faltas_Suspeitas” para valores &gt; 10.\n",
    "\n",
    "df['Faltas'].astype(int)\n",
    "\n",
    "df[\"Media_Faltas\"] = df['Faltas'].mean()\n",
    "\n",
    "df[\"Diferença_Faltas\"] = df[\"Media_Faltas\"] - df[\"Faltas\"]\n",
    "\n",
    "if df[\"Diferença_Faltas\"] > 0:\n",
    "    df['Faltas'] = \"np.nan\"\n",
    "elif df['Diferença_Faltas'] < 0:\n",
    "    df['Faltas'] = \"np.nan\"\n",
    "\n",
    "print(df[[\"Faltas\", \"Diferença_Faltas\"]])\n",
    "\n",
    "\n",
    "# df.loc[df['Faltas'] > 3, 'Faltas'] = 'np.nan'\n",
    "\n",
    "# df['Faltas'] = df['Faltas'].fillna(df['Faltas'].median(), inplace= True)\n",
    "\n",
    "# print(df['Faltas'])\n",
    "\n",
    "\n"
   ]
  },
  {
   "cell_type": "code",
   "execution_count": null,
   "metadata": {},
   "outputs": [
    {
     "name": "stderr",
     "output_type": "stream",
     "text": [
      "C:\\Users\\36188635861\\AppData\\Local\\Temp\\ipykernel_1460\\732811325.py:10: FutureWarning: Setting an item of incompatible dtype is deprecated and will raise an error in a future version of pandas. Value 'np.nan' has dtype incompatible with float64, please explicitly cast to a compatible dtype first.\n",
      "  df.loc[df['Faltas'] > limite_superior, 'Faltas'] = \"np.nan\"\n"
     ]
    },
    {
     "ename": "TypeError",
     "evalue": "Cannot convert [nan 1.0 3.0 3.0 1.0 2.0 1.0 nan 2.0 2.0 1.0 0.0 4.0 2.0 1.0 3.0 2.0\n 'np.nan' 1.0 1.0 2.0 2.0 1.0 3.0 4.0 1.0 nan 1.0 4.0 4.0 2.0 0.0 0.0 2.0\n 2.0 2.0 1.0 'np.nan' 4.0 0.0 1.0 2.0 nan 0.0 2.0 2.0 3.0 1.0 nan 2.0 2.0\n 1.0 3.0 2.0 3.0 2.0 0.0 2.0 1.0 1.0 3.0 nan 4.0 2.0 0.0 4.0 'np.nan' 2.0\n 0.0 0.0 1.0 1.0 2.0 2.0 'np.nan' 1.0 2.0 4.0 1.0 2.0 1.0 4.0 'np.nan' 2.0\n 1.0 3.0 2.0 'np.nan' 'np.nan' 'np.nan' 1.0 0.0 1.0 2.0 1.0 0.0 nan 2.0\n 1.0 0.0 3.0 3.0 1.0 0.0 0.0 4.0 1.0 3.0 4.0 1.0 1.0 0.0 0.0 0.0 3.0 2.0\n 2.0 1.0 2.0 2.0 0.0 1.0 3.0 4.0 3.0 0.0 0.0 0.0 1.0 2.0 2.0 'np.nan' 1.0\n 3.0 4.0 2.0 3.0 2.0 1.0 4.0 1.0 3.0 1.0 1.0 3.0 0.0 1.0 1.0 0.0 1.0 2.0\n 0.0 3.0 4.0 4.0 1.0 1.0 0.0 0.0 4.0 2.0 1.0 1.0 3.0 4.0 4.0 3.0 2.0 2.0\n 0.0 4.0 2.0 'np.nan' 2.0 0.0 3.0 'np.nan' 1.0 0.0 nan 1.0 2.0 3.0 4.0 3.0\n 0.0 0.0 3.0 1.0 2.0 3.0 'np.nan' 2.0 3.0 nan 0.0 0.0 1.0 1.0 nan 1.0 0.0\n 1.0 1.0 0.0 1.0 2.0 nan 2.0 2.0 3.0 1.0 2.0 2.0 3.0 1.0 2.0 1.0 0.0] to numeric",
     "output_type": "error",
     "traceback": [
      "\u001b[31m---------------------------------------------------------------------------\u001b[39m",
      "\u001b[31mTypeError\u001b[39m                                 Traceback (most recent call last)",
      "\u001b[36mCell\u001b[39m\u001b[36m \u001b[39m\u001b[32mIn[55]\u001b[39m\u001b[32m, line 14\u001b[39m\n\u001b[32m     10\u001b[39m df.loc[df[\u001b[33m'\u001b[39m\u001b[33mFaltas\u001b[39m\u001b[33m'\u001b[39m] > limite_superior, \u001b[33m'\u001b[39m\u001b[33mFaltas\u001b[39m\u001b[33m'\u001b[39m] = \u001b[33m\"\u001b[39m\u001b[33mnp.nan\u001b[39m\u001b[33m\"\u001b[39m\n\u001b[32m     12\u001b[39m \u001b[38;5;66;03m# Preencher os NaNs com a mediana da coluna\u001b[39;00m\n\u001b[32m---> \u001b[39m\u001b[32m14\u001b[39m df[\u001b[33m\"\u001b[39m\u001b[33mFaltas\u001b[39m\u001b[33m\"\u001b[39m].replace(\u001b[33m\"\u001b[39m\u001b[33mnp.nan\u001b[39m\u001b[33m\"\u001b[39m, \u001b[43mdf\u001b[49m\u001b[43m[\u001b[49m\u001b[33;43m\"\u001b[39;49m\u001b[33;43mFaltas\u001b[39;49m\u001b[33;43m\"\u001b[39;49m\u001b[43m]\u001b[49m\u001b[43m.\u001b[49m\u001b[43mmedian\u001b[49m\u001b[43m(\u001b[49m\u001b[43m)\u001b[49m)\n\u001b[32m     15\u001b[39m \u001b[38;5;66;03m# mediana = df['Faltas'].median()\u001b[39;00m\n\u001b[32m     16\u001b[39m \u001b[38;5;66;03m# df['Faltas'] = df['Faltas'].fillna(mediana).astype(int)\u001b[39;00m\n\u001b[32m     17\u001b[39m \n\u001b[32m     18\u001b[39m \u001b[38;5;66;03m# c) Criar flag “Faltas_Suspeitas” para valores > 10\u001b[39;00m\n\u001b[32m     19\u001b[39m df[\u001b[33m'\u001b[39m\u001b[33mFaltas_Suspeitas\u001b[39m\u001b[33m'\u001b[39m] = df[\u001b[33m'\u001b[39m\u001b[33mFaltas\u001b[39m\u001b[33m'\u001b[39m] > \u001b[32m10\u001b[39m\n",
      "\u001b[36mFile \u001b[39m\u001b[32m~\\AppData\\Roaming\\Python\\Python312\\site-packages\\pandas\\core\\series.py:6559\u001b[39m, in \u001b[36mSeries.median\u001b[39m\u001b[34m(self, axis, skipna, numeric_only, **kwargs)\u001b[39m\n\u001b[32m   6551\u001b[39m \u001b[38;5;129m@doc\u001b[39m(make_doc(\u001b[33m\"\u001b[39m\u001b[33mmedian\u001b[39m\u001b[33m\"\u001b[39m, ndim=\u001b[32m1\u001b[39m))\n\u001b[32m   6552\u001b[39m \u001b[38;5;28;01mdef\u001b[39;00m\u001b[38;5;250m \u001b[39m\u001b[34mmedian\u001b[39m(\n\u001b[32m   6553\u001b[39m     \u001b[38;5;28mself\u001b[39m,\n\u001b[32m   (...)\u001b[39m\u001b[32m   6557\u001b[39m     **kwargs,\n\u001b[32m   6558\u001b[39m ):\n\u001b[32m-> \u001b[39m\u001b[32m6559\u001b[39m     \u001b[38;5;28;01mreturn\u001b[39;00m \u001b[43mNDFrame\u001b[49m\u001b[43m.\u001b[49m\u001b[43mmedian\u001b[49m\u001b[43m(\u001b[49m\u001b[38;5;28;43mself\u001b[39;49m\u001b[43m,\u001b[49m\u001b[43m \u001b[49m\u001b[43maxis\u001b[49m\u001b[43m,\u001b[49m\u001b[43m \u001b[49m\u001b[43mskipna\u001b[49m\u001b[43m,\u001b[49m\u001b[43m \u001b[49m\u001b[43mnumeric_only\u001b[49m\u001b[43m,\u001b[49m\u001b[43m \u001b[49m\u001b[43m*\u001b[49m\u001b[43m*\u001b[49m\u001b[43mkwargs\u001b[49m\u001b[43m)\u001b[49m\n",
      "\u001b[36mFile \u001b[39m\u001b[32m~\\AppData\\Roaming\\Python\\Python312\\site-packages\\pandas\\core\\generic.py:12431\u001b[39m, in \u001b[36mNDFrame.median\u001b[39m\u001b[34m(self, axis, skipna, numeric_only, **kwargs)\u001b[39m\n\u001b[32m  12424\u001b[39m \u001b[38;5;28;01mdef\u001b[39;00m\u001b[38;5;250m \u001b[39m\u001b[34mmedian\u001b[39m(\n\u001b[32m  12425\u001b[39m     \u001b[38;5;28mself\u001b[39m,\n\u001b[32m  12426\u001b[39m     axis: Axis | \u001b[38;5;28;01mNone\u001b[39;00m = \u001b[32m0\u001b[39m,\n\u001b[32m   (...)\u001b[39m\u001b[32m  12429\u001b[39m     **kwargs,\n\u001b[32m  12430\u001b[39m ) -> Series | \u001b[38;5;28mfloat\u001b[39m:\n\u001b[32m> \u001b[39m\u001b[32m12431\u001b[39m     \u001b[38;5;28;01mreturn\u001b[39;00m \u001b[38;5;28;43mself\u001b[39;49m\u001b[43m.\u001b[49m\u001b[43m_stat_function\u001b[49m\u001b[43m(\u001b[49m\n\u001b[32m  12432\u001b[39m \u001b[43m        \u001b[49m\u001b[33;43m\"\u001b[39;49m\u001b[33;43mmedian\u001b[39;49m\u001b[33;43m\"\u001b[39;49m\u001b[43m,\u001b[49m\u001b[43m \u001b[49m\u001b[43mnanops\u001b[49m\u001b[43m.\u001b[49m\u001b[43mnanmedian\u001b[49m\u001b[43m,\u001b[49m\u001b[43m \u001b[49m\u001b[43maxis\u001b[49m\u001b[43m,\u001b[49m\u001b[43m \u001b[49m\u001b[43mskipna\u001b[49m\u001b[43m,\u001b[49m\u001b[43m \u001b[49m\u001b[43mnumeric_only\u001b[49m\u001b[43m,\u001b[49m\u001b[43m \u001b[49m\u001b[43m*\u001b[49m\u001b[43m*\u001b[49m\u001b[43mkwargs\u001b[49m\n\u001b[32m  12433\u001b[39m \u001b[43m    \u001b[49m\u001b[43m)\u001b[49m\n",
      "\u001b[36mFile \u001b[39m\u001b[32m~\\AppData\\Roaming\\Python\\Python312\\site-packages\\pandas\\core\\generic.py:12377\u001b[39m, in \u001b[36mNDFrame._stat_function\u001b[39m\u001b[34m(self, name, func, axis, skipna, numeric_only, **kwargs)\u001b[39m\n\u001b[32m  12373\u001b[39m nv.validate_func(name, (), kwargs)\n\u001b[32m  12375\u001b[39m validate_bool_kwarg(skipna, \u001b[33m\"\u001b[39m\u001b[33mskipna\u001b[39m\u001b[33m\"\u001b[39m, none_allowed=\u001b[38;5;28;01mFalse\u001b[39;00m)\n\u001b[32m> \u001b[39m\u001b[32m12377\u001b[39m \u001b[38;5;28;01mreturn\u001b[39;00m \u001b[38;5;28;43mself\u001b[39;49m\u001b[43m.\u001b[49m\u001b[43m_reduce\u001b[49m\u001b[43m(\u001b[49m\n\u001b[32m  12378\u001b[39m \u001b[43m    \u001b[49m\u001b[43mfunc\u001b[49m\u001b[43m,\u001b[49m\u001b[43m \u001b[49m\u001b[43mname\u001b[49m\u001b[43m=\u001b[49m\u001b[43mname\u001b[49m\u001b[43m,\u001b[49m\u001b[43m \u001b[49m\u001b[43maxis\u001b[49m\u001b[43m=\u001b[49m\u001b[43maxis\u001b[49m\u001b[43m,\u001b[49m\u001b[43m \u001b[49m\u001b[43mskipna\u001b[49m\u001b[43m=\u001b[49m\u001b[43mskipna\u001b[49m\u001b[43m,\u001b[49m\u001b[43m \u001b[49m\u001b[43mnumeric_only\u001b[49m\u001b[43m=\u001b[49m\u001b[43mnumeric_only\u001b[49m\n\u001b[32m  12379\u001b[39m \u001b[43m\u001b[49m\u001b[43m)\u001b[49m\n",
      "\u001b[36mFile \u001b[39m\u001b[32m~\\AppData\\Roaming\\Python\\Python312\\site-packages\\pandas\\core\\series.py:6457\u001b[39m, in \u001b[36mSeries._reduce\u001b[39m\u001b[34m(self, op, name, axis, skipna, numeric_only, filter_type, **kwds)\u001b[39m\n\u001b[32m   6452\u001b[39m     \u001b[38;5;66;03m# GH#47500 - change to TypeError to match other methods\u001b[39;00m\n\u001b[32m   6453\u001b[39m     \u001b[38;5;28;01mraise\u001b[39;00m \u001b[38;5;167;01mTypeError\u001b[39;00m(\n\u001b[32m   6454\u001b[39m         \u001b[33mf\u001b[39m\u001b[33m\"\u001b[39m\u001b[33mSeries.\u001b[39m\u001b[38;5;132;01m{\u001b[39;00mname\u001b[38;5;132;01m}\u001b[39;00m\u001b[33m does not allow \u001b[39m\u001b[38;5;132;01m{\u001b[39;00mkwd_name\u001b[38;5;132;01m}\u001b[39;00m\u001b[33m=\u001b[39m\u001b[38;5;132;01m{\u001b[39;00mnumeric_only\u001b[38;5;132;01m}\u001b[39;00m\u001b[33m \u001b[39m\u001b[33m\"\u001b[39m\n\u001b[32m   6455\u001b[39m         \u001b[33m\"\u001b[39m\u001b[33mwith non-numeric dtypes.\u001b[39m\u001b[33m\"\u001b[39m\n\u001b[32m   6456\u001b[39m     )\n\u001b[32m-> \u001b[39m\u001b[32m6457\u001b[39m \u001b[38;5;28;01mreturn\u001b[39;00m \u001b[43mop\u001b[49m\u001b[43m(\u001b[49m\u001b[43mdelegate\u001b[49m\u001b[43m,\u001b[49m\u001b[43m \u001b[49m\u001b[43mskipna\u001b[49m\u001b[43m=\u001b[49m\u001b[43mskipna\u001b[49m\u001b[43m,\u001b[49m\u001b[43m \u001b[49m\u001b[43m*\u001b[49m\u001b[43m*\u001b[49m\u001b[43mkwds\u001b[49m\u001b[43m)\u001b[49m\n",
      "\u001b[36mFile \u001b[39m\u001b[32m~\\AppData\\Roaming\\Python\\Python312\\site-packages\\pandas\\core\\nanops.py:147\u001b[39m, in \u001b[36mbottleneck_switch.__call__.<locals>.f\u001b[39m\u001b[34m(values, axis, skipna, **kwds)\u001b[39m\n\u001b[32m    145\u001b[39m         result = alt(values, axis=axis, skipna=skipna, **kwds)\n\u001b[32m    146\u001b[39m \u001b[38;5;28;01melse\u001b[39;00m:\n\u001b[32m--> \u001b[39m\u001b[32m147\u001b[39m     result = \u001b[43malt\u001b[49m\u001b[43m(\u001b[49m\u001b[43mvalues\u001b[49m\u001b[43m,\u001b[49m\u001b[43m \u001b[49m\u001b[43maxis\u001b[49m\u001b[43m=\u001b[49m\u001b[43maxis\u001b[49m\u001b[43m,\u001b[49m\u001b[43m \u001b[49m\u001b[43mskipna\u001b[49m\u001b[43m=\u001b[49m\u001b[43mskipna\u001b[49m\u001b[43m,\u001b[49m\u001b[43m \u001b[49m\u001b[43m*\u001b[49m\u001b[43m*\u001b[49m\u001b[43mkwds\u001b[49m\u001b[43m)\u001b[49m\n\u001b[32m    149\u001b[39m \u001b[38;5;28;01mreturn\u001b[39;00m result\n",
      "\u001b[36mFile \u001b[39m\u001b[32m~\\AppData\\Roaming\\Python\\Python312\\site-packages\\pandas\\core\\nanops.py:787\u001b[39m, in \u001b[36mnanmedian\u001b[39m\u001b[34m(values, axis, skipna, mask)\u001b[39m\n\u001b[32m    785\u001b[39m     inferred = lib.infer_dtype(values)\n\u001b[32m    786\u001b[39m     \u001b[38;5;28;01mif\u001b[39;00m inferred \u001b[38;5;129;01min\u001b[39;00m [\u001b[33m\"\u001b[39m\u001b[33mstring\u001b[39m\u001b[33m\"\u001b[39m, \u001b[33m\"\u001b[39m\u001b[33mmixed\u001b[39m\u001b[33m\"\u001b[39m]:\n\u001b[32m--> \u001b[39m\u001b[32m787\u001b[39m         \u001b[38;5;28;01mraise\u001b[39;00m \u001b[38;5;167;01mTypeError\u001b[39;00m(\u001b[33mf\u001b[39m\u001b[33m\"\u001b[39m\u001b[33mCannot convert \u001b[39m\u001b[38;5;132;01m{\u001b[39;00mvalues\u001b[38;5;132;01m}\u001b[39;00m\u001b[33m to numeric\u001b[39m\u001b[33m\"\u001b[39m)\n\u001b[32m    788\u001b[39m \u001b[38;5;28;01mtry\u001b[39;00m:\n\u001b[32m    789\u001b[39m     values = values.astype(\u001b[33m\"\u001b[39m\u001b[33mf8\u001b[39m\u001b[33m\"\u001b[39m)\n",
      "\u001b[31mTypeError\u001b[39m: Cannot convert [nan 1.0 3.0 3.0 1.0 2.0 1.0 nan 2.0 2.0 1.0 0.0 4.0 2.0 1.0 3.0 2.0\n 'np.nan' 1.0 1.0 2.0 2.0 1.0 3.0 4.0 1.0 nan 1.0 4.0 4.0 2.0 0.0 0.0 2.0\n 2.0 2.0 1.0 'np.nan' 4.0 0.0 1.0 2.0 nan 0.0 2.0 2.0 3.0 1.0 nan 2.0 2.0\n 1.0 3.0 2.0 3.0 2.0 0.0 2.0 1.0 1.0 3.0 nan 4.0 2.0 0.0 4.0 'np.nan' 2.0\n 0.0 0.0 1.0 1.0 2.0 2.0 'np.nan' 1.0 2.0 4.0 1.0 2.0 1.0 4.0 'np.nan' 2.0\n 1.0 3.0 2.0 'np.nan' 'np.nan' 'np.nan' 1.0 0.0 1.0 2.0 1.0 0.0 nan 2.0\n 1.0 0.0 3.0 3.0 1.0 0.0 0.0 4.0 1.0 3.0 4.0 1.0 1.0 0.0 0.0 0.0 3.0 2.0\n 2.0 1.0 2.0 2.0 0.0 1.0 3.0 4.0 3.0 0.0 0.0 0.0 1.0 2.0 2.0 'np.nan' 1.0\n 3.0 4.0 2.0 3.0 2.0 1.0 4.0 1.0 3.0 1.0 1.0 3.0 0.0 1.0 1.0 0.0 1.0 2.0\n 0.0 3.0 4.0 4.0 1.0 1.0 0.0 0.0 4.0 2.0 1.0 1.0 3.0 4.0 4.0 3.0 2.0 2.0\n 0.0 4.0 2.0 'np.nan' 2.0 0.0 3.0 'np.nan' 1.0 0.0 nan 1.0 2.0 3.0 4.0 3.0\n 0.0 0.0 3.0 1.0 2.0 3.0 'np.nan' 2.0 3.0 nan 0.0 0.0 1.0 1.0 nan 1.0 0.0\n 1.0 1.0 0.0 1.0 2.0 nan 2.0 2.0 3.0 1.0 2.0 2.0 3.0 1.0 2.0 1.0 0.0] to numeric"
     ]
    }
   ],
   "source": [
    "# a) Converter a coluna Faltas para tipo inteiro (tratando erros como NaN)\n",
    "df['Faltas'] = pd.to_numeric(df['Faltas'], errors='coerce')\n",
    "\n",
    "# b) Substituir outliers por np.nan\n",
    "# Definindo outliers como > média + 2*desvio padrão (ou outro critério se preferir)\n",
    "media = df['Faltas'].mean()\n",
    "desvio = df['Faltas'].std()\n",
    "limite_superior = media + 2 * desvio\n",
    "\n",
    "df.loc[df['Faltas'] > limite_superior, 'Faltas'] = \"np.nan\"\n",
    "\n",
    "# Preencher os NaNs com a mediana da coluna\n",
    "\n",
    "df[\"Faltas\"].replace(\"np.nan\", df[\"Faltas\"].median())\n",
    "# mediana = df['Faltas'].median()\n",
    "# df['Faltas'] = df['Faltas'].fillna(mediana).astype(int)\n",
    "\n",
    "# c) Criar flag “Faltas_Suspeitas” para valores > 10\n",
    "df['Faltas_Suspeitas'] = df['Faltas'] > 10\n",
    "\n",
    "# Resultado final\n",
    "print(df)"
   ]
  },
  {
   "cell_type": "code",
   "execution_count": null,
   "metadata": {},
   "outputs": [],
   "source": [
    "df['Faltas'] = df['Faltas'].np"
   ]
  }
 ],
 "metadata": {
  "kernelspec": {
   "display_name": "Python 3",
   "language": "python",
   "name": "python3"
  },
  "language_info": {
   "codemirror_mode": {
    "name": "ipython",
    "version": 3
   },
   "file_extension": ".py",
   "mimetype": "text/x-python",
   "name": "python",
   "nbconvert_exporter": "python",
   "pygments_lexer": "ipython3",
   "version": "3.12.1"
  }
 },
 "nbformat": 4,
 "nbformat_minor": 2
}
