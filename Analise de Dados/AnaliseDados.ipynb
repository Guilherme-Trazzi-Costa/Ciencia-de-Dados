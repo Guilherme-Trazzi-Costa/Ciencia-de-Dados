{
 "cells": [
  {
   "cell_type": "code",
   "execution_count": 38,
   "metadata": {},
   "outputs": [],
   "source": [
    "import pandas as pd\n",
    "import numpy as  np\n",
    "import seaborn as sns\n",
    "import matplotlib.pyplot as plt\n",
    "\n",
    "df = pd.read_excel(\"faltas_treinamento_sujo.xlsx\")"
   ]
  },
  {
   "cell_type": "code",
   "execution_count": 39,
   "metadata": {},
   "outputs": [
    {
     "name": "stdout",
     "output_type": "stream",
     "text": [
      "Nome                           0\n",
      "Departamento                   0\n",
      "Turno                          0\n",
      "Faltas                         0\n",
      "Dia_da_Semana_Ultima_Falta     0\n",
      "Data_Ultima_Falta              0\n",
      "Evadiu                        14\n",
      "dtype: int64\n",
      "                Nome Departamento  Turno  Faltas Dia_da_Semana_Ultima_Falta  \\\n",
      "0    Colaborador_001    Operações  Manhã      14                     Quarta   \n",
      "1    Colaborador_002    Operações  Manhã       1                    Segunda   \n",
      "2    Colaborador_003       Vendas  Manhã       3                    Segunda   \n",
      "3    Colaborador_004    Marketing  Manha       3                    Segunda   \n",
      "4    Colaborador_005           RH  Manha       1                     Quarta   \n",
      "..               ...          ...    ...     ...                        ...   \n",
      "219  Colaborador_056    Operações  Tarde       2                    Segunda   \n",
      "220  Colaborador_102       Vendas  Manha       3                    Segunda   \n",
      "221  Colaborador_188       Vendas  Manhã       3                    Segunda   \n",
      "222  Colaborador_147    Marketing  Tarde       1                    Segunda   \n",
      "223  Colaborador_092       Vendas  Manhã       0                     Quinta   \n",
      "\n",
      "    Data_Ultima_Falta Evadiu  \n",
      "0          2024-01-18    Sim  \n",
      "1                 NaT    Não  \n",
      "2          2024-03-10    Não  \n",
      "3          2024-01-21    Não  \n",
      "4          2024-02-18    Não  \n",
      "..                ...    ...  \n",
      "219        2024-01-05    Não  \n",
      "220        2024-02-15    Não  \n",
      "221        2024-02-04    NaN  \n",
      "222        2024-02-02    Não  \n",
      "223        2024-01-09    Não  \n",
      "\n",
      "[224 rows x 7 columns]\n"
     ]
    },
    {
     "name": "stderr",
     "output_type": "stream",
     "text": [
      "C:\\Users\\36188635861\\AppData\\Local\\Temp\\ipykernel_14572\\33095675.py:21: UserWarning: Parsing dates in %d/%m/%Y format when dayfirst=False (the default) was specified. Pass `dayfirst=True` or specify a format to silence this warning.\n",
      "  df['Data_Ultima_Falta'] = pd.to_datetime(df['Data_Ultima_Falta'], errors= 'coerce')\n"
     ]
    }
   ],
   "source": [
    "#a) Verifique valores nulos e tipos incorretos.\n",
    "#b) Corrija a coluna de datas inválidas.\n",
    "#c) Normalize os nomes dos turnos e dias da semana.\n",
    "\n",
    "# Contar os valores ausentes\n",
    "print(df.isnull().sum())\n",
    "\n",
    "\n",
    "df['Nome'].str.split().str.title()\n",
    "\n",
    "df['Departamento'].str.split().str.title()\n",
    "\n",
    "df['Turno'].str.split().str.title()\n",
    "df[\"Turno\"] = df[\"Turno\"].str.title().replace({\"manha\": \"Manhã\"})\n",
    "\n",
    "df['Faltas'].astype(int)\n",
    "\n",
    "df['Dia_da_Semana_Ultima_Falta'].str.split().str.title()\n",
    "df[\"Dia_da_Semana_Ultima_Falta\"] = df[\"Dia_da_Semana_Ultima_Falta\"].str.title().replace({\"segunda\": \"Segunda\"})\n",
    "\n",
    "df['Data_Ultima_Falta'] = pd.to_datetime(df['Data_Ultima_Falta'], errors= 'coerce')\n",
    "\n",
    "df['Evadiu'].str.split().str.title()\n",
    "\n",
    "print(df)\n",
    "\n"
   ]
  },
  {
   "cell_type": "code",
   "execution_count": 40,
   "metadata": {},
   "outputs": [
    {
     "name": "stdout",
     "output_type": "stream",
     "text": [
      "                Nome Departamento  Turno  Faltas Dia_da_Semana_Ultima_Falta  \\\n",
      "0    Colaborador_001    Operações  Manhã      14                     Quarta   \n",
      "1    Colaborador_002    Operações  Manhã       1                    Segunda   \n",
      "2    Colaborador_003       Vendas  Manhã       3                    Segunda   \n",
      "3    Colaborador_004    Marketing  Manha       3                    Segunda   \n",
      "4    Colaborador_005           RH  Manha       1                     Quarta   \n",
      "..               ...          ...    ...     ...                        ...   \n",
      "214  Colaborador_215    Operações  Tarde       3                    Segunda   \n",
      "215  Colaborador_216    Operações  Manha       1                    Segunda   \n",
      "216  Colaborador_217   Financeiro  Tarde       2                    Segunda   \n",
      "217  Colaborador_218           RH  Tarde       1                      Terça   \n",
      "218  Colaborador_219   Financeiro  Manhã       0                      Sexta   \n",
      "\n",
      "    Data_Ultima_Falta Evadiu  \n",
      "0          2024-01-18    Sim  \n",
      "1          2024-03-24    Não  \n",
      "2          2024-03-10    Não  \n",
      "3          2024-01-21    Não  \n",
      "4          2024-02-18    Não  \n",
      "..                ...    ...  \n",
      "214        2024-02-09    Não  \n",
      "215        2024-03-28    Não  \n",
      "216        2024-01-24    Não  \n",
      "217        2024-02-07    Não  \n",
      "218        2024-02-18    Não  \n",
      "\n",
      "[219 rows x 7 columns]\n"
     ]
    },
    {
     "name": "stderr",
     "output_type": "stream",
     "text": [
      "C:\\Users\\36188635861\\AppData\\Local\\Temp\\ipykernel_14572\\4223386558.py:8: FutureWarning: A value is trying to be set on a copy of a DataFrame or Series through chained assignment using an inplace method.\n",
      "The behavior will change in pandas 3.0. This inplace method will never work because the intermediate object on which we are setting values always behaves as a copy.\n",
      "\n",
      "For example, when doing 'df[col].method(value, inplace=True)', try using 'df.method({col: value}, inplace=True)' or df[col] = df[col].method(value) instead, to perform the operation inplace on the original object.\n",
      "\n",
      "\n",
      "  df[\"Evadiu\"].fillna(\"Desconhecido\", inplace = True)\n",
      "C:\\Users\\36188635861\\AppData\\Local\\Temp\\ipykernel_14572\\4223386558.py:10: FutureWarning: A value is trying to be set on a copy of a DataFrame or Series through chained assignment using an inplace method.\n",
      "The behavior will change in pandas 3.0. This inplace method will never work because the intermediate object on which we are setting values always behaves as a copy.\n",
      "\n",
      "For example, when doing 'df[col].method(value, inplace=True)', try using 'df.method({col: value}, inplace=True)' or df[col] = df[col].method(value) instead, to perform the operation inplace on the original object.\n",
      "\n",
      "\n",
      "  df[\"Data_Ultima_Falta\"].fillna(df[\"Data_Ultima_Falta\"].mode(), inplace = True)\n"
     ]
    }
   ],
   "source": [
    "\n",
    "# Exercício 2 – Remoção e Substituição\n",
    "# a) Remova os registros duplicados.\n",
    "# b) Substitua os valores nulos da coluna Evadiu por “Desconhecido”.\n",
    "# c) Substitua os valores nulos da coluna Data_Ultima_Falta pela data mais comum.\n",
    "\n",
    "df = df.drop_duplicates(subset = [\"Nome\"])\n",
    "\n",
    "df[\"Evadiu\"].fillna(\"Desconhecido\", inplace = True)\n",
    "\n",
    "df[\"Data_Ultima_Falta\"].fillna(df[\"Data_Ultima_Falta\"].mode(), inplace = True)\n",
    "print(df)\n",
    "\n"
   ]
  },
  {
   "cell_type": "code",
   "execution_count": 41,
   "metadata": {},
   "outputs": [
    {
     "name": "stdout",
     "output_type": "stream",
     "text": [
      "                Nome Departamento  Turno  Faltas Dia_da_Semana_Ultima_Falta  \\\n",
      "0    Colaborador_001    Operações  Manhã     NaN                     Quarta   \n",
      "1    Colaborador_002    Operações  Manhã     1.0                    Segunda   \n",
      "2    Colaborador_003       Vendas  Manhã     3.0                    Segunda   \n",
      "3    Colaborador_004    Marketing  Manha     3.0                    Segunda   \n",
      "4    Colaborador_005           RH  Manha     1.0                     Quarta   \n",
      "..               ...          ...    ...     ...                        ...   \n",
      "214  Colaborador_215    Operações  Tarde     3.0                    Segunda   \n",
      "215  Colaborador_216    Operações  Manha     1.0                    Segunda   \n",
      "216  Colaborador_217   Financeiro  Tarde     2.0                    Segunda   \n",
      "217  Colaborador_218           RH  Tarde     1.0                      Terça   \n",
      "218  Colaborador_219   Financeiro  Manhã     0.0                      Sexta   \n",
      "\n",
      "    Data_Ultima_Falta Evadiu  \n",
      "0          2024-01-18    Sim  \n",
      "1          2024-03-24    Não  \n",
      "2          2024-03-10    Não  \n",
      "3          2024-01-21    Não  \n",
      "4          2024-02-18    Não  \n",
      "..                ...    ...  \n",
      "214        2024-02-09    Não  \n",
      "215        2024-03-28    Não  \n",
      "216        2024-01-24    Não  \n",
      "217        2024-02-07    Não  \n",
      "218        2024-02-18    Não  \n",
      "\n",
      "[219 rows x 7 columns]\n"
     ]
    }
   ],
   "source": [
    "# Exercício 3 – Correções e Detecção de Outliers\n",
    "# a) Converta a coluna Faltas para tipo inteiro.\n",
    "# b) Substitua outliers de faltas por np.nan e depois pela mediana.\n",
    "# c) Crie um flag “Faltas_Suspeitas” para valores &gt; 10.\n",
    "\n",
    "\n",
    "# b) Substituir outliers por np.nan\n",
    "# Calcular os quartis Q1 e Q3\n",
    "Q1 = df['Faltas'].quantile(0.25)\n",
    "Q3 = df['Faltas'].quantile(0.75)\n",
    "\n",
    "# Calcular o IQR\n",
    "IQR = Q3 - Q1\n",
    "\n",
    "# Definir os limites inferior e superior\n",
    "limite_inferior = Q1 - 1.5 * IQR\n",
    "limite_superior = Q3 + 1.5 * IQR\n",
    "\n",
    "# Identificar outliers\n",
    "outliers = df[(df['Faltas'] < limite_inferior) | (df['Faltas'] > limite_superior)]\n",
    "\n",
    "# print(\"Outliers:\")\n",
    "# print(outliers)\n",
    "\n",
    "df.loc[(df['Faltas'] < limite_inferior) | (df['Faltas'] > limite_superior), 'Faltas'] = np.nan\n",
    "\n",
    "\n",
    "# np.nan = df[\"Faltas\"].median()\n",
    "#df.loc[np.nan].replace(df['Faltas'].median())\n",
    "df.loc[(df['Faltas'] == \"NaN\", 'Faltas')].replace(\"NaN\",df['Faltas'].median())\n",
    "# # Preencher os NaNs com a mediana da coluna\n",
    "\n",
    "#df.loc[df['Faltas'] > 10, 'Faltas'] = 'Faltas Suspeitas'\n",
    "\n",
    "print(df)\n"
   ]
  },
  {
   "cell_type": "code",
   "execution_count": 42,
   "metadata": {},
   "outputs": [
    {
     "name": "stdout",
     "output_type": "stream",
     "text": [
      "**************************************************\n",
      "Evasão Total\n",
      "11\n",
      "**************************************************\n",
      "Evasão Tarde\n",
      "5\n",
      "**************************************************\n",
      "Desvio padrão por falta\n",
      "Turno\n",
      "Manha    1.227628\n",
      "Manhã    1.623066\n",
      "Tarde    1.463174\n",
      "Name: Faltas, dtype: float64\n"
     ]
    }
   ],
   "source": [
    "# Exercício 4 – Análise Descritiva Avançada\n",
    "# a) Qual o número total de evasões por departamento?\n",
    "# b) Qual é o percentual de evasão considerando apenas os que participaram do turno da tarde?\n",
    "# c) Qual é o desvio padrão de faltas por turno?\n",
    "\n",
    "Evasao = df.loc[df['Evadiu'] == \"Sim\", 'Faltas'].count()\n",
    "print('*'*50)\n",
    "print(\"Evasão Total\")\n",
    "print(Evasao)\n",
    "\n",
    "Evasao_Tarde = df.loc[(df['Turno'] == \"Tarde\") & (df['Evadiu'] == \"Sim\"), 'Faltas'].count()\n",
    "print('*'*50)\n",
    "print(\"Evasão Tarde\")\n",
    "print(Evasao_Tarde)\n",
    "\n",
    "#Desvio_Falta = df['Faltas'].pct_change()*100\n",
    "\n",
    "Desvio_Falta = df.groupby('Turno')['Faltas'].std()\n",
    "print('*'*50)\n",
    "print(\"Desvio padrão por falta\")\n",
    "print(Desvio_Falta)"
   ]
  },
  {
   "cell_type": "code",
   "execution_count": 43,
   "metadata": {},
   "outputs": [
    {
     "name": "stdout",
     "output_type": "stream",
     "text": [
      "**************************************************\n",
      "Data_Mes\n",
      "2024-01    61\n",
      "2024-02    69\n",
      "2024-03    67\n",
      "Freq: M, Name: Faltas, dtype: int64\n",
      "**************************************************\n",
      "Semana_Ultima_Falta\n",
      "2024-01-01/2024-01-07    19\n",
      "2024-01-08/2024-01-14    10\n",
      "2024-01-15/2024-01-21    16\n",
      "2024-01-22/2024-01-28    10\n",
      "2024-01-29/2024-02-04    15\n",
      "2024-02-05/2024-02-11    19\n",
      "2024-02-12/2024-02-18    20\n",
      "2024-02-19/2024-02-25    14\n",
      "2024-02-26/2024-03-03    13\n",
      "2024-03-04/2024-03-10     7\n",
      "2024-03-11/2024-03-17    20\n",
      "2024-03-18/2024-03-24    20\n",
      "2024-03-25/2024-03-31    14\n",
      "Freq: W-SUN, Name: Faltas, dtype: int64\n",
      "**************************************************\n",
      "Dia_da_Semana_Ultima_Falta\n",
      "Quarta     30\n",
      "Quinta     36\n",
      "Segunda    73\n",
      "Sexta      36\n",
      "Terça      33\n",
      "Name: Faltas, dtype: int64\n"
     ]
    }
   ],
   "source": [
    "# Exercício 5 – Análise Temporal\n",
    "# a) Em qual mês ocorreu o maior número de faltas?\n",
    "# b) Crie uma coluna Semana_Ultima_Falta e descubra qual semana teve maior concentração de\n",
    "# ausências.\n",
    "# c) Faça uma análise cruzando dia da semana e quantidade de evasões.\n",
    "\n",
    "df['Data_Mes'] = df['Data_Ultima_Falta'].dt.to_period('M')\n",
    "\n",
    "Mes_Mais_Faltas = df.groupby('Data_Mes')['Faltas'].count()\n",
    "print('*'*50)\n",
    "print(Mes_Mais_Faltas)\n",
    "\n",
    "df['Semana_Ultima_Falta'] = df['Data_Ultima_Falta'].dt.to_period('W')\n",
    "\n",
    "Semana_Mais_Faltas = df.groupby('Semana_Ultima_Falta')['Faltas'].count()\n",
    "print('*'*50)\n",
    "print(Semana_Mais_Faltas)\n",
    "\n",
    "Dia_Mais_Faltas = df.groupby('Dia_da_Semana_Ultima_Falta')['Faltas'].count()\n",
    "print('*'*50)\n",
    "print(Dia_Mais_Faltas)\n",
    "\n",
    "\n"
   ]
  },
  {
   "cell_type": "code",
   "execution_count": 44,
   "metadata": {},
   "outputs": [],
   "source": [
    "df.to_excel(\"Teste faltas.xlsx\", index=False)"
   ]
  },
  {
   "cell_type": "code",
   "execution_count": 45,
   "metadata": {},
   "outputs": [
    {
     "name": "stdout",
     "output_type": "stream",
     "text": [
      "                Nome Departamento  Turno  Faltas Dia_da_Semana_Ultima_Falta  \\\n",
      "0    Colaborador_001    Operações  Manhã     NaN                     Quarta   \n",
      "1    Colaborador_002    Operações  Manhã     1.0                    Segunda   \n",
      "2    Colaborador_003       Vendas  Manhã     3.0                    Segunda   \n",
      "3    Colaborador_004    Marketing  Manha     3.0                    Segunda   \n",
      "4    Colaborador_005           RH  Manha     1.0                     Quarta   \n",
      "..               ...          ...    ...     ...                        ...   \n",
      "214  Colaborador_215    Operações  Tarde     3.0                    Segunda   \n",
      "215  Colaborador_216    Operações  Manha     1.0                    Segunda   \n",
      "216  Colaborador_217   Financeiro  Tarde     2.0                    Segunda   \n",
      "217  Colaborador_218           RH  Tarde     1.0                      Terça   \n",
      "218  Colaborador_219   Financeiro  Manhã     0.0                      Sexta   \n",
      "\n",
      "    Data_Ultima_Falta Evadiu Data_Mes    Semana_Ultima_Falta Risco_Evasao  \n",
      "0          2024-01-18    Sim  2024-01  2024-01-15/2024-01-21          NaN  \n",
      "1          2024-03-24    Não  2024-03  2024-03-18/2024-03-24        Baixo  \n",
      "2          2024-03-10    Não  2024-03  2024-03-04/2024-03-10        Baixo  \n",
      "3          2024-01-21    Não  2024-01  2024-01-15/2024-01-21        Baixo  \n",
      "4          2024-02-18    Não  2024-02  2024-02-12/2024-02-18        Baixo  \n",
      "..                ...    ...      ...                    ...          ...  \n",
      "214        2024-02-09    Não  2024-02  2024-02-05/2024-02-11        Baixo  \n",
      "215        2024-03-28    Não  2024-03  2024-03-25/2024-03-31        Baixo  \n",
      "216        2024-01-24    Não  2024-01  2024-01-22/2024-01-28        Baixo  \n",
      "217        2024-02-07    Não  2024-02  2024-02-05/2024-02-11        Baixo  \n",
      "218        2024-02-18    Não  2024-02  2024-02-12/2024-02-18        Baixo  \n",
      "\n",
      "[219 rows x 10 columns]\n"
     ]
    }
   ],
   "source": [
    "# Exercício 6 – Análise de Risco\n",
    "# a) Crie a coluna Risco_Evasao com três categorias: Alto, Moderado, Baixo.\n",
    "# b) Gere uma tabela com a distribuição percentual de risco por departamento.\n",
    "# c) Há relação entre risco alto e turno da tarde ?\n",
    "\n",
    "\n",
    "\n",
    "\n",
    "df[\"Risco_Evasao\"] = pd.cut(df[\"Faltas\"], bins = [-1, 4, 7, 15], labels = [\"Baixo\", \"Moderado\", \"Alto\"])\n",
    "\n",
    "print(df)"
   ]
  },
  {
   "cell_type": "code",
   "execution_count": 46,
   "metadata": {},
   "outputs": [
    {
     "name": "stdout",
     "output_type": "stream",
     "text": [
      "Departamento\n",
      "Financeiro    15.151515\n",
      "Marketing     19.696970\n",
      "Operações     23.232323\n",
      "RH            14.393939\n",
      "TI            12.878788\n",
      "Vendas        14.646465\n",
      "Name: Faltas, dtype: float64\n"
     ]
    }
   ],
   "source": [
    "Risco_por_Departamento = (df.groupby('Departamento')['Faltas'].sum()/df['Faltas'].sum())*100\n",
    "\n",
    "print(f'{Risco_por_Departamento}')"
   ]
  },
  {
   "cell_type": "code",
   "execution_count": 47,
   "metadata": {},
   "outputs": [
    {
     "name": "stdout",
     "output_type": "stream",
     "text": [
      "Turno\n",
      "Manha    24.747475\n",
      "Manhã    23.232323\n",
      "Tarde    52.020202\n",
      "Name: Faltas, dtype: float64\n"
     ]
    }
   ],
   "source": [
    "Risco_por_Turno = (df.groupby('Turno')['Faltas'].sum()/df['Faltas'].sum())*100\n",
    "\n",
    "print(Risco_por_Turno)"
   ]
  },
  {
   "cell_type": "code",
   "execution_count": 51,
   "metadata": {},
   "outputs": [
    {
     "data": {
      "image/png": "[encoded data removed]",
      "text/plain": [
       "<Figure size 1000x500 with 1 Axes>"
      ]
     },
     "metadata": {},
     "output_type": "display_data"
    }
   ],
   "source": [
    "Faltas_por_Departamento = df.groupby('Departamento')['Faltas'].sum()/df['Faltas'].sum()\n",
    "\n",
    "plt.figure(figsize=(10,5))\n",
    "Faltas_por_Departamento.plot(kind=\"bar\", color = \"green\")\n",
    "plt.title(\"Faltas por Departamento\")\n",
    "plt.xlabel(\"Departamento\")\n",
    "plt.ylabel(\"Faltas\")\n",
    "plt.xticks(rotation = 45)\n",
    "plt.grid(axis = \"y\")\n",
    "plt.show()"
   ]
  },
  {
   "cell_type": "code",
   "execution_count": 49,
   "metadata": {},
   "outputs": [
    {
     "data": {
      "image/png": "[encoded data removed]",
      "text/plain": [
       "<Figure size 600x600 with 1 Axes>"
      ]
     },
     "metadata": {},
     "output_type": "display_data"
    }
   ],
   "source": [
    "Evasao =  df['Risco_Evasao'].value_counts().sort_index()\n",
    "\n",
    "\n",
    "plt.figure(figsize=(6, 6))\n",
    "plt.pie(Evasao, labels=Evasao.index, autopct='%1.1f%%', startangle=90)\n",
    "plt.title('Distribuição do Risco de Evasão')\n",
    "plt.axis('equal') \n",
    "plt.show()"
   ]
  }
 ],
 "metadata": {
  "kernelspec": {
   "display_name": "Python 3",
   "language": "python",
   "name": "python3"
  },
  "language_info": {
   "codemirror_mode": {
    "name": "ipython",
    "version": 3
   },
   "file_extension": ".py",
   "mimetype": "text/x-python",
   "name": "python",
   "nbconvert_exporter": "python",
   "pygments_lexer": "ipython3",
   "version": "3.12.1"
  }
 },
 "nbformat": 4,
 "nbformat_minor": 2
}
