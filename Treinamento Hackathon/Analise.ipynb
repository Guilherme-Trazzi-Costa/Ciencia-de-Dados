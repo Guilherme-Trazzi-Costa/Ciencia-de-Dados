{
 "cells": [
  {
   "cell_type": "code",
   "execution_count": 127,
   "metadata": {},
   "outputs": [],
   "source": [
    "import pandas as pd\n",
    "import numpy as  np\n",
    "import seaborn as sns\n",
    "import matplotlib.pyplot as plt"
   ]
  },
  {
   "cell_type": "code",
   "execution_count": 128,
   "metadata": {},
   "outputs": [],
   "source": [
    "df_despesas = pd.read_excel(\"Despesas_Tratado.xlsx\")\n",
    "df_orcamento = pd.read_excel(\"Orcamento_Tratado.xlsx\")"
   ]
  },
  {
   "cell_type": "code",
   "execution_count": 129,
   "metadata": {},
   "outputs": [
    {
     "data": {
      "text/html": [
       "<div>\n",
       "<style scoped>\n",
       "    .dataframe tbody tr th:only-of-type {\n",
       "        vertical-align: middle;\n",
       "    }\n",
       "\n",
       "    .dataframe tbody tr th {\n",
       "        vertical-align: top;\n",
       "    }\n",
       "\n",
       "    .dataframe thead th {\n",
       "        text-align: right;\n",
       "    }\n",
       "</style>\n",
       "<table border=\"1\" class=\"dataframe\">\n",
       "  <thead>\n",
       "    <tr style=\"text-align: right;\">\n",
       "      <th></th>\n",
       "      <th>Setor</th>\n",
       "      <th>Mes</th>\n",
       "      <th>Ano</th>\n",
       "      <th>Valor_previsto</th>\n",
       "      <th>Valor_realizado</th>\n",
       "      <th>Data</th>\n",
       "    </tr>\n",
       "  </thead>\n",
       "  <tbody>\n",
       "    <tr>\n",
       "      <th>0</th>\n",
       "      <td>Produção</td>\n",
       "      <td>1</td>\n",
       "      <td>2024</td>\n",
       "      <td>14.045,42</td>\n",
       "      <td>15.524,52</td>\n",
       "      <td>01/01/2024</td>\n",
       "    </tr>\n",
       "    <tr>\n",
       "      <th>1</th>\n",
       "      <td>Produção</td>\n",
       "      <td>2</td>\n",
       "      <td>2024</td>\n",
       "      <td>42.597,50</td>\n",
       "      <td>45.075,42</td>\n",
       "      <td>01/02/2024</td>\n",
       "    </tr>\n",
       "    <tr>\n",
       "      <th>2</th>\n",
       "      <td>Produção</td>\n",
       "      <td>3</td>\n",
       "      <td>2024</td>\n",
       "      <td>39.491,52</td>\n",
       "      <td>44.155,59</td>\n",
       "      <td>01/03/2024</td>\n",
       "    </tr>\n",
       "    <tr>\n",
       "      <th>3</th>\n",
       "      <td>Produção</td>\n",
       "      <td>4</td>\n",
       "      <td>2024</td>\n",
       "      <td>52.992,06</td>\n",
       "      <td>59.965,36</td>\n",
       "      <td>01/04/2024</td>\n",
       "    </tr>\n",
       "    <tr>\n",
       "      <th>4</th>\n",
       "      <td>Produção</td>\n",
       "      <td>5</td>\n",
       "      <td>2024</td>\n",
       "      <td>16.198,93</td>\n",
       "      <td>15.988,45</td>\n",
       "      <td>01/05/2024</td>\n",
       "    </tr>\n",
       "    <tr>\n",
       "      <th>...</th>\n",
       "      <td>...</td>\n",
       "      <td>...</td>\n",
       "      <td>...</td>\n",
       "      <td>...</td>\n",
       "      <td>...</td>\n",
       "      <td>...</td>\n",
       "    </tr>\n",
       "    <tr>\n",
       "      <th>115</th>\n",
       "      <td>Comercial</td>\n",
       "      <td>8</td>\n",
       "      <td>2025</td>\n",
       "      <td>73.532,49</td>\n",
       "      <td>63.496,66</td>\n",
       "      <td>01/08/2025</td>\n",
       "    </tr>\n",
       "    <tr>\n",
       "      <th>116</th>\n",
       "      <td>Comercial</td>\n",
       "      <td>9</td>\n",
       "      <td>2025</td>\n",
       "      <td>46.526,55</td>\n",
       "      <td>270.703,31</td>\n",
       "      <td>01/09/2025</td>\n",
       "    </tr>\n",
       "    <tr>\n",
       "      <th>117</th>\n",
       "      <td>Comercial</td>\n",
       "      <td>10</td>\n",
       "      <td>2025</td>\n",
       "      <td>42.068,07</td>\n",
       "      <td>43.491,56</td>\n",
       "      <td>01/10/2025</td>\n",
       "    </tr>\n",
       "    <tr>\n",
       "      <th>118</th>\n",
       "      <td>Comercial</td>\n",
       "      <td>11</td>\n",
       "      <td>2025</td>\n",
       "      <td>79.706,26</td>\n",
       "      <td>92.876,93</td>\n",
       "      <td>01/11/2025</td>\n",
       "    </tr>\n",
       "    <tr>\n",
       "      <th>119</th>\n",
       "      <td>Comercial</td>\n",
       "      <td>12</td>\n",
       "      <td>2025</td>\n",
       "      <td>5.122,75</td>\n",
       "      <td>5.623,75</td>\n",
       "      <td>01/12/2025</td>\n",
       "    </tr>\n",
       "  </tbody>\n",
       "</table>\n",
       "<p>120 rows × 6 columns</p>\n",
       "</div>"
      ],
      "text/plain": [
       "         Setor  Mes   Ano Valor_previsto Valor_realizado        Data\n",
       "0     Produção    1  2024      14.045,42       15.524,52  01/01/2024\n",
       "1     Produção    2  2024      42.597,50       45.075,42  01/02/2024\n",
       "2     Produção    3  2024      39.491,52       44.155,59  01/03/2024\n",
       "3     Produção    4  2024      52.992,06       59.965,36  01/04/2024\n",
       "4     Produção    5  2024      16.198,93       15.988,45  01/05/2024\n",
       "..         ...  ...   ...            ...             ...         ...\n",
       "115  Comercial    8  2025      73.532,49       63.496,66  01/08/2025\n",
       "116  Comercial    9  2025      46.526,55      270.703,31  01/09/2025\n",
       "117  Comercial   10  2025      42.068,07       43.491,56  01/10/2025\n",
       "118  Comercial   11  2025      79.706,26       92.876,93  01/11/2025\n",
       "119  Comercial   12  2025       5.122,75        5.623,75  01/12/2025\n",
       "\n",
       "[120 rows x 6 columns]"
      ]
     },
     "metadata": {},
     "output_type": "display_data"
    }
   ],
   "source": [
    "display(df_despesas)"
   ]
  },
  {
   "cell_type": "code",
   "execution_count": 130,
   "metadata": {},
   "outputs": [
    {
     "name": "stdout",
     "output_type": "stream",
     "text": [
      "Setor\n",
      "Comercial     715454.81\n",
      "Financeiro    380644.28\n",
      "Logística     393546.74\n",
      "Produção      352675.29\n",
      "RH            395766.17\n",
      "Name: Valor, dtype: float64\n"
     ]
    }
   ],
   "source": [
    "despesas_area = df_orcamento.groupby(\"Setor\")[\"Valor\"].sum()\n",
    "\n",
    "print(despesas_area)"
   ]
  },
  {
   "cell_type": "markdown",
   "metadata": {},
   "source": [
    "As despesas do Setor comercial são acima da média"
   ]
  },
  {
   "cell_type": "code",
   "execution_count": 131,
   "metadata": {},
   "outputs": [
    {
     "name": "stdout",
     "output_type": "stream",
     "text": [
      "        Setor      Valor\n",
      "0   Comercial  144451.68\n",
      "1  Financeiro   70313.26\n",
      "2   Logística   69390.19\n",
      "3    Produção   28026.69\n",
      "4          RH   58781.78\n"
     ]
    }
   ],
   "source": [
    "# Filtra apenas as linhas com Tipo \"Salário\"\n",
    "salario_df = df_orcamento[df_orcamento[\"Tipo\"] == \"Salário\"]\n",
    "\n",
    "# Agrupa por setor e soma os valores\n",
    "despesas_area = salario_df.groupby(\"Setor\")[\"Valor\"].sum().reset_index()\n",
    "\n",
    "print(despesas_area)"
   ]
  },
  {
   "cell_type": "markdown",
   "metadata": {},
   "source": [
    "Setor comercial recebe salários elevados quase o dobro do segundo maior, o finaceiro"
   ]
  },
  {
   "cell_type": "code",
   "execution_count": 132,
   "metadata": {},
   "outputs": [
    {
     "name": "stdout",
     "output_type": "stream",
     "text": [
      "                    Tipo Trimestre      Valor\n",
      "0   Compra Matéria-prima    2024Q2   46783.29\n",
      "1   Compra Matéria-prima    2024Q3  100130.67\n",
      "2   Compra Matéria-prima    2024Q4  111451.72\n",
      "3   Compra Matéria-prima    2025Q1   43691.72\n",
      "4   Compra Matéria-prima    2025Q2   26717.65\n",
      "5                Energia    2024Q2  161273.27\n",
      "6                Energia    2024Q3  167000.79\n",
      "7                Energia    2024Q4  113243.14\n",
      "8                Energia    2025Q1  347335.66\n",
      "9                Energia    2025Q2   77901.38\n",
      "10              Internet    2024Q2   62931.29\n",
      "11              Internet    2024Q3   21512.11\n",
      "12              Internet    2024Q4   12313.53\n",
      "13              Internet    2025Q1   58300.96\n",
      "14              Internet    2025Q2   42561.70\n",
      "15               Salário    2024Q2   44297.15\n",
      "16               Salário    2024Q3  162786.38\n",
      "17               Salário    2024Q4   51908.60\n",
      "18               Salário    2025Q1   69314.27\n",
      "19               Salário    2025Q2   42657.20\n",
      "20                  Água    2024Q2   37159.10\n",
      "21                  Água    2024Q3  123699.03\n",
      "22                  Água    2024Q4  154527.35\n",
      "23                  Água    2025Q1  134178.23\n",
      "24                  Água    2025Q2   24411.10\n",
      "                   Tipo      Valor\n",
      "0  Compra Matéria-prima  328775.05\n",
      "1               Energia  866754.24\n",
      "2              Internet  197619.59\n",
      "3               Salário  370963.60\n",
      "4                  Água  473974.81\n"
     ]
    },
    {
     "name": "stderr",
     "output_type": "stream",
     "text": [
      "C:\\Users\\36188635861\\AppData\\Local\\Temp\\ipykernel_12684\\2214234955.py:8: UserWarning: Parsing dates in %d/%m/%Y format when dayfirst=False (the default) was specified. Pass `dayfirst=True` or specify a format to silence this warning.\n",
      "  df_orcamento[\"Data\"] = pd.to_datetime(df_orcamento[\"Data\"])\n"
     ]
    }
   ],
   "source": [
    "\n",
    "# df_orcamento[\"Data\"] = pd.to_datetime(df_orcamento[\"Data\"])\n",
    "\n",
    "# df_orcamento.set_index(\"Data\", inplace=True)\n",
    "\n",
    "# despesas_area = df_orcamento[\"Tipo\",\"Valor\"].resample(\"QE\").sum()\n",
    "# print(despesas_area)\n",
    "\n",
    "df_orcamento[\"Data\"] = pd.to_datetime(df_orcamento[\"Data\"])\n",
    "\n",
    "# Cria coluna com trimestre\n",
    "df_orcamento[\"Trimestre\"] = df_orcamento[\"Data\"].dt.to_period(\"Q\").astype(str)\n",
    "\n",
    "# Agrupa por Setor e Trimestre\n",
    "despesas_area = df_orcamento.groupby([\"Tipo\", \"Trimestre\"])[\"Valor\"].sum().reset_index()\n",
    "\n",
    "despesas_area_Total = df_orcamento.groupby([\"Tipo\"])[\"Valor\"].sum().reset_index()\n",
    "\n",
    "print(despesas_area)\n",
    "print(despesas_area_Total)"
   ]
  },
  {
   "cell_type": "markdown",
   "metadata": {},
   "source": [
    "Excesso de gasto com energia e água"
   ]
  },
  {
   "cell_type": "code",
   "execution_count": 133,
   "metadata": {},
   "outputs": [
    {
     "name": "stdout",
     "output_type": "stream",
     "text": [
      "Fornecedor  Tipo                \n",
      "Fogaça      Energia                 190090.0\n",
      "Viana - ME  Energia                 103679.4\n",
      "Sales - EI  Salário                 101064.7\n",
      "Santos S/A  Energia                  96075.5\n",
      "Pastor S/A  Compra Matéria-prima     45438.4\n",
      "Name: Valor, dtype: float64\n"
     ]
    }
   ],
   "source": [
    "valor_fornecedores = df_orcamento.groupby([\"Fornecedor\",\"Tipo\"])[\"Valor\"].sum()\n",
    "top_5 = valor_fornecedores.nlargest(5)\n",
    "\n",
    "print(top_5)\n"
   ]
  },
  {
   "cell_type": "markdown",
   "metadata": {},
   "source": [
    "Rever os fornecedores de energia para mais rentáveis é uma ótima solução para diminuir os gastos excessivos"
   ]
  },
  {
   "cell_type": "code",
   "execution_count": null,
   "metadata": {},
   "outputs": [],
   "source": []
  }
 ],
 "metadata": {
  "kernelspec": {
   "display_name": "Python 3",
   "language": "python",
   "name": "python3"
  },
  "language_info": {
   "codemirror_mode": {
    "name": "ipython",
    "version": 3
   },
   "file_extension": ".py",
   "mimetype": "text/x-python",
   "name": "python",
   "nbconvert_exporter": "python",
   "pygments_lexer": "ipython3",
   "version": "3.12.1"
  }
 },
 "nbformat": 4,
 "nbformat_minor": 2
}
