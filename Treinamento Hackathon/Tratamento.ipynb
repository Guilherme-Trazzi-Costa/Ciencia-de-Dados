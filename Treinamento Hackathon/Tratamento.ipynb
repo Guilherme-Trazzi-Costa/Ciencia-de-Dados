{
 "cells": [
  {
   "cell_type": "code",
   "execution_count": 49,
   "metadata": {},
   "outputs": [],
   "source": [
    "import pandas as pd\n",
    "import numpy as np\n",
    "import re"
   ]
  },
  {
   "cell_type": "code",
   "execution_count": 50,
   "metadata": {},
   "outputs": [],
   "source": [
    "df_despesas = pd.read_excel(\"Despesas.xlsx\")\n",
    "\n",
    "df_orcamento = pd.read_excel(\"Orcamento.xlsx\")"
   ]
  },
  {
   "cell_type": "code",
   "execution_count": 51,
   "metadata": {},
   "outputs": [
    {
     "data": {
      "application/vnd.microsoft.datawrangler.viewer.v0+json": {
       "columns": [
        {
         "name": "index",
         "rawType": "int64",
         "type": "integer"
        },
        {
         "name": "Setor",
         "rawType": "object",
         "type": "string"
        },
        {
         "name": "Mes",
         "rawType": "int64",
         "type": "integer"
        },
        {
         "name": "Ano",
         "rawType": "int64",
         "type": "integer"
        },
        {
         "name": "Valor_previsto",
         "rawType": "float64",
         "type": "float"
        },
        {
         "name": "Valor_realizado",
         "rawType": "float64",
         "type": "float"
        }
       ],
       "conversionMethod": "pd.DataFrame",
       "ref": "df22d67b-e101-411e-a9ba-d98ca1d95024",
       "rows": [
        [
         "0",
         "Produção",
         "1",
         "2024",
         "14045.42",
         "15524.5197516059"
        ],
        [
         "1",
         "Produção",
         "2",
         "2024",
         "42597.5",
         "45075.4246472162"
        ],
        [
         "2",
         "Produção",
         "3",
         "2024",
         "39491.52",
         "44155.5933179038"
        ],
        [
         "3",
         "Produção",
         "4",
         "2024",
         "52992.06",
         "59965.3648918444"
        ],
        [
         "4",
         "Produção",
         "5",
         "2024",
         "16198.93",
         "15988.4514545007"
        ],
        [
         "5",
         "Produção",
         "6",
         "2024",
         "83802.71",
         "70007.2615903319"
        ],
        [
         "6",
         "Produção",
         "7",
         "2024",
         "20827.56",
         "24831.9669955827"
        ],
        [
         "7",
         "Produção",
         "8",
         "2024",
         "43836.04",
         "190453.5652654684"
        ],
        [
         "8",
         "Produção",
         "9",
         "2024",
         "66691.57",
         "74191.0892135765"
        ],
        [
         "9",
         "Produção",
         "10",
         "2024",
         "64021.6",
         "52639.9367899244"
        ],
        [
         "10",
         "Produção",
         "11",
         "2024",
         "44965.04",
         "36631.5424958629"
        ],
        [
         "11",
         "Produção",
         "12",
         "2024",
         "56768.71",
         "57310.2055308276"
        ],
        [
         "12",
         "Produção",
         "1",
         "2025",
         "38833.83",
         "38493.1956384905"
        ],
        [
         "13",
         "Produção",
         "2",
         "2025",
         "55373.39",
         "54142.8522176657"
        ],
        [
         "14",
         "Produção",
         "3",
         "2025",
         "8324.31",
         "7177.9413356345"
        ],
        [
         "15",
         "Produção",
         "4",
         "2025",
         "13172.56",
         "14807.2742593737"
        ],
        [
         "16",
         "Produção",
         "5",
         "2025",
         "22934.88",
         "22518.6194597677"
        ],
        [
         "17",
         "Produção",
         "6",
         "2025",
         "86359.58",
         "80783.0868170325"
        ],
        [
         "18",
         "Produção",
         "7",
         "2025",
         "53550.29",
         "57572.0449040697"
        ],
        [
         "19",
         "Produção",
         "8",
         "2025",
         "92034.51",
         "107587.0886184382"
        ],
        [
         "20",
         "Produção",
         "9",
         "2025",
         "61241.71",
         "65930.761389742"
        ],
        [
         "21",
         "Produção",
         "10",
         "2025",
         "50788.41",
         "250588.6030534047"
        ],
        [
         "22",
         "Produção",
         "11",
         "2025",
         "65095.98",
         "60835.2721130448"
        ],
        [
         "23",
         "Produção",
         "12",
         "2025",
         "74395.53",
         "80835.7659589414"
        ],
        [
         "24",
         "Financeiro",
         "1",
         "2024",
         "32087.46",
         "29802.8567415543"
        ],
        [
         "25",
         "Financeiro",
         "2",
         "2024",
         "82621.95",
         "92338.3143702513"
        ],
        [
         "26",
         "Financeiro",
         "3",
         "2024",
         "77114.13",
         "75672.1447776155"
        ],
        [
         "27",
         "Financeiro",
         "4",
         "2024",
         "89145.04",
         "102243.4845066569"
        ],
        [
         "28",
         "Financeiro",
         "5",
         "2024",
         "44297.29",
         "44511.8742036252"
        ],
        [
         "29",
         "Financeiro",
         "6",
         "2024",
         "55941.94",
         "55064.8896342359"
        ],
        [
         "30",
         "Financeiro",
         "7",
         "2024",
         "26221.63",
         "22454.7384350243"
        ],
        [
         "31",
         "Financeiro",
         "8",
         "2024",
         "57077.58",
         "64802.251171042"
        ],
        [
         "32",
         "Financeiro",
         "9",
         "2024",
         "29722.98",
         "31160.2321451041"
        ],
        [
         "33",
         "Financeiro",
         "10",
         "2024",
         "34812.41",
         "31235.5713153362"
        ],
        [
         "34",
         "Financeiro",
         "11",
         "2024",
         "40519.66",
         "43995.0800231969"
        ],
        [
         "35",
         "Financeiro",
         "12",
         "2024",
         "13358.1",
         "15641.7240935367"
        ],
        [
         "36",
         "Financeiro",
         "1",
         "2025",
         "90236.88",
         "89722.8967630802"
        ],
        [
         "37",
         "Financeiro",
         "2",
         "2025",
         "77451.83",
         "62430.8062218391"
        ],
        [
         "38",
         "Financeiro",
         "3",
         "2025",
         "58267.36",
         "58195.2261732157"
        ],
        [
         "39",
         "Financeiro",
         "4",
         "2025",
         "10782.95",
         "12655.3290854968"
        ],
        [
         "40",
         "Financeiro",
         "5",
         "2025",
         "67224.47",
         "60727.4906097359"
        ],
        [
         "41",
         "Financeiro",
         "6",
         "2025",
         "42065.45",
         "39331.8984606646"
        ],
        [
         "42",
         "Financeiro",
         "7",
         "2025",
         "84638.63",
         "69753.4013745709"
        ],
        [
         "43",
         "Financeiro",
         "8",
         "2025",
         "79800.25",
         "68464.261739039"
        ],
        [
         "44",
         "Financeiro",
         "9",
         "2025",
         "74170.41",
         "62033.4038481826"
        ],
        [
         "45",
         "Financeiro",
         "10",
         "2025",
         "47552.45",
         "52162.5236465329"
        ],
        [
         "46",
         "Financeiro",
         "11",
         "2025",
         "97205.51",
         "100659.4398177235"
        ],
        [
         "47",
         "Financeiro",
         "12",
         "2025",
         "53408.25",
         "62490.7022033006"
        ],
        [
         "48",
         "RH",
         "1",
         "2024",
         "50990.54",
         "46004.7974584321"
        ],
        [
         "49",
         "RH",
         "2",
         "2024",
         "16271.29",
         "15295.3212882654"
        ]
       ],
       "shape": {
        "columns": 5,
        "rows": 120
       }
      },
      "text/html": [
       "<div>\n",
       "<style scoped>\n",
       "    .dataframe tbody tr th:only-of-type {\n",
       "        vertical-align: middle;\n",
       "    }\n",
       "\n",
       "    .dataframe tbody tr th {\n",
       "        vertical-align: top;\n",
       "    }\n",
       "\n",
       "    .dataframe thead th {\n",
       "        text-align: right;\n",
       "    }\n",
       "</style>\n",
       "<table border=\"1\" class=\"dataframe\">\n",
       "  <thead>\n",
       "    <tr style=\"text-align: right;\">\n",
       "      <th></th>\n",
       "      <th>Setor</th>\n",
       "      <th>Mes</th>\n",
       "      <th>Ano</th>\n",
       "      <th>Valor_previsto</th>\n",
       "      <th>Valor_realizado</th>\n",
       "    </tr>\n",
       "  </thead>\n",
       "  <tbody>\n",
       "    <tr>\n",
       "      <th>0</th>\n",
       "      <td>Produção</td>\n",
       "      <td>1</td>\n",
       "      <td>2024</td>\n",
       "      <td>14045.42</td>\n",
       "      <td>15524.519752</td>\n",
       "    </tr>\n",
       "    <tr>\n",
       "      <th>1</th>\n",
       "      <td>Produção</td>\n",
       "      <td>2</td>\n",
       "      <td>2024</td>\n",
       "      <td>42597.50</td>\n",
       "      <td>45075.424647</td>\n",
       "    </tr>\n",
       "    <tr>\n",
       "      <th>2</th>\n",
       "      <td>Produção</td>\n",
       "      <td>3</td>\n",
       "      <td>2024</td>\n",
       "      <td>39491.52</td>\n",
       "      <td>44155.593318</td>\n",
       "    </tr>\n",
       "    <tr>\n",
       "      <th>3</th>\n",
       "      <td>Produção</td>\n",
       "      <td>4</td>\n",
       "      <td>2024</td>\n",
       "      <td>52992.06</td>\n",
       "      <td>59965.364892</td>\n",
       "    </tr>\n",
       "    <tr>\n",
       "      <th>4</th>\n",
       "      <td>Produção</td>\n",
       "      <td>5</td>\n",
       "      <td>2024</td>\n",
       "      <td>16198.93</td>\n",
       "      <td>15988.451455</td>\n",
       "    </tr>\n",
       "    <tr>\n",
       "      <th>...</th>\n",
       "      <td>...</td>\n",
       "      <td>...</td>\n",
       "      <td>...</td>\n",
       "      <td>...</td>\n",
       "      <td>...</td>\n",
       "    </tr>\n",
       "    <tr>\n",
       "      <th>115</th>\n",
       "      <td>Comercial</td>\n",
       "      <td>8</td>\n",
       "      <td>2025</td>\n",
       "      <td>73532.49</td>\n",
       "      <td>63496.657091</td>\n",
       "    </tr>\n",
       "    <tr>\n",
       "      <th>116</th>\n",
       "      <td>Comercial</td>\n",
       "      <td>9</td>\n",
       "      <td>2025</td>\n",
       "      <td>46526.55</td>\n",
       "      <td>270703.309654</td>\n",
       "    </tr>\n",
       "    <tr>\n",
       "      <th>117</th>\n",
       "      <td>Comercial</td>\n",
       "      <td>10</td>\n",
       "      <td>2025</td>\n",
       "      <td>42068.07</td>\n",
       "      <td>43491.557474</td>\n",
       "    </tr>\n",
       "    <tr>\n",
       "      <th>118</th>\n",
       "      <td>Comercial</td>\n",
       "      <td>11</td>\n",
       "      <td>2025</td>\n",
       "      <td>79706.26</td>\n",
       "      <td>92876.931597</td>\n",
       "    </tr>\n",
       "    <tr>\n",
       "      <th>119</th>\n",
       "      <td>Comercial</td>\n",
       "      <td>12</td>\n",
       "      <td>2025</td>\n",
       "      <td>5122.75</td>\n",
       "      <td>5623.751964</td>\n",
       "    </tr>\n",
       "  </tbody>\n",
       "</table>\n",
       "<p>120 rows × 5 columns</p>\n",
       "</div>"
      ],
      "text/plain": [
       "         Setor  Mes   Ano  Valor_previsto  Valor_realizado\n",
       "0     Produção    1  2024        14045.42     15524.519752\n",
       "1     Produção    2  2024        42597.50     45075.424647\n",
       "2     Produção    3  2024        39491.52     44155.593318\n",
       "3     Produção    4  2024        52992.06     59965.364892\n",
       "4     Produção    5  2024        16198.93     15988.451455\n",
       "..         ...  ...   ...             ...              ...\n",
       "115  Comercial    8  2025        73532.49     63496.657091\n",
       "116  Comercial    9  2025        46526.55    270703.309654\n",
       "117  Comercial   10  2025        42068.07     43491.557474\n",
       "118  Comercial   11  2025        79706.26     92876.931597\n",
       "119  Comercial   12  2025         5122.75      5623.751964\n",
       "\n",
       "[120 rows x 5 columns]"
      ]
     },
     "metadata": {},
     "output_type": "display_data"
    }
   ],
   "source": [
    "display(df_despesas)"
   ]
  },
  {
   "cell_type": "code",
   "execution_count": 52,
   "metadata": {},
   "outputs": [
    {
     "name": "stdout",
     "output_type": "stream",
     "text": [
      "0      01/2024\n",
      "1      02/2024\n",
      "2      03/2024\n",
      "3      04/2024\n",
      "4      05/2024\n",
      "        ...   \n",
      "115    08/2025\n",
      "116    09/2025\n",
      "117    10/2025\n",
      "118    11/2025\n",
      "119    12/2025\n",
      "Name: Data, Length: 120, dtype: object\n"
     ]
    }
   ],
   "source": [
    "df_despesas[\"Mes\"] = df_despesas[\"Mes\"].astype(str).str.zfill(2)\n",
    "df_despesas[\"Ano\"] = df_despesas[\"Ano\"].astype(str)\n",
    "df_despesas[\"Data\"] = pd.to_datetime(df_despesas[\"Mes\"] + \"/\" + df_despesas[\"Ano\"], format=\"%m/%Y\")\n",
    "df_despesas[\"Data\"] = df_despesas[\"Data\"].dt.strftime('%m/%Y')\n",
    "df_despesas[\"Data\"] = df_despesas[\"Data\"].astype(str)\n",
    "print(df_despesas[\"Data\"])"
   ]
  },
  {
   "cell_type": "code",
   "execution_count": 53,
   "metadata": {},
   "outputs": [
    {
     "name": "stdout",
     "output_type": "stream",
     "text": [
      "0      14.045,42\n",
      "1      42.597,50\n",
      "2      39.491,52\n",
      "3      52.992,06\n",
      "4      16.198,93\n",
      "         ...    \n",
      "115    73.532,49\n",
      "116    46.526,55\n",
      "117    42.068,07\n",
      "118    79.706,26\n",
      "119     5.122,75\n",
      "Name: Valor_previsto, Length: 120, dtype: object\n"
     ]
    }
   ],
   "source": [
    "df_despesas[\"Valor_previsto\"] = df_despesas[\"Valor_previsto\"].astype(float)\n",
    "\n",
    "df_despesas[\"Valor_previsto\"] = df_despesas[\"Valor_previsto\"].map(\"{:,.2f}\".format).str.replace(\",\", \"X\").str.replace(\".\", \",\").str.replace(\"X\", \".\")\n",
    "\n",
    "print(df_despesas[\"Valor_previsto\"])"
   ]
  },
  {
   "cell_type": "code",
   "execution_count": 54,
   "metadata": {},
   "outputs": [
    {
     "name": "stdout",
     "output_type": "stream",
     "text": [
      "0       15.524,52\n",
      "1       45.075,42\n",
      "2       44.155,59\n",
      "3       59.965,36\n",
      "4       15.988,45\n",
      "          ...    \n",
      "115     63.496,66\n",
      "116    270.703,31\n",
      "117     43.491,56\n",
      "118     92.876,93\n",
      "119      5.623,75\n",
      "Name: Valor_realizado, Length: 120, dtype: object\n"
     ]
    }
   ],
   "source": [
    "df_despesas[\"Valor_realizado\"] = df_despesas[\"Valor_realizado\"].astype(float)\n",
    "\n",
    "df_despesas[\"Valor_realizado\"] = df_despesas[\"Valor_realizado\"].map(\"{:,.2f}\".format).str.replace(\",\", \"X\").str.replace(\".\", \",\").str.replace(\"X\", \".\")\n",
    "print(df_despesas[\"Valor_realizado\"])"
   ]
  },
  {
   "cell_type": "code",
   "execution_count": 55,
   "metadata": {},
   "outputs": [
    {
     "name": "stdout",
     "output_type": "stream",
     "text": [
      "         Setor Mes   Ano Valor_previsto Valor_realizado     Data\n",
      "0     Produção  01  2024      14.045,42       15.524,52  01/2024\n",
      "1     Produção  02  2024      42.597,50       45.075,42  02/2024\n",
      "2     Produção  03  2024      39.491,52       44.155,59  03/2024\n",
      "3     Produção  04  2024      52.992,06       59.965,36  04/2024\n",
      "4     Produção  05  2024      16.198,93       15.988,45  05/2024\n",
      "..         ...  ..   ...            ...             ...      ...\n",
      "115  Comercial  08  2025      73.532,49       63.496,66  08/2025\n",
      "116  Comercial  09  2025      46.526,55      270.703,31  09/2025\n",
      "117  Comercial  10  2025      42.068,07       43.491,56  10/2025\n",
      "118  Comercial  11  2025      79.706,26       92.876,93  11/2025\n",
      "119  Comercial  12  2025       5.122,75        5.623,75  12/2025\n",
      "\n",
      "[120 rows x 6 columns]\n"
     ]
    }
   ],
   "source": [
    "df_despesas = df_despesas.dropna()\n",
    "\n",
    "print(df_despesas)"
   ]
  },
  {
   "cell_type": "code",
   "execution_count": 56,
   "metadata": {},
   "outputs": [
    {
     "data": {
      "application/vnd.microsoft.datawrangler.viewer.v0+json": {
       "columns": [
        {
         "name": "index",
         "rawType": "int64",
         "type": "integer"
        },
        {
         "name": "Id_despesa",
         "rawType": "int64",
         "type": "integer"
        },
        {
         "name": "Data",
         "rawType": "int64",
         "type": "integer"
        },
        {
         "name": "Tipo",
         "rawType": "object",
         "type": "string"
        },
        {
         "name": "Setor",
         "rawType": "object",
         "type": "string"
        },
        {
         "name": "Valor",
         "rawType": "float64",
         "type": "float"
        },
        {
         "name": "Fornecedor",
         "rawType": "object",
         "type": "unknown"
        }
       ],
       "conversionMethod": "pd.DataFrame",
       "ref": "a6864af1-dc19-4108-8664-a49dd5bd8746",
       "rows": [
        [
         "0",
         "1",
         "1723939200000",
         "Salário",
         "Financeiro",
         "11670.1",
         "Teixeira"
        ],
        [
         "1",
         "2",
         "1726358400000",
         "Água",
         "Logística",
         "17394.82",
         "Nunes"
        ],
        [
         "2",
         "3",
         "1724284800000",
         "Água",
         "Financeiro",
         "19787.46",
         "Moura S/A"
        ],
        [
         "3",
         "4",
         "1725235200000",
         "Compra Matéria-prima",
         "Produção",
         "2159.77",
         "Barros"
        ],
        [
         "4",
         "5",
         "1738454400000",
         "Internet",
         "RH",
         "7390.2",
         "Mendes - EI"
        ],
        [
         "5",
         "6",
         "1736294400000",
         "Água",
         "RH",
         "5786.35",
         "da Rocha Vargas - EI"
        ],
        [
         "6",
         "7",
         "1722988800000",
         "Compra Matéria-prima",
         "Financeiro",
         "12713.59",
         "Sá - EI"
        ],
        [
         "7",
         "8",
         "1723248000000",
         "Energia",
         "Comercial",
         "11286.99",
         "Jesus"
        ],
        [
         "8",
         "9",
         "1718755200000",
         "Energia",
         "Produção",
         "398.2",
         "Rodrigues"
        ],
        [
         "9",
         "10",
         "1738108800000",
         "Salário",
         "Financeiro",
         "10511.56",
         "Cirino"
        ],
        [
         "10",
         "11",
         "1739404800000",
         "Salário",
         "Logística",
         "14855.0",
         "Rodrigues"
        ],
        [
         "11",
         "12",
         "1729728000000",
         "Salário",
         "Financeiro",
         "14020.35",
         "Dias"
        ],
        [
         "12",
         "13",
         "1722297600000",
         "Água",
         "Financeiro",
         "15504.96",
         "Sá"
        ],
        [
         "13",
         "14",
         "1746489600000",
         "Salário",
         "Comercial",
         "10878.01",
         "Cassiano"
        ],
        [
         "14",
         "15",
         "1738108800000",
         "Água",
         "Produção",
         "6450.78",
         "Andrade Vieira S.A."
        ],
        [
         "15",
         "16",
         "1738713600000",
         "Salário",
         "Logística",
         null,
         null
        ],
        [
         "16",
         "17",
         "1718755200000",
         "Energia",
         "Financeiro",
         "585.82",
         null
        ],
        [
         "17",
         "18",
         "1725494400000",
         "Compra Matéria-prima",
         "Produção",
         "15605.07",
         "Viana - ME"
        ],
        [
         "18",
         "19",
         "1717113600000",
         "Água",
         "RH",
         "11327.78",
         "Cardoso"
        ],
        [
         "19",
         "20",
         "1716940800000",
         "Internet",
         "Comercial",
         "6849.85",
         "Novaes"
        ],
        [
         "20",
         "21",
         "1746230400000",
         "Água",
         "Produção",
         "814.96",
         "Machado Carvalho S/A"
        ],
        [
         "21",
         "22",
         "1720396800000",
         "Energia",
         "RH",
         "7317.09",
         "Andrade e Filhos"
        ],
        [
         "22",
         "23",
         "1743638400000",
         "Internet",
         "Comercial",
         "12181.89",
         "Borges"
        ],
        [
         "23",
         "24",
         "1729123200000",
         "Salário",
         "Financeiro",
         "8180.55",
         "Rodrigues"
        ],
        [
         "24",
         "25",
         "1728777600000",
         "Compra Matéria-prima",
         "RH",
         "13129.43",
         "Vasconcelos"
        ],
        [
         "25",
         "26",
         "1716076800000",
         "Compra Matéria-prima",
         "Financeiro",
         "10062.76",
         "Pimenta"
        ],
        [
         "26",
         "27",
         "1723420800000",
         "Água",
         "Financeiro",
         null,
         "Camargo Ltda."
        ],
        [
         "27",
         "28",
         "1740528000000",
         "Água",
         "Logística",
         "16226.08",
         "Dias"
        ],
        [
         "28",
         "29",
         "1719100800000",
         "Internet",
         "Produção",
         "18045.12",
         "Nogueira Silva - ME"
        ],
        [
         "29",
         "30",
         "1738800000000",
         "Salário",
         "Comercial",
         "2865.12",
         "Caldeira"
        ],
        [
         "30",
         "31",
         "1738195200000",
         "Salário",
         "Comercial",
         "11102.85",
         "Vieira e Filhos"
        ],
        [
         "31",
         "32",
         "1727308800000",
         "Compra Matéria-prima",
         "Financeiro",
         "570.52",
         "da Mata"
        ],
        [
         "32",
         "33",
         "1745539200000",
         "Internet",
         "Logística",
         "17704.33",
         "Ferreira"
        ],
        [
         "33",
         "34",
         "1741046400000",
         "Salário",
         "Logística",
         "14585.19",
         "da Rocha Pimenta Ltda."
        ],
        [
         "34",
         "35",
         "1740787200000",
         "Energia",
         "Logística",
         "7343.63",
         "da Rosa"
        ],
        [
         "35",
         "36",
         "1740960000000",
         "Água",
         "Financeiro",
         "10928.89",
         "Freitas - EI"
        ],
        [
         "36",
         "37",
         "1731110400000",
         "Água",
         "Financeiro",
         "15462.28",
         "Pastor S/A"
        ],
        [
         "37",
         "38",
         "1738800000000",
         "Energia",
         "Financeiro",
         null,
         "Nogueira"
        ],
        [
         "38",
         "39",
         "1724198400000",
         "Internet",
         "Produção",
         "2811.55",
         "Almeida Cassiano Ltda."
        ],
        [
         "39",
         "40",
         "1733011200000",
         "Água",
         "Comercial",
         "16353.44",
         "Cardoso"
        ],
        [
         "40",
         "41",
         "1742256000000",
         "Energia",
         "Comercial",
         "18495.95",
         "Vieira Melo Ltda."
        ],
        [
         "41",
         "42",
         "1733702400000",
         "Energia",
         "Logística",
         "15122.3",
         "Ramos"
        ],
        [
         "42",
         "43",
         "1741564800000",
         "Compra Matéria-prima",
         "Financeiro",
         "2217.06",
         "Albuquerque S.A."
        ],
        [
         "43",
         "44",
         "1738540800000",
         "Internet",
         "Comercial",
         "14763.4",
         "Montenegro"
        ],
        [
         "44",
         "45",
         "1726704000000",
         "Salário",
         "Financeiro",
         "1161.79",
         "Nunes"
        ],
        [
         "45",
         "46",
         "1723593600000",
         "Internet",
         "Comercial",
         "18025.9",
         null
        ],
        [
         "46",
         "47",
         "1723766400000",
         "Água",
         "Financeiro",
         "16620.24",
         "da Cruz"
        ],
        [
         "47",
         "48",
         "1726444800000",
         "Energia",
         "Financeiro",
         "16557.45",
         "Macedo Cardoso - ME"
        ],
        [
         "48",
         "49",
         "1745020800000",
         "Internet",
         "Logística",
         "7099.12",
         null
        ],
        [
         "49",
         "50",
         "1721433600000",
         "Energia",
         "Logística",
         "9967.67",
         "Jesus - ME"
        ]
       ],
       "shape": {
        "columns": 6,
        "rows": 200
       }
      },
      "text/html": [
       "<div>\n",
       "<style scoped>\n",
       "    .dataframe tbody tr th:only-of-type {\n",
       "        vertical-align: middle;\n",
       "    }\n",
       "\n",
       "    .dataframe tbody tr th {\n",
       "        vertical-align: top;\n",
       "    }\n",
       "\n",
       "    .dataframe thead th {\n",
       "        text-align: right;\n",
       "    }\n",
       "</style>\n",
       "<table border=\"1\" class=\"dataframe\">\n",
       "  <thead>\n",
       "    <tr style=\"text-align: right;\">\n",
       "      <th></th>\n",
       "      <th>Id_despesa</th>\n",
       "      <th>Data</th>\n",
       "      <th>Tipo</th>\n",
       "      <th>Setor</th>\n",
       "      <th>Valor</th>\n",
       "      <th>Fornecedor</th>\n",
       "    </tr>\n",
       "  </thead>\n",
       "  <tbody>\n",
       "    <tr>\n",
       "      <th>0</th>\n",
       "      <td>1</td>\n",
       "      <td>1723939200000</td>\n",
       "      <td>Salário</td>\n",
       "      <td>Financeiro</td>\n",
       "      <td>11670.10</td>\n",
       "      <td>Teixeira</td>\n",
       "    </tr>\n",
       "    <tr>\n",
       "      <th>1</th>\n",
       "      <td>2</td>\n",
       "      <td>1726358400000</td>\n",
       "      <td>Água</td>\n",
       "      <td>Logística</td>\n",
       "      <td>17394.82</td>\n",
       "      <td>Nunes</td>\n",
       "    </tr>\n",
       "    <tr>\n",
       "      <th>2</th>\n",
       "      <td>3</td>\n",
       "      <td>1724284800000</td>\n",
       "      <td>Água</td>\n",
       "      <td>Financeiro</td>\n",
       "      <td>19787.46</td>\n",
       "      <td>Moura S/A</td>\n",
       "    </tr>\n",
       "    <tr>\n",
       "      <th>3</th>\n",
       "      <td>4</td>\n",
       "      <td>1725235200000</td>\n",
       "      <td>Compra Matéria-prima</td>\n",
       "      <td>Produção</td>\n",
       "      <td>2159.77</td>\n",
       "      <td>Barros</td>\n",
       "    </tr>\n",
       "    <tr>\n",
       "      <th>4</th>\n",
       "      <td>5</td>\n",
       "      <td>1738454400000</td>\n",
       "      <td>Internet</td>\n",
       "      <td>RH</td>\n",
       "      <td>7390.20</td>\n",
       "      <td>Mendes - EI</td>\n",
       "    </tr>\n",
       "    <tr>\n",
       "      <th>...</th>\n",
       "      <td>...</td>\n",
       "      <td>...</td>\n",
       "      <td>...</td>\n",
       "      <td>...</td>\n",
       "      <td>...</td>\n",
       "      <td>...</td>\n",
       "    </tr>\n",
       "    <tr>\n",
       "      <th>195</th>\n",
       "      <td>196</td>\n",
       "      <td>1727913600000</td>\n",
       "      <td>Energia</td>\n",
       "      <td>Produção</td>\n",
       "      <td>15225.10</td>\n",
       "      <td>da Cunha Mendes e Filhos</td>\n",
       "    </tr>\n",
       "    <tr>\n",
       "      <th>196</th>\n",
       "      <td>197</td>\n",
       "      <td>1721347200000</td>\n",
       "      <td>Salário</td>\n",
       "      <td>RH</td>\n",
       "      <td>16460.68</td>\n",
       "      <td>Pires e Filhos</td>\n",
       "    </tr>\n",
       "    <tr>\n",
       "      <th>197</th>\n",
       "      <td>198</td>\n",
       "      <td>1729987200000</td>\n",
       "      <td>Água</td>\n",
       "      <td>Financeiro</td>\n",
       "      <td>12795.28</td>\n",
       "      <td>Nascimento</td>\n",
       "    </tr>\n",
       "    <tr>\n",
       "      <th>198</th>\n",
       "      <td>199</td>\n",
       "      <td>1723852800000</td>\n",
       "      <td>Compra Matéria-prima</td>\n",
       "      <td>Logística</td>\n",
       "      <td>9634.17</td>\n",
       "      <td>da Costa</td>\n",
       "    </tr>\n",
       "    <tr>\n",
       "      <th>199</th>\n",
       "      <td>200</td>\n",
       "      <td>1741564800000</td>\n",
       "      <td>Salário</td>\n",
       "      <td>Produção</td>\n",
       "      <td>13022.00</td>\n",
       "      <td>Porto - ME</td>\n",
       "    </tr>\n",
       "  </tbody>\n",
       "</table>\n",
       "<p>200 rows × 6 columns</p>\n",
       "</div>"
      ],
      "text/plain": [
       "     Id_despesa           Data                  Tipo       Setor     Valor  \\\n",
       "0             1  1723939200000               Salário  Financeiro  11670.10   \n",
       "1             2  1726358400000                  Água   Logística  17394.82   \n",
       "2             3  1724284800000                  Água  Financeiro  19787.46   \n",
       "3             4  1725235200000  Compra Matéria-prima    Produção   2159.77   \n",
       "4             5  1738454400000              Internet          RH   7390.20   \n",
       "..          ...            ...                   ...         ...       ...   \n",
       "195         196  1727913600000               Energia    Produção  15225.10   \n",
       "196         197  1721347200000               Salário          RH  16460.68   \n",
       "197         198  1729987200000                  Água  Financeiro  12795.28   \n",
       "198         199  1723852800000  Compra Matéria-prima   Logística   9634.17   \n",
       "199         200  1741564800000               Salário    Produção  13022.00   \n",
       "\n",
       "                   Fornecedor  \n",
       "0                    Teixeira  \n",
       "1                       Nunes  \n",
       "2                   Moura S/A  \n",
       "3                      Barros  \n",
       "4                 Mendes - EI  \n",
       "..                        ...  \n",
       "195  da Cunha Mendes e Filhos  \n",
       "196            Pires e Filhos  \n",
       "197                Nascimento  \n",
       "198                  da Costa  \n",
       "199                Porto - ME  \n",
       "\n",
       "[200 rows x 6 columns]"
      ]
     },
     "metadata": {},
     "output_type": "display_data"
    }
   ],
   "source": [
    "display(df_orcamento)"
   ]
  },
  {
   "cell_type": "code",
   "execution_count": 57,
   "metadata": {},
   "outputs": [
    {
     "data": {
      "application/vnd.microsoft.datawrangler.viewer.v0+json": {
       "columns": [
        {
         "name": "index",
         "rawType": "int64",
         "type": "integer"
        },
        {
         "name": "Id_despesa",
         "rawType": "int64",
         "type": "integer"
        },
        {
         "name": "Data",
         "rawType": "object",
         "type": "string"
        },
        {
         "name": "Tipo",
         "rawType": "object",
         "type": "string"
        },
        {
         "name": "Setor",
         "rawType": "object",
         "type": "string"
        },
        {
         "name": "Valor",
         "rawType": "float64",
         "type": "float"
        },
        {
         "name": "Fornecedor",
         "rawType": "object",
         "type": "unknown"
        }
       ],
       "conversionMethod": "pd.DataFrame",
       "ref": "144972c7-aaa7-4412-857e-f3eb43241dba",
       "rows": [
        [
         "0",
         "1",
         "08/2024",
         "Salário",
         "Financeiro",
         "11670.1",
         "Teixeira"
        ],
        [
         "1",
         "2",
         "09/2024",
         "Água",
         "Logística",
         "17394.82",
         "Nunes"
        ],
        [
         "2",
         "3",
         "08/2024",
         "Água",
         "Financeiro",
         "19787.46",
         "Moura S/A"
        ],
        [
         "3",
         "4",
         "09/2024",
         "Compra Matéria-prima",
         "Produção",
         "2159.77",
         "Barros"
        ],
        [
         "4",
         "5",
         "02/2025",
         "Internet",
         "RH",
         "7390.2",
         "Mendes - EI"
        ],
        [
         "5",
         "6",
         "01/2025",
         "Água",
         "RH",
         "5786.35",
         "da Rocha Vargas - EI"
        ],
        [
         "6",
         "7",
         "08/2024",
         "Compra Matéria-prima",
         "Financeiro",
         "12713.59",
         "Sá - EI"
        ],
        [
         "7",
         "8",
         "08/2024",
         "Energia",
         "Comercial",
         "11286.99",
         "Jesus"
        ],
        [
         "8",
         "9",
         "06/2024",
         "Energia",
         "Produção",
         "398.2",
         "Rodrigues"
        ],
        [
         "9",
         "10",
         "01/2025",
         "Salário",
         "Financeiro",
         "10511.56",
         "Cirino"
        ],
        [
         "10",
         "11",
         "02/2025",
         "Salário",
         "Logística",
         "14855.0",
         "Rodrigues"
        ],
        [
         "11",
         "12",
         "10/2024",
         "Salário",
         "Financeiro",
         "14020.35",
         "Dias"
        ],
        [
         "12",
         "13",
         "07/2024",
         "Água",
         "Financeiro",
         "15504.96",
         "Sá"
        ],
        [
         "13",
         "14",
         "05/2025",
         "Salário",
         "Comercial",
         "10878.01",
         "Cassiano"
        ],
        [
         "14",
         "15",
         "01/2025",
         "Água",
         "Produção",
         "6450.78",
         "Andrade Vieira S.A."
        ],
        [
         "15",
         "16",
         "02/2025",
         "Salário",
         "Logística",
         null,
         null
        ],
        [
         "16",
         "17",
         "06/2024",
         "Energia",
         "Financeiro",
         "585.82",
         null
        ],
        [
         "17",
         "18",
         "09/2024",
         "Compra Matéria-prima",
         "Produção",
         "15605.07",
         "Viana - ME"
        ],
        [
         "18",
         "19",
         "05/2024",
         "Água",
         "RH",
         "11327.78",
         "Cardoso"
        ],
        [
         "19",
         "20",
         "05/2024",
         "Internet",
         "Comercial",
         "6849.85",
         "Novaes"
        ],
        [
         "20",
         "21",
         "05/2025",
         "Água",
         "Produção",
         "814.96",
         "Machado Carvalho S/A"
        ],
        [
         "21",
         "22",
         "07/2024",
         "Energia",
         "RH",
         "7317.09",
         "Andrade e Filhos"
        ],
        [
         "22",
         "23",
         "04/2025",
         "Internet",
         "Comercial",
         "12181.89",
         "Borges"
        ],
        [
         "23",
         "24",
         "10/2024",
         "Salário",
         "Financeiro",
         "8180.55",
         "Rodrigues"
        ],
        [
         "24",
         "25",
         "10/2024",
         "Compra Matéria-prima",
         "RH",
         "13129.43",
         "Vasconcelos"
        ],
        [
         "25",
         "26",
         "05/2024",
         "Compra Matéria-prima",
         "Financeiro",
         "10062.76",
         "Pimenta"
        ],
        [
         "26",
         "27",
         "08/2024",
         "Água",
         "Financeiro",
         null,
         "Camargo Ltda."
        ],
        [
         "27",
         "28",
         "02/2025",
         "Água",
         "Logística",
         "16226.08",
         "Dias"
        ],
        [
         "28",
         "29",
         "06/2024",
         "Internet",
         "Produção",
         "18045.12",
         "Nogueira Silva - ME"
        ],
        [
         "29",
         "30",
         "02/2025",
         "Salário",
         "Comercial",
         "2865.12",
         "Caldeira"
        ],
        [
         "30",
         "31",
         "01/2025",
         "Salário",
         "Comercial",
         "11102.85",
         "Vieira e Filhos"
        ],
        [
         "31",
         "32",
         "09/2024",
         "Compra Matéria-prima",
         "Financeiro",
         "570.52",
         "da Mata"
        ],
        [
         "32",
         "33",
         "04/2025",
         "Internet",
         "Logística",
         "17704.33",
         "Ferreira"
        ],
        [
         "33",
         "34",
         "03/2025",
         "Salário",
         "Logística",
         "14585.19",
         "da Rocha Pimenta Ltda."
        ],
        [
         "34",
         "35",
         "03/2025",
         "Energia",
         "Logística",
         "7343.63",
         "da Rosa"
        ],
        [
         "35",
         "36",
         "03/2025",
         "Água",
         "Financeiro",
         "10928.89",
         "Freitas - EI"
        ],
        [
         "36",
         "37",
         "11/2024",
         "Água",
         "Financeiro",
         "15462.28",
         "Pastor S/A"
        ],
        [
         "37",
         "38",
         "02/2025",
         "Energia",
         "Financeiro",
         null,
         "Nogueira"
        ],
        [
         "38",
         "39",
         "08/2024",
         "Internet",
         "Produção",
         "2811.55",
         "Almeida Cassiano Ltda."
        ],
        [
         "39",
         "40",
         "12/2024",
         "Água",
         "Comercial",
         "16353.44",
         "Cardoso"
        ],
        [
         "40",
         "41",
         "03/2025",
         "Energia",
         "Comercial",
         "18495.95",
         "Vieira Melo Ltda."
        ],
        [
         "41",
         "42",
         "12/2024",
         "Energia",
         "Logística",
         "15122.3",
         "Ramos"
        ],
        [
         "42",
         "43",
         "03/2025",
         "Compra Matéria-prima",
         "Financeiro",
         "2217.06",
         "Albuquerque S.A."
        ],
        [
         "43",
         "44",
         "02/2025",
         "Internet",
         "Comercial",
         "14763.4",
         "Montenegro"
        ],
        [
         "44",
         "45",
         "09/2024",
         "Salário",
         "Financeiro",
         "1161.79",
         "Nunes"
        ],
        [
         "45",
         "46",
         "08/2024",
         "Internet",
         "Comercial",
         "18025.9",
         null
        ],
        [
         "46",
         "47",
         "08/2024",
         "Água",
         "Financeiro",
         "16620.24",
         "da Cruz"
        ],
        [
         "47",
         "48",
         "09/2024",
         "Energia",
         "Financeiro",
         "16557.45",
         "Macedo Cardoso - ME"
        ],
        [
         "48",
         "49",
         "04/2025",
         "Internet",
         "Logística",
         "7099.12",
         null
        ],
        [
         "49",
         "50",
         "07/2024",
         "Energia",
         "Logística",
         "9967.67",
         "Jesus - ME"
        ]
       ],
       "shape": {
        "columns": 6,
        "rows": 200
       }
      },
      "text/html": [
       "<div>\n",
       "<style scoped>\n",
       "    .dataframe tbody tr th:only-of-type {\n",
       "        vertical-align: middle;\n",
       "    }\n",
       "\n",
       "    .dataframe tbody tr th {\n",
       "        vertical-align: top;\n",
       "    }\n",
       "\n",
       "    .dataframe thead th {\n",
       "        text-align: right;\n",
       "    }\n",
       "</style>\n",
       "<table border=\"1\" class=\"dataframe\">\n",
       "  <thead>\n",
       "    <tr style=\"text-align: right;\">\n",
       "      <th></th>\n",
       "      <th>Id_despesa</th>\n",
       "      <th>Data</th>\n",
       "      <th>Tipo</th>\n",
       "      <th>Setor</th>\n",
       "      <th>Valor</th>\n",
       "      <th>Fornecedor</th>\n",
       "    </tr>\n",
       "  </thead>\n",
       "  <tbody>\n",
       "    <tr>\n",
       "      <th>0</th>\n",
       "      <td>1</td>\n",
       "      <td>08/2024</td>\n",
       "      <td>Salário</td>\n",
       "      <td>Financeiro</td>\n",
       "      <td>11670.10</td>\n",
       "      <td>Teixeira</td>\n",
       "    </tr>\n",
       "    <tr>\n",
       "      <th>1</th>\n",
       "      <td>2</td>\n",
       "      <td>09/2024</td>\n",
       "      <td>Água</td>\n",
       "      <td>Logística</td>\n",
       "      <td>17394.82</td>\n",
       "      <td>Nunes</td>\n",
       "    </tr>\n",
       "    <tr>\n",
       "      <th>2</th>\n",
       "      <td>3</td>\n",
       "      <td>08/2024</td>\n",
       "      <td>Água</td>\n",
       "      <td>Financeiro</td>\n",
       "      <td>19787.46</td>\n",
       "      <td>Moura S/A</td>\n",
       "    </tr>\n",
       "    <tr>\n",
       "      <th>3</th>\n",
       "      <td>4</td>\n",
       "      <td>09/2024</td>\n",
       "      <td>Compra Matéria-prima</td>\n",
       "      <td>Produção</td>\n",
       "      <td>2159.77</td>\n",
       "      <td>Barros</td>\n",
       "    </tr>\n",
       "    <tr>\n",
       "      <th>4</th>\n",
       "      <td>5</td>\n",
       "      <td>02/2025</td>\n",
       "      <td>Internet</td>\n",
       "      <td>RH</td>\n",
       "      <td>7390.20</td>\n",
       "      <td>Mendes - EI</td>\n",
       "    </tr>\n",
       "    <tr>\n",
       "      <th>...</th>\n",
       "      <td>...</td>\n",
       "      <td>...</td>\n",
       "      <td>...</td>\n",
       "      <td>...</td>\n",
       "      <td>...</td>\n",
       "      <td>...</td>\n",
       "    </tr>\n",
       "    <tr>\n",
       "      <th>195</th>\n",
       "      <td>196</td>\n",
       "      <td>10/2024</td>\n",
       "      <td>Energia</td>\n",
       "      <td>Produção</td>\n",
       "      <td>15225.10</td>\n",
       "      <td>da Cunha Mendes e Filhos</td>\n",
       "    </tr>\n",
       "    <tr>\n",
       "      <th>196</th>\n",
       "      <td>197</td>\n",
       "      <td>07/2024</td>\n",
       "      <td>Salário</td>\n",
       "      <td>RH</td>\n",
       "      <td>16460.68</td>\n",
       "      <td>Pires e Filhos</td>\n",
       "    </tr>\n",
       "    <tr>\n",
       "      <th>197</th>\n",
       "      <td>198</td>\n",
       "      <td>10/2024</td>\n",
       "      <td>Água</td>\n",
       "      <td>Financeiro</td>\n",
       "      <td>12795.28</td>\n",
       "      <td>Nascimento</td>\n",
       "    </tr>\n",
       "    <tr>\n",
       "      <th>198</th>\n",
       "      <td>199</td>\n",
       "      <td>08/2024</td>\n",
       "      <td>Compra Matéria-prima</td>\n",
       "      <td>Logística</td>\n",
       "      <td>9634.17</td>\n",
       "      <td>da Costa</td>\n",
       "    </tr>\n",
       "    <tr>\n",
       "      <th>199</th>\n",
       "      <td>200</td>\n",
       "      <td>03/2025</td>\n",
       "      <td>Salário</td>\n",
       "      <td>Produção</td>\n",
       "      <td>13022.00</td>\n",
       "      <td>Porto - ME</td>\n",
       "    </tr>\n",
       "  </tbody>\n",
       "</table>\n",
       "<p>200 rows × 6 columns</p>\n",
       "</div>"
      ],
      "text/plain": [
       "     Id_despesa     Data                  Tipo       Setor     Valor  \\\n",
       "0             1  08/2024               Salário  Financeiro  11670.10   \n",
       "1             2  09/2024                  Água   Logística  17394.82   \n",
       "2             3  08/2024                  Água  Financeiro  19787.46   \n",
       "3             4  09/2024  Compra Matéria-prima    Produção   2159.77   \n",
       "4             5  02/2025              Internet          RH   7390.20   \n",
       "..          ...      ...                   ...         ...       ...   \n",
       "195         196  10/2024               Energia    Produção  15225.10   \n",
       "196         197  07/2024               Salário          RH  16460.68   \n",
       "197         198  10/2024                  Água  Financeiro  12795.28   \n",
       "198         199  08/2024  Compra Matéria-prima   Logística   9634.17   \n",
       "199         200  03/2025               Salário    Produção  13022.00   \n",
       "\n",
       "                   Fornecedor  \n",
       "0                    Teixeira  \n",
       "1                       Nunes  \n",
       "2                   Moura S/A  \n",
       "3                      Barros  \n",
       "4                 Mendes - EI  \n",
       "..                        ...  \n",
       "195  da Cunha Mendes e Filhos  \n",
       "196            Pires e Filhos  \n",
       "197                Nascimento  \n",
       "198                  da Costa  \n",
       "199                Porto - ME  \n",
       "\n",
       "[200 rows x 6 columns]"
      ]
     },
     "metadata": {},
     "output_type": "display_data"
    }
   ],
   "source": [
    "\n",
    "\n",
    "# Converter timestamp (em milissegundos) para datetime\n",
    "df_orcamento[\"Data\"] = pd.to_datetime(df_orcamento[\"Data\"], unit='ms')\n",
    "\n",
    "# Formatar como string no formato 'mm/yyyy'\n",
    "df_orcamento[\"Data\"] = df_orcamento[\"Data\"].dt.strftime('%m/%Y')\n",
    "\n",
    "# Exibir o resultado\n",
    "\n",
    "display(df_orcamento)"
   ]
  },
  {
   "cell_type": "code",
   "execution_count": 58,
   "metadata": {},
   "outputs": [
    {
     "name": "stdout",
     "output_type": "stream",
     "text": [
      "0      11670.099609\n",
      "1      17394.820312\n",
      "2      19787.460938\n",
      "3       2159.770020\n",
      "4       7390.200195\n",
      "           ...     \n",
      "195    15225.099609\n",
      "196    16460.679688\n",
      "197    12795.280273\n",
      "198     9634.169922\n",
      "199    13022.000000\n",
      "Name: Valor, Length: 200, dtype: float32\n"
     ]
    }
   ],
   "source": [
    "#df_orcamento[\"Valor\"] = df_orcamento[\"Valor\"].astype(float)\n",
    "\n",
    "df_orcamento[\"Valor\"] = df_orcamento[\"Valor\"].map(\"{:,.2f}\".format).str.replace(\",\", \"\")#.str.replace(\".\", \",\")\n",
    "df_orcamento[\"Valor\"] = df_orcamento[\"Valor\"].astype(\"float32\")\n",
    "print(df_orcamento[\"Valor\"])"
   ]
  },
  {
   "cell_type": "code",
   "execution_count": 59,
   "metadata": {},
   "outputs": [
    {
     "data": {
      "text/plain": [
       "Id_despesa     0\n",
       "Data           0\n",
       "Tipo           0\n",
       "Setor          0\n",
       "Valor          9\n",
       "Fornecedor    19\n",
       "dtype: int64"
      ]
     },
     "execution_count": 59,
     "metadata": {},
     "output_type": "execute_result"
    }
   ],
   "source": [
    "df_orcamento.isnull().sum()"
   ]
  },
  {
   "cell_type": "code",
   "execution_count": 60,
   "metadata": {},
   "outputs": [
    {
     "data": {
      "application/vnd.microsoft.datawrangler.viewer.v0+json": {
       "columns": [
        {
         "name": "index",
         "rawType": "int64",
         "type": "integer"
        },
        {
         "name": "Id_despesa",
         "rawType": "int64",
         "type": "integer"
        },
        {
         "name": "Data",
         "rawType": "object",
         "type": "string"
        },
        {
         "name": "Tipo",
         "rawType": "object",
         "type": "string"
        },
        {
         "name": "Setor",
         "rawType": "object",
         "type": "string"
        },
        {
         "name": "Valor",
         "rawType": "float32",
         "type": "float"
        },
        {
         "name": "Fornecedor",
         "rawType": "object",
         "type": "string"
        }
       ],
       "conversionMethod": "pd.DataFrame",
       "ref": "8e6473c2-4956-4bc3-9203-260c26d7bb2c",
       "rows": [
        [
         "0",
         "1",
         "08/2024",
         "Salário",
         "Financeiro",
         "11670.1",
         "Teixeira"
        ],
        [
         "1",
         "2",
         "09/2024",
         "Água",
         "Logística",
         "17394.82",
         "Nunes"
        ],
        [
         "2",
         "3",
         "08/2024",
         "Água",
         "Financeiro",
         "19787.46",
         "Moura S/A"
        ],
        [
         "3",
         "4",
         "09/2024",
         "Compra Matéria-prima",
         "Produção",
         "2159.77",
         "Barros"
        ],
        [
         "4",
         "5",
         "02/2025",
         "Internet",
         "RH",
         "7390.2",
         "Mendes - EI"
        ],
        [
         "5",
         "6",
         "01/2025",
         "Água",
         "RH",
         "5786.35",
         "da Rocha Vargas - EI"
        ],
        [
         "6",
         "7",
         "08/2024",
         "Compra Matéria-prima",
         "Financeiro",
         "12713.59",
         "Sá - EI"
        ],
        [
         "7",
         "8",
         "08/2024",
         "Energia",
         "Comercial",
         "11286.99",
         "Jesus"
        ],
        [
         "8",
         "9",
         "06/2024",
         "Energia",
         "Produção",
         "398.2",
         "Rodrigues"
        ],
        [
         "9",
         "10",
         "01/2025",
         "Salário",
         "Financeiro",
         "10511.56",
         "Cirino"
        ],
        [
         "10",
         "11",
         "02/2025",
         "Salário",
         "Logística",
         "14855.0",
         "Rodrigues"
        ],
        [
         "11",
         "12",
         "10/2024",
         "Salário",
         "Financeiro",
         "14020.35",
         "Dias"
        ],
        [
         "12",
         "13",
         "07/2024",
         "Água",
         "Financeiro",
         "15504.96",
         "Sá"
        ],
        [
         "13",
         "14",
         "05/2025",
         "Salário",
         "Comercial",
         "10878.01",
         "Cassiano"
        ],
        [
         "14",
         "15",
         "01/2025",
         "Água",
         "Produção",
         "6450.78",
         "Andrade Vieira S.A."
        ],
        [
         "17",
         "18",
         "09/2024",
         "Compra Matéria-prima",
         "Produção",
         "15605.07",
         "Viana - ME"
        ],
        [
         "18",
         "19",
         "05/2024",
         "Água",
         "RH",
         "11327.78",
         "Cardoso"
        ],
        [
         "19",
         "20",
         "05/2024",
         "Internet",
         "Comercial",
         "6849.85",
         "Novaes"
        ],
        [
         "20",
         "21",
         "05/2025",
         "Água",
         "Produção",
         "814.96",
         "Machado Carvalho S/A"
        ],
        [
         "21",
         "22",
         "07/2024",
         "Energia",
         "RH",
         "7317.09",
         "Andrade e Filhos"
        ],
        [
         "22",
         "23",
         "04/2025",
         "Internet",
         "Comercial",
         "12181.89",
         "Borges"
        ],
        [
         "23",
         "24",
         "10/2024",
         "Salário",
         "Financeiro",
         "8180.55",
         "Rodrigues"
        ],
        [
         "24",
         "25",
         "10/2024",
         "Compra Matéria-prima",
         "RH",
         "13129.43",
         "Vasconcelos"
        ],
        [
         "25",
         "26",
         "05/2024",
         "Compra Matéria-prima",
         "Financeiro",
         "10062.76",
         "Pimenta"
        ],
        [
         "27",
         "28",
         "02/2025",
         "Água",
         "Logística",
         "16226.08",
         "Dias"
        ],
        [
         "28",
         "29",
         "06/2024",
         "Internet",
         "Produção",
         "18045.12",
         "Nogueira Silva - ME"
        ],
        [
         "29",
         "30",
         "02/2025",
         "Salário",
         "Comercial",
         "2865.12",
         "Caldeira"
        ],
        [
         "30",
         "31",
         "01/2025",
         "Salário",
         "Comercial",
         "11102.85",
         "Vieira e Filhos"
        ],
        [
         "31",
         "32",
         "09/2024",
         "Compra Matéria-prima",
         "Financeiro",
         "570.52",
         "da Mata"
        ],
        [
         "32",
         "33",
         "04/2025",
         "Internet",
         "Logística",
         "17704.33",
         "Ferreira"
        ],
        [
         "33",
         "34",
         "03/2025",
         "Salário",
         "Logística",
         "14585.19",
         "da Rocha Pimenta Ltda."
        ],
        [
         "34",
         "35",
         "03/2025",
         "Energia",
         "Logística",
         "7343.63",
         "da Rosa"
        ],
        [
         "35",
         "36",
         "03/2025",
         "Água",
         "Financeiro",
         "10928.89",
         "Freitas - EI"
        ],
        [
         "36",
         "37",
         "11/2024",
         "Água",
         "Financeiro",
         "15462.28",
         "Pastor S/A"
        ],
        [
         "38",
         "39",
         "08/2024",
         "Internet",
         "Produção",
         "2811.55",
         "Almeida Cassiano Ltda."
        ],
        [
         "39",
         "40",
         "12/2024",
         "Água",
         "Comercial",
         "16353.44",
         "Cardoso"
        ],
        [
         "40",
         "41",
         "03/2025",
         "Energia",
         "Comercial",
         "18495.95",
         "Vieira Melo Ltda."
        ],
        [
         "41",
         "42",
         "12/2024",
         "Energia",
         "Logística",
         "15122.3",
         "Ramos"
        ],
        [
         "42",
         "43",
         "03/2025",
         "Compra Matéria-prima",
         "Financeiro",
         "2217.06",
         "Albuquerque S.A."
        ],
        [
         "43",
         "44",
         "02/2025",
         "Internet",
         "Comercial",
         "14763.4",
         "Montenegro"
        ],
        [
         "44",
         "45",
         "09/2024",
         "Salário",
         "Financeiro",
         "1161.79",
         "Nunes"
        ],
        [
         "46",
         "47",
         "08/2024",
         "Água",
         "Financeiro",
         "16620.24",
         "da Cruz"
        ],
        [
         "47",
         "48",
         "09/2024",
         "Energia",
         "Financeiro",
         "16557.45",
         "Macedo Cardoso - ME"
        ],
        [
         "49",
         "50",
         "07/2024",
         "Energia",
         "Logística",
         "9967.67",
         "Jesus - ME"
        ],
        [
         "50",
         "51",
         "08/2024",
         "Água",
         "Logística",
         "14058.62",
         "Freitas"
        ],
        [
         "52",
         "53",
         "03/2025",
         "Internet",
         "Financeiro",
         "1544.1",
         "Albuquerque"
        ],
        [
         "53",
         "54",
         "10/2024",
         "Salário",
         "Comercial",
         "1396.9",
         "Gonçalves"
        ],
        [
         "54",
         "55",
         "04/2025",
         "Salário",
         "Produção",
         "12514.07",
         "Brito"
        ],
        [
         "56",
         "57",
         "05/2024",
         "Compra Matéria-prima",
         "Comercial",
         "2580.04",
         "Melo"
        ],
        [
         "57",
         "58",
         "01/2025",
         "Compra Matéria-prima",
         "Produção",
         "10157.53",
         "Gomes - ME"
        ]
       ],
       "shape": {
        "columns": 6,
        "rows": 174
       }
      },
      "text/html": [
       "<div>\n",
       "<style scoped>\n",
       "    .dataframe tbody tr th:only-of-type {\n",
       "        vertical-align: middle;\n",
       "    }\n",
       "\n",
       "    .dataframe tbody tr th {\n",
       "        vertical-align: top;\n",
       "    }\n",
       "\n",
       "    .dataframe thead th {\n",
       "        text-align: right;\n",
       "    }\n",
       "</style>\n",
       "<table border=\"1\" class=\"dataframe\">\n",
       "  <thead>\n",
       "    <tr style=\"text-align: right;\">\n",
       "      <th></th>\n",
       "      <th>Id_despesa</th>\n",
       "      <th>Data</th>\n",
       "      <th>Tipo</th>\n",
       "      <th>Setor</th>\n",
       "      <th>Valor</th>\n",
       "      <th>Fornecedor</th>\n",
       "    </tr>\n",
       "  </thead>\n",
       "  <tbody>\n",
       "    <tr>\n",
       "      <th>0</th>\n",
       "      <td>1</td>\n",
       "      <td>08/2024</td>\n",
       "      <td>Salário</td>\n",
       "      <td>Financeiro</td>\n",
       "      <td>11670.099609</td>\n",
       "      <td>Teixeira</td>\n",
       "    </tr>\n",
       "    <tr>\n",
       "      <th>1</th>\n",
       "      <td>2</td>\n",
       "      <td>09/2024</td>\n",
       "      <td>Água</td>\n",
       "      <td>Logística</td>\n",
       "      <td>17394.820312</td>\n",
       "      <td>Nunes</td>\n",
       "    </tr>\n",
       "    <tr>\n",
       "      <th>2</th>\n",
       "      <td>3</td>\n",
       "      <td>08/2024</td>\n",
       "      <td>Água</td>\n",
       "      <td>Financeiro</td>\n",
       "      <td>19787.460938</td>\n",
       "      <td>Moura S/A</td>\n",
       "    </tr>\n",
       "    <tr>\n",
       "      <th>3</th>\n",
       "      <td>4</td>\n",
       "      <td>09/2024</td>\n",
       "      <td>Compra Matéria-prima</td>\n",
       "      <td>Produção</td>\n",
       "      <td>2159.770020</td>\n",
       "      <td>Barros</td>\n",
       "    </tr>\n",
       "    <tr>\n",
       "      <th>4</th>\n",
       "      <td>5</td>\n",
       "      <td>02/2025</td>\n",
       "      <td>Internet</td>\n",
       "      <td>RH</td>\n",
       "      <td>7390.200195</td>\n",
       "      <td>Mendes - EI</td>\n",
       "    </tr>\n",
       "    <tr>\n",
       "      <th>...</th>\n",
       "      <td>...</td>\n",
       "      <td>...</td>\n",
       "      <td>...</td>\n",
       "      <td>...</td>\n",
       "      <td>...</td>\n",
       "      <td>...</td>\n",
       "    </tr>\n",
       "    <tr>\n",
       "      <th>195</th>\n",
       "      <td>196</td>\n",
       "      <td>10/2024</td>\n",
       "      <td>Energia</td>\n",
       "      <td>Produção</td>\n",
       "      <td>15225.099609</td>\n",
       "      <td>da Cunha Mendes e Filhos</td>\n",
       "    </tr>\n",
       "    <tr>\n",
       "      <th>196</th>\n",
       "      <td>197</td>\n",
       "      <td>07/2024</td>\n",
       "      <td>Salário</td>\n",
       "      <td>RH</td>\n",
       "      <td>16460.679688</td>\n",
       "      <td>Pires e Filhos</td>\n",
       "    </tr>\n",
       "    <tr>\n",
       "      <th>197</th>\n",
       "      <td>198</td>\n",
       "      <td>10/2024</td>\n",
       "      <td>Água</td>\n",
       "      <td>Financeiro</td>\n",
       "      <td>12795.280273</td>\n",
       "      <td>Nascimento</td>\n",
       "    </tr>\n",
       "    <tr>\n",
       "      <th>198</th>\n",
       "      <td>199</td>\n",
       "      <td>08/2024</td>\n",
       "      <td>Compra Matéria-prima</td>\n",
       "      <td>Logística</td>\n",
       "      <td>9634.169922</td>\n",
       "      <td>da Costa</td>\n",
       "    </tr>\n",
       "    <tr>\n",
       "      <th>199</th>\n",
       "      <td>200</td>\n",
       "      <td>03/2025</td>\n",
       "      <td>Salário</td>\n",
       "      <td>Produção</td>\n",
       "      <td>13022.000000</td>\n",
       "      <td>Porto - ME</td>\n",
       "    </tr>\n",
       "  </tbody>\n",
       "</table>\n",
       "<p>174 rows × 6 columns</p>\n",
       "</div>"
      ],
      "text/plain": [
       "     Id_despesa     Data                  Tipo       Setor         Valor  \\\n",
       "0             1  08/2024               Salário  Financeiro  11670.099609   \n",
       "1             2  09/2024                  Água   Logística  17394.820312   \n",
       "2             3  08/2024                  Água  Financeiro  19787.460938   \n",
       "3             4  09/2024  Compra Matéria-prima    Produção   2159.770020   \n",
       "4             5  02/2025              Internet          RH   7390.200195   \n",
       "..          ...      ...                   ...         ...           ...   \n",
       "195         196  10/2024               Energia    Produção  15225.099609   \n",
       "196         197  07/2024               Salário          RH  16460.679688   \n",
       "197         198  10/2024                  Água  Financeiro  12795.280273   \n",
       "198         199  08/2024  Compra Matéria-prima   Logística   9634.169922   \n",
       "199         200  03/2025               Salário    Produção  13022.000000   \n",
       "\n",
       "                   Fornecedor  \n",
       "0                    Teixeira  \n",
       "1                       Nunes  \n",
       "2                   Moura S/A  \n",
       "3                      Barros  \n",
       "4                 Mendes - EI  \n",
       "..                        ...  \n",
       "195  da Cunha Mendes e Filhos  \n",
       "196            Pires e Filhos  \n",
       "197                Nascimento  \n",
       "198                  da Costa  \n",
       "199                Porto - ME  \n",
       "\n",
       "[174 rows x 6 columns]"
      ]
     },
     "metadata": {},
     "output_type": "display_data"
    }
   ],
   "source": [
    "df_orcamento = df_orcamento.dropna()\n",
    "\n",
    "display(df_orcamento)"
   ]
  },
  {
   "cell_type": "code",
   "execution_count": 61,
   "metadata": {},
   "outputs": [],
   "source": [
    "df_orcamento.to_excel(\"Orcamento_Tratado.xlsx\", index=False)\n",
    "\n",
    "df_despesas.to_excel(\"Despesas_Tratado.xlsx\", index=False)"
   ]
  },
  {
   "cell_type": "code",
   "execution_count": 62,
   "metadata": {},
   "outputs": [
    {
     "data": {
      "application/vnd.microsoft.datawrangler.viewer.v0+json": {
       "columns": [
        {
         "name": "index",
         "rawType": "int64",
         "type": "integer"
        },
        {
         "name": "Id_despesa",
         "rawType": "int64",
         "type": "integer"
        },
        {
         "name": "Data",
         "rawType": "object",
         "type": "string"
        },
        {
         "name": "Tipo",
         "rawType": "object",
         "type": "string"
        },
        {
         "name": "Setor",
         "rawType": "object",
         "type": "string"
        },
        {
         "name": "Valor",
         "rawType": "float32",
         "type": "float"
        },
        {
         "name": "Fornecedor",
         "rawType": "object",
         "type": "string"
        }
       ],
       "conversionMethod": "pd.DataFrame",
       "ref": "8af874da-d4e4-4999-a829-af4b126a4d68",
       "rows": [
        [
         "0",
         "1",
         "08/2024",
         "Salário",
         "Financeiro",
         "11670.1",
         "Teixeira"
        ],
        [
         "1",
         "2",
         "09/2024",
         "Água",
         "Logística",
         "17394.82",
         "Nunes"
        ],
        [
         "2",
         "3",
         "08/2024",
         "Água",
         "Financeiro",
         "19787.46",
         "Moura S/A"
        ],
        [
         "3",
         "4",
         "09/2024",
         "Compra Matéria-prima",
         "Produção",
         "2159.77",
         "Barros"
        ],
        [
         "4",
         "5",
         "02/2025",
         "Internet",
         "RH",
         "7390.2",
         "Mendes - EI"
        ],
        [
         "5",
         "6",
         "01/2025",
         "Água",
         "RH",
         "5786.35",
         "da Rocha Vargas - EI"
        ],
        [
         "6",
         "7",
         "08/2024",
         "Compra Matéria-prima",
         "Financeiro",
         "12713.59",
         "Sá - EI"
        ],
        [
         "7",
         "8",
         "08/2024",
         "Energia",
         "Comercial",
         "11286.99",
         "Jesus"
        ],
        [
         "8",
         "9",
         "06/2024",
         "Energia",
         "Produção",
         "398.2",
         "Rodrigues"
        ],
        [
         "9",
         "10",
         "01/2025",
         "Salário",
         "Financeiro",
         "10511.56",
         "Cirino"
        ],
        [
         "10",
         "11",
         "02/2025",
         "Salário",
         "Logística",
         "14855.0",
         "Rodrigues"
        ],
        [
         "11",
         "12",
         "10/2024",
         "Salário",
         "Financeiro",
         "14020.35",
         "Dias"
        ],
        [
         "12",
         "13",
         "07/2024",
         "Água",
         "Financeiro",
         "15504.96",
         "Sá"
        ],
        [
         "13",
         "14",
         "05/2025",
         "Salário",
         "Comercial",
         "10878.01",
         "Cassiano"
        ],
        [
         "14",
         "15",
         "01/2025",
         "Água",
         "Produção",
         "6450.78",
         "Andrade Vieira S.A."
        ],
        [
         "17",
         "18",
         "09/2024",
         "Compra Matéria-prima",
         "Produção",
         "15605.07",
         "Viana - ME"
        ],
        [
         "18",
         "19",
         "05/2024",
         "Água",
         "RH",
         "11327.78",
         "Cardoso"
        ],
        [
         "19",
         "20",
         "05/2024",
         "Internet",
         "Comercial",
         "6849.85",
         "Novaes"
        ],
        [
         "20",
         "21",
         "05/2025",
         "Água",
         "Produção",
         "814.96",
         "Machado Carvalho S/A"
        ],
        [
         "21",
         "22",
         "07/2024",
         "Energia",
         "RH",
         "7317.09",
         "Andrade e Filhos"
        ],
        [
         "22",
         "23",
         "04/2025",
         "Internet",
         "Comercial",
         "12181.89",
         "Borges"
        ],
        [
         "23",
         "24",
         "10/2024",
         "Salário",
         "Financeiro",
         "8180.55",
         "Rodrigues"
        ],
        [
         "24",
         "25",
         "10/2024",
         "Compra Matéria-prima",
         "RH",
         "13129.43",
         "Vasconcelos"
        ],
        [
         "25",
         "26",
         "05/2024",
         "Compra Matéria-prima",
         "Financeiro",
         "10062.76",
         "Pimenta"
        ],
        [
         "27",
         "28",
         "02/2025",
         "Água",
         "Logística",
         "16226.08",
         "Dias"
        ],
        [
         "28",
         "29",
         "06/2024",
         "Internet",
         "Produção",
         "18045.12",
         "Nogueira Silva - ME"
        ],
        [
         "29",
         "30",
         "02/2025",
         "Salário",
         "Comercial",
         "2865.12",
         "Caldeira"
        ],
        [
         "30",
         "31",
         "01/2025",
         "Salário",
         "Comercial",
         "11102.85",
         "Vieira e Filhos"
        ],
        [
         "31",
         "32",
         "09/2024",
         "Compra Matéria-prima",
         "Financeiro",
         "570.52",
         "da Mata"
        ],
        [
         "32",
         "33",
         "04/2025",
         "Internet",
         "Logística",
         "17704.33",
         "Ferreira"
        ],
        [
         "33",
         "34",
         "03/2025",
         "Salário",
         "Logística",
         "14585.19",
         "da Rocha Pimenta Ltda."
        ],
        [
         "34",
         "35",
         "03/2025",
         "Energia",
         "Logística",
         "7343.63",
         "da Rosa"
        ],
        [
         "35",
         "36",
         "03/2025",
         "Água",
         "Financeiro",
         "10928.89",
         "Freitas - EI"
        ],
        [
         "36",
         "37",
         "11/2024",
         "Água",
         "Financeiro",
         "15462.28",
         "Pastor S/A"
        ],
        [
         "38",
         "39",
         "08/2024",
         "Internet",
         "Produção",
         "2811.55",
         "Almeida Cassiano Ltda."
        ],
        [
         "39",
         "40",
         "12/2024",
         "Água",
         "Comercial",
         "16353.44",
         "Cardoso"
        ],
        [
         "40",
         "41",
         "03/2025",
         "Energia",
         "Comercial",
         "18495.95",
         "Vieira Melo Ltda."
        ],
        [
         "41",
         "42",
         "12/2024",
         "Energia",
         "Logística",
         "15122.3",
         "Ramos"
        ],
        [
         "42",
         "43",
         "03/2025",
         "Compra Matéria-prima",
         "Financeiro",
         "2217.06",
         "Albuquerque S.A."
        ],
        [
         "43",
         "44",
         "02/2025",
         "Internet",
         "Comercial",
         "14763.4",
         "Montenegro"
        ],
        [
         "44",
         "45",
         "09/2024",
         "Salário",
         "Financeiro",
         "1161.79",
         "Nunes"
        ],
        [
         "46",
         "47",
         "08/2024",
         "Água",
         "Financeiro",
         "16620.24",
         "da Cruz"
        ],
        [
         "47",
         "48",
         "09/2024",
         "Energia",
         "Financeiro",
         "16557.45",
         "Macedo Cardoso - ME"
        ],
        [
         "49",
         "50",
         "07/2024",
         "Energia",
         "Logística",
         "9967.67",
         "Jesus - ME"
        ],
        [
         "50",
         "51",
         "08/2024",
         "Água",
         "Logística",
         "14058.62",
         "Freitas"
        ],
        [
         "52",
         "53",
         "03/2025",
         "Internet",
         "Financeiro",
         "1544.1",
         "Albuquerque"
        ],
        [
         "53",
         "54",
         "10/2024",
         "Salário",
         "Comercial",
         "1396.9",
         "Gonçalves"
        ],
        [
         "54",
         "55",
         "04/2025",
         "Salário",
         "Produção",
         "12514.07",
         "Brito"
        ],
        [
         "56",
         "57",
         "05/2024",
         "Compra Matéria-prima",
         "Comercial",
         "2580.04",
         "Melo"
        ],
        [
         "57",
         "58",
         "01/2025",
         "Compra Matéria-prima",
         "Produção",
         "10157.53",
         "Gomes - ME"
        ]
       ],
       "shape": {
        "columns": 6,
        "rows": 174
       }
      },
      "text/html": [
       "<div>\n",
       "<style scoped>\n",
       "    .dataframe tbody tr th:only-of-type {\n",
       "        vertical-align: middle;\n",
       "    }\n",
       "\n",
       "    .dataframe tbody tr th {\n",
       "        vertical-align: top;\n",
       "    }\n",
       "\n",
       "    .dataframe thead th {\n",
       "        text-align: right;\n",
       "    }\n",
       "</style>\n",
       "<table border=\"1\" class=\"dataframe\">\n",
       "  <thead>\n",
       "    <tr style=\"text-align: right;\">\n",
       "      <th></th>\n",
       "      <th>Id_despesa</th>\n",
       "      <th>Data</th>\n",
       "      <th>Tipo</th>\n",
       "      <th>Setor</th>\n",
       "      <th>Valor</th>\n",
       "      <th>Fornecedor</th>\n",
       "    </tr>\n",
       "  </thead>\n",
       "  <tbody>\n",
       "    <tr>\n",
       "      <th>0</th>\n",
       "      <td>1</td>\n",
       "      <td>08/2024</td>\n",
       "      <td>Salário</td>\n",
       "      <td>Financeiro</td>\n",
       "      <td>11670.099609</td>\n",
       "      <td>Teixeira</td>\n",
       "    </tr>\n",
       "    <tr>\n",
       "      <th>1</th>\n",
       "      <td>2</td>\n",
       "      <td>09/2024</td>\n",
       "      <td>Água</td>\n",
       "      <td>Logística</td>\n",
       "      <td>17394.820312</td>\n",
       "      <td>Nunes</td>\n",
       "    </tr>\n",
       "    <tr>\n",
       "      <th>2</th>\n",
       "      <td>3</td>\n",
       "      <td>08/2024</td>\n",
       "      <td>Água</td>\n",
       "      <td>Financeiro</td>\n",
       "      <td>19787.460938</td>\n",
       "      <td>Moura S/A</td>\n",
       "    </tr>\n",
       "    <tr>\n",
       "      <th>3</th>\n",
       "      <td>4</td>\n",
       "      <td>09/2024</td>\n",
       "      <td>Compra Matéria-prima</td>\n",
       "      <td>Produção</td>\n",
       "      <td>2159.770020</td>\n",
       "      <td>Barros</td>\n",
       "    </tr>\n",
       "    <tr>\n",
       "      <th>4</th>\n",
       "      <td>5</td>\n",
       "      <td>02/2025</td>\n",
       "      <td>Internet</td>\n",
       "      <td>RH</td>\n",
       "      <td>7390.200195</td>\n",
       "      <td>Mendes - EI</td>\n",
       "    </tr>\n",
       "    <tr>\n",
       "      <th>...</th>\n",
       "      <td>...</td>\n",
       "      <td>...</td>\n",
       "      <td>...</td>\n",
       "      <td>...</td>\n",
       "      <td>...</td>\n",
       "      <td>...</td>\n",
       "    </tr>\n",
       "    <tr>\n",
       "      <th>195</th>\n",
       "      <td>196</td>\n",
       "      <td>10/2024</td>\n",
       "      <td>Energia</td>\n",
       "      <td>Produção</td>\n",
       "      <td>15225.099609</td>\n",
       "      <td>da Cunha Mendes e Filhos</td>\n",
       "    </tr>\n",
       "    <tr>\n",
       "      <th>196</th>\n",
       "      <td>197</td>\n",
       "      <td>07/2024</td>\n",
       "      <td>Salário</td>\n",
       "      <td>RH</td>\n",
       "      <td>16460.679688</td>\n",
       "      <td>Pires e Filhos</td>\n",
       "    </tr>\n",
       "    <tr>\n",
       "      <th>197</th>\n",
       "      <td>198</td>\n",
       "      <td>10/2024</td>\n",
       "      <td>Água</td>\n",
       "      <td>Financeiro</td>\n",
       "      <td>12795.280273</td>\n",
       "      <td>Nascimento</td>\n",
       "    </tr>\n",
       "    <tr>\n",
       "      <th>198</th>\n",
       "      <td>199</td>\n",
       "      <td>08/2024</td>\n",
       "      <td>Compra Matéria-prima</td>\n",
       "      <td>Logística</td>\n",
       "      <td>9634.169922</td>\n",
       "      <td>da Costa</td>\n",
       "    </tr>\n",
       "    <tr>\n",
       "      <th>199</th>\n",
       "      <td>200</td>\n",
       "      <td>03/2025</td>\n",
       "      <td>Salário</td>\n",
       "      <td>Produção</td>\n",
       "      <td>13022.000000</td>\n",
       "      <td>Porto - ME</td>\n",
       "    </tr>\n",
       "  </tbody>\n",
       "</table>\n",
       "<p>174 rows × 6 columns</p>\n",
       "</div>"
      ],
      "text/plain": [
       "     Id_despesa     Data                  Tipo       Setor         Valor  \\\n",
       "0             1  08/2024               Salário  Financeiro  11670.099609   \n",
       "1             2  09/2024                  Água   Logística  17394.820312   \n",
       "2             3  08/2024                  Água  Financeiro  19787.460938   \n",
       "3             4  09/2024  Compra Matéria-prima    Produção   2159.770020   \n",
       "4             5  02/2025              Internet          RH   7390.200195   \n",
       "..          ...      ...                   ...         ...           ...   \n",
       "195         196  10/2024               Energia    Produção  15225.099609   \n",
       "196         197  07/2024               Salário          RH  16460.679688   \n",
       "197         198  10/2024                  Água  Financeiro  12795.280273   \n",
       "198         199  08/2024  Compra Matéria-prima   Logística   9634.169922   \n",
       "199         200  03/2025               Salário    Produção  13022.000000   \n",
       "\n",
       "                   Fornecedor  \n",
       "0                    Teixeira  \n",
       "1                       Nunes  \n",
       "2                   Moura S/A  \n",
       "3                      Barros  \n",
       "4                 Mendes - EI  \n",
       "..                        ...  \n",
       "195  da Cunha Mendes e Filhos  \n",
       "196            Pires e Filhos  \n",
       "197                Nascimento  \n",
       "198                  da Costa  \n",
       "199                Porto - ME  \n",
       "\n",
       "[174 rows x 6 columns]"
      ]
     },
     "metadata": {},
     "output_type": "display_data"
    }
   ],
   "source": [
    "display(df_orcamento)"
   ]
  },
  {
   "cell_type": "code",
   "execution_count": 63,
   "metadata": {},
   "outputs": [
    {
     "name": "stderr",
     "output_type": "stream",
     "text": [
      "C:\\Users\\guitc\\AppData\\Local\\Temp\\ipykernel_19516\\348151658.py:8: UserWarning: Could not infer format, so each element will be parsed individually, falling back to `dateutil`. To ensure parsing is consistent and as-expected, please specify a format.\n",
      "  df_orcamento[\"Data\"] = pd.to_datetime(df_orcamento[\"Data\"])\n"
     ]
    }
   ],
   "source": [
    "# df_orcamento[\"Data\"] = pd.to_datetime(df_orcamento[\"Data\"])\n",
    "\n",
    "# df_orcamento.set_index(\"Data\", inplace=True)\n",
    "\n",
    "# despesas_area = df_orcamento[\"Tipo\",\"Valor\"].resample(\"QE\").sum()\n",
    "# print(despesas_area)\n",
    "\n",
    "df_orcamento[\"Data\"] = pd.to_datetime(df_orcamento[\"Data\"])\n",
    "\n",
    "# Cria coluna com trimestre\n",
    "df_orcamento[\"Trimestre\"] = df_orcamento[\"Data\"].dt.to_period(\"Q\").astype(str)\n",
    "\n",
    "# Agrupa por Setor e Trimestre\n",
    "despesas_area_Trimestre = df_orcamento.groupby([\"Tipo\", \"Trimestre\"])[\"Valor\"].sum().reset_index()\n",
    "\n",
    "despesas_area_Total = df_orcamento.groupby(\"Tipo\")[\"Valor\"].sum()#.reset_index()"
   ]
  },
  {
   "cell_type": "code",
   "execution_count": 64,
   "metadata": {},
   "outputs": [
    {
     "data": {
      "text/plain": [
       "dtype('float32')"
      ]
     },
     "execution_count": 64,
     "metadata": {},
     "output_type": "execute_result"
    }
   ],
   "source": [
    "df_orcamento[\"Valor\"].dtype"
   ]
  }
 ],
 "metadata": {
  "kernelspec": {
   "display_name": "Python 3",
   "language": "python",
   "name": "python3"
  },
  "language_info": {
   "codemirror_mode": {
    "name": "ipython",
    "version": 3
   },
   "file_extension": ".py",
   "mimetype": "text/x-python",
   "name": "python",
   "nbconvert_exporter": "python",
   "pygments_lexer": "ipython3",
   "version": "3.13.1"
  }
 },
 "nbformat": 4,
 "nbformat_minor": 2
}
