{
 "cells": [
  {
   "cell_type": "code",
   "execution_count": 10,
   "metadata": {},
   "outputs": [],
   "source": [
    "import pandas as pd\n",
    "import numpy as np\n"
   ]
  },
  {
   "cell_type": "code",
   "execution_count": 11,
   "metadata": {},
   "outputs": [],
   "source": [
    "df = pd.read_excel(\"Base_Final.xlsx\")"
   ]
  },
  {
   "cell_type": "code",
   "execution_count": 12,
   "metadata": {},
   "outputs": [
    {
     "name": "stdout",
     "output_type": "stream",
     "text": [
      "<class 'pandas.core.frame.DataFrame'>\n",
      "RangeIndex: 35 entries, 0 to 34\n",
      "Data columns (total 28 columns):\n",
      " #   Column                                     Non-Null Count  Dtype         \n",
      "---  ------                                     --------------  -----         \n",
      " 0   Unnamed: 0                                 35 non-null     int64         \n",
      " 1   dt_notificacao                             35 non-null     datetime64[ns]\n",
      " 2   Mês                                        35 non-null     object        \n",
      " 3   Ano                                        35 non-null     int64         \n",
      " 4   cd_municipio                               35 non-null     int64         \n",
      " 5   município                                  35 non-null     object        \n",
      " 6   Coluna1                                    35 non-null     int64         \n",
      " 7   CEP                                        35 non-null     int64         \n",
      " 8   qntd_casos                                 35 non-null     int64         \n",
      " 9   qntd_hospitalizacao                        35 non-null     int64         \n",
      " 10  qntd_resultado_soro                        35 non-null     int64         \n",
      " 11  qntd_resultado_ns1                         35 non-null     int64         \n",
      " 12  qntd_resultado_pcr                         35 non-null     int64         \n",
      " 13  qntd_auctone                               35 non-null     int64         \n",
      " 14  qntd_febre                                 35 non-null     int64         \n",
      " 15  qntd_vomito                                35 non-null     int64         \n",
      " 16  qntd_nausea                                35 non-null     int64         \n",
      " 17  qntd_sangramento                           35 non-null     int64         \n",
      " 18  Nome                                       13 non-null     object        \n",
      " 19  Ação realizada em                          13 non-null     datetime64[ns]\n",
      " 20  Peso total dos resíduos (kg)               35 non-null     int64         \n",
      " 21  Quantidade total de itens coletados:       35 non-null     int64         \n",
      " 22  Garrafas PET                               13 non-null     float64       \n",
      " 23  Pneus                                      13 non-null     float64       \n",
      " 24  Copos/talheres/pratos                      13 non-null     float64       \n",
      " 25  Sacos e sacolas                            13 non-null     float64       \n",
      " 26  Latas de bebida                            13 non-null     float64       \n",
      " 27  Caixas de leite/suco, etc                  13 non-null     float64       \n",
      "dtypes: datetime64[ns](2), float64(6), int64(17), object(3)\n",
      "memory usage: 7.8+ KB\n"
     ]
    }
   ],
   "source": [
    "df.info()"
   ]
  },
  {
   "cell_type": "code",
   "execution_count": 13,
   "metadata": {},
   "outputs": [],
   "source": [
    "df[\"Peso total dos resíduos (kg)\"] = df[\"Peso total dos resíduos (kg)\"].fillna(0)"
   ]
  },
  {
   "cell_type": "code",
   "execution_count": 14,
   "metadata": {},
   "outputs": [],
   "source": [
    "df[\"Quantidade total de itens coletados:     \"] = df[\"Quantidade total de itens coletados:     \"].fillna(0)"
   ]
  },
  {
   "cell_type": "code",
   "execution_count": 15,
   "metadata": {},
   "outputs": [],
   "source": [
    "df[\"Quantidade total de itens coletados:     \"] = df[\"Quantidade total de itens coletados:     \"].astype(int)"
   ]
  },
  {
   "cell_type": "code",
   "execution_count": 16,
   "metadata": {},
   "outputs": [],
   "source": [
    "df[\"Peso total dos resíduos (kg)\"] = df[\"Peso total dos resíduos (kg)\"].astype(int)"
   ]
  },
  {
   "cell_type": "code",
   "execution_count": 17,
   "metadata": {},
   "outputs": [
    {
     "name": "stdout",
     "output_type": "stream",
     "text": [
      "0     03/2022\n",
      "1     03/2022\n",
      "2     04/2022\n",
      "3     04/2022\n",
      "4     04/2022\n",
      "5     05/2022\n",
      "6     05/2022\n",
      "7     05/2022\n",
      "8     05/2022\n",
      "9     05/2022\n",
      "10    06/2022\n",
      "11    06/2022\n",
      "12    06/2022\n",
      "13    07/2022\n",
      "14    07/2022\n",
      "15    07/2022\n",
      "16    08/2022\n",
      "17    05/2023\n",
      "18    05/2023\n",
      "19    06/2023\n",
      "20    06/2023\n",
      "21    06/2023\n",
      "22    07/2023\n",
      "23    07/2023\n",
      "24    07/2023\n",
      "25    07/2023\n",
      "26    08/2023\n",
      "27    08/2023\n",
      "28    09/2023\n",
      "29    03/2024\n",
      "30    04/2024\n",
      "31    05/2024\n",
      "32    05/2024\n",
      "33    06/2024\n",
      "34    07/2024\n",
      "Name: dt_notificacao, dtype: object\n"
     ]
    }
   ],
   "source": [
    "df[\"dt_notificacao\"] = pd.to_datetime(df[\"dt_notificacao\"], unit = 'ms')\n",
    "\n",
    "df[\"dt_notificacao\"] = df[\"dt_notificacao\"].dt.strftime('%m/%Y')\n",
    "\n",
    "print(df[\"dt_notificacao\"])"
   ]
  },
  {
   "cell_type": "code",
   "execution_count": 18,
   "metadata": {},
   "outputs": [],
   "source": [
    "df.to_excel(\"Base_Final.xlsx\")"
   ]
  }
 ],
 "metadata": {
  "kernelspec": {
   "display_name": "Python 3",
   "language": "python",
   "name": "python3"
  },
  "language_info": {
   "codemirror_mode": {
    "name": "ipython",
    "version": 3
   },
   "file_extension": ".py",
   "mimetype": "text/x-python",
   "name": "python",
   "nbconvert_exporter": "python",
   "pygments_lexer": "ipython3",
   "version": "3.12.1"
  }
 },
 "nbformat": 4,
 "nbformat_minor": 2
}
