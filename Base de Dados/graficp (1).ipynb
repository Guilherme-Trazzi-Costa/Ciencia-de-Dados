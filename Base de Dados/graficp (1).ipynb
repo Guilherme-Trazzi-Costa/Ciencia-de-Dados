{
 "cells": [
  {
   "cell_type": "code",
   "execution_count": null,
   "metadata": {},
   "outputs": [],
   "source": [
    "import pandas as pd\n",
    "import matplotlib.pyplot as plt\n",
    "import numpy as np\n",
    "\n",
    "df = pd.read_excel(\"Base.xlsx\")\n"
   ]
  },
  {
   "cell_type": "code",
   "execution_count": null,
   "metadata": {},
   "outputs": [],
   "source": [
    "display(df)"
   ]
  },
  {
   "cell_type": "code",
   "execution_count": null,
   "metadata": {},
   "outputs": [],
   "source": [
    "desvio = df[\"qntd_casos\"].std()\n",
    "\n",
    "for n in df[\"qntd_casos\"]:\n",
    "    if n < desvio:\n",
    "        df[\"qntd_casos\"]\n",
    "        \n",
    "print(df[\"qntd_casos\"])"
   ]
  },
  {
   "cell_type": "code",
   "execution_count": null,
   "metadata": {},
   "outputs": [],
   "source": [
    "casos_data = df.groupby(\"dt_notificacao\")[\"qntd_casos\"].sum()\n",
    "\n",
    "peso_data = df.groupby([\"dt_notificacao\", \"município\"])['Peso total dos resíduos (kg)'].sum()\n",
    "\n",
    "print(casos_data)"
   ]
  },
  {
   "cell_type": "code",
   "execution_count": null,
   "metadata": {},
   "outputs": [],
   "source": [
    "\n",
    "plt.figure(figsize=(10,5))\n",
    "casos_data.plot(kind=\"bar\", color=\"red\")\n",
    "#peso_data.plot(kind=\"bar\", color=\"blue\")\n",
    "\n",
    "plt.title(\"\")\n",
    "plt.xlabel(\"Mês\")\n",
    "plt.ylabel(\"Quantidades de casos e ação da Limpa Brasil\")\n",
    "plt.grid(True)\n",
    "plt.show()"
   ]
  },
  {
   "cell_type": "code",
   "execution_count": null,
   "metadata": {},
   "outputs": [],
   "source": [
    "plt.figure(figsize=(10,5))\n",
    "\n",
    "peso_data.plot(kind=\"bar\", color=\"blue\")\n",
    "\n",
    "plt.title(\"\")\n",
    "plt.xlabel(\"Mês\")\n",
    "plt.ylabel(\"Quantidades de casos e ação da Limpa Brasil\")\n",
    "plt.grid(True)\n",
    "plt.show()"
   ]
  }
 ],
 "metadata": {
  "kernelspec": {
   "display_name": "Python 3",
   "language": "python",
   "name": "python3"
  },
  "language_info": {
   "codemirror_mode": {
    "name": "ipython",
    "version": 3
   },
   "file_extension": ".py",
   "mimetype": "text/x-python",
   "name": "python",
   "nbconvert_exporter": "python",
   "pygments_lexer": "ipython3",
   "version": "3.12.1"
  }
 },
 "nbformat": 4,
 "nbformat_minor": 2
}
