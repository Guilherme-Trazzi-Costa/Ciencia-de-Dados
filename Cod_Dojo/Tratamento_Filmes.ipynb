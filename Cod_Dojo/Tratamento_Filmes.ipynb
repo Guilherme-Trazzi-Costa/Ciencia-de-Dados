{
 "cells": [
  {
   "cell_type": "code",
   "execution_count": null,
   "id": "daf5a9a4",
   "metadata": {},
   "outputs": [
    {
     "data": {
      "application/vnd.microsoft.datawrangler.viewer.v0+json": {
       "columns": [
        {
         "name": "index",
         "rawType": "int64",
         "type": "integer"
        },
        {
         "name": "Titulo",
         "rawType": "object",
         "type": "string"
        },
        {
         "name": "Classificacao",
         "rawType": "object",
         "type": "string"
        },
        {
         "name": "Ano",
         "rawType": "int64",
         "type": "integer"
        }
       ],
       "conversionMethod": "pd.DataFrame",
       "ref": "8cd8da33-c39b-4b7e-bc6f-14cf93a5aedf",
       "rows": [
        [
         "0",
         "1. Um Sonho de Liberdade",
         "16",
         "1994"
        ],
        [
         "1",
         "2. O Poderoso Chefão",
         "14",
         "1972"
        ],
        [
         "2",
         "3. Batman: O Cavaleiro das Trevas",
         "12",
         "2008"
        ],
        [
         "3",
         "4. O Poderoso Chefão: Parte II",
         "14",
         "1974"
        ],
        [
         "4",
         "5. 12 Homens e uma Sentença",
         "Livre",
         "1957"
        ],
        [
         "5",
         "6. O Senhor dos Anéis: O Retorno do Rei",
         "12",
         "2003"
        ],
        [
         "6",
         "7. A Lista de Schindler",
         "14",
         "1993"
        ],
        [
         "7",
         "8. Pulp Fiction: Tempo de Violência",
         "18",
         "1994"
        ],
        [
         "8",
         "9. O Senhor dos Anéis: A Sociedade do Anel",
         "12",
         "2001"
        ],
        [
         "9",
         "10. Três Homens em Conflito",
         "14",
         "1966"
        ],
        [
         "10",
         "11. Forrest Gump: O Contador de Histórias",
         "14",
         "1994"
        ],
        [
         "11",
         "12. O Senhor dos Anéis: As Duas Torres",
         "12",
         "2002"
        ],
        [
         "12",
         "13. Clube da Luta",
         "18",
         "1999"
        ],
        [
         "13",
         "14. A Origem",
         "10",
         "2010"
        ],
        [
         "14",
         "15. Star Wars: Episódio V - O Império Contra-Ataca",
         "Livre",
         "1980"
        ],
        [
         "15",
         "16. Matrix",
         "16",
         "1999"
        ],
        [
         "16",
         "17. Os Bons Companheiros",
         "14",
         "1990"
        ],
        [
         "17",
         "18. Interestelar",
         "14",
         "2014"
        ],
        [
         "18",
         "19. Um Estranho no Ninho",
         "16",
         "1975"
        ],
        [
         "19",
         "20. Seven - Os Sete Crimes Capitais",
         "14",
         "1995"
        ],
        [
         "20",
         "21. A Felicidade Não se Compra",
         "10",
         "1946"
        ],
        [
         "21",
         "22. O Silêncio dos Inocentes",
         "14",
         "1991"
        ],
        [
         "22",
         "23. Os Sete Samurais",
         "10",
         "1954"
        ],
        [
         "23",
         "24. O Resgate do Soldado Ryan",
         "14",
         "1998"
        ],
        [
         "24",
         "25. Cidade de Deus",
         "10",
         "2002"
        ],
        [
         "25",
         "26. À Espera de um Milagre",
         "18",
         "1999"
        ],
        [
         "26",
         "27. A Vida é Bela",
         "Livre",
         "1997"
        ],
        [
         "27",
         "28. O Exterminador do Futuro 2: O Julgamento Final",
         "14",
         "1991"
        ],
        [
         "28",
         "29. Star Wars: Episódio IV - Uma Nova Esperança",
         "Livre",
         "1977"
        ],
        [
         "29",
         "30. De Volta para o Futuro",
         "Livre",
         "1985"
        ],
        [
         "30",
         "31. A Viagem de Chihiro",
         "Livre",
         "2001"
        ],
        [
         "31",
         "32. O Pianista",
         "14",
         "2002"
        ],
        [
         "32",
         "33. Gladiador",
         "14",
         "2000"
        ],
        [
         "33",
         "34. Parasita",
         "12",
         "2019"
        ],
        [
         "34",
         "35. Psicose",
         "14",
         "1960"
        ],
        [
         "35",
         "36. O Rei Leão",
         "Livre",
         "1994"
        ],
        [
         "36",
         "37. Túmulo dos Vagalumes",
         "12",
         "1988"
        ],
        [
         "37",
         "38. Os Infiltrados",
         "18",
         "2006"
        ],
        [
         "38",
         "39. Whiplash: Em Busca da Perfeição",
         "14",
         "2014"
        ],
        [
         "39",
         "40. Harakiri",
         "16",
         "1962"
        ],
        [
         "40",
         "41. A Outra História Americana",
         "16",
         "1998"
        ],
        [
         "41",
         "42. O Grande Truque",
         "10",
         "2006"
        ],
        [
         "42",
         "43. O Profissional",
         "14",
         "1994"
        ],
        [
         "43",
         "44. Homem-Aranha: Através do Aranhaverso",
         "10",
         "2023"
        ],
        [
         "44",
         "45. Casablanca",
         "Livre",
         "1942"
        ],
        [
         "45",
         "46. Os Suspeitos",
         "14",
         "1995"
        ],
        [
         "46",
         "47. Intocáveis",
         "14",
         "2011"
        ],
        [
         "47",
         "48. Cinema Paradiso",
         "10",
         "1988"
        ],
        [
         "48",
         "49. Alien - O 8º Passageiro",
         "14",
         "1979"
        ],
        [
         "49",
         "50. Tempos Modernos",
         "Livre",
         "1936"
        ]
       ],
       "shape": {
        "columns": 3,
        "rows": 250
       }
      },
      "text/html": [
       "<div>\n",
       "<style scoped>\n",
       "    .dataframe tbody tr th:only-of-type {\n",
       "        vertical-align: middle;\n",
       "    }\n",
       "\n",
       "    .dataframe tbody tr th {\n",
       "        vertical-align: top;\n",
       "    }\n",
       "\n",
       "    .dataframe thead th {\n",
       "        text-align: right;\n",
       "    }\n",
       "</style>\n",
       "<table border=\"1\" class=\"dataframe\">\n",
       "  <thead>\n",
       "    <tr style=\"text-align: right;\">\n",
       "      <th></th>\n",
       "      <th>Titulo</th>\n",
       "      <th>Classificacao</th>\n",
       "      <th>Ano</th>\n",
       "    </tr>\n",
       "  </thead>\n",
       "  <tbody>\n",
       "    <tr>\n",
       "      <th>0</th>\n",
       "      <td>1. Um Sonho de Liberdade</td>\n",
       "      <td>16</td>\n",
       "      <td>1994</td>\n",
       "    </tr>\n",
       "    <tr>\n",
       "      <th>1</th>\n",
       "      <td>2. O Poderoso Chefão</td>\n",
       "      <td>14</td>\n",
       "      <td>1972</td>\n",
       "    </tr>\n",
       "    <tr>\n",
       "      <th>2</th>\n",
       "      <td>3. Batman: O Cavaleiro das Trevas</td>\n",
       "      <td>12</td>\n",
       "      <td>2008</td>\n",
       "    </tr>\n",
       "    <tr>\n",
       "      <th>3</th>\n",
       "      <td>4. O Poderoso Chefão: Parte II</td>\n",
       "      <td>14</td>\n",
       "      <td>1974</td>\n",
       "    </tr>\n",
       "    <tr>\n",
       "      <th>4</th>\n",
       "      <td>5. 12 Homens e uma Sentença</td>\n",
       "      <td>Livre</td>\n",
       "      <td>1957</td>\n",
       "    </tr>\n",
       "    <tr>\n",
       "      <th>...</th>\n",
       "      <td>...</td>\n",
       "      <td>...</td>\n",
       "      <td>...</td>\n",
       "    </tr>\n",
       "    <tr>\n",
       "      <th>245</th>\n",
       "      <td>246. Na Natureza Selvagem</td>\n",
       "      <td>12</td>\n",
       "      <td>2007</td>\n",
       "    </tr>\n",
       "    <tr>\n",
       "      <th>246</th>\n",
       "      <td>247. Feitiço do Tempo</td>\n",
       "      <td>12</td>\n",
       "      <td>1993</td>\n",
       "    </tr>\n",
       "    <tr>\n",
       "      <th>247</th>\n",
       "      <td>248. Histórias Cruzadas</td>\n",
       "      <td>12</td>\n",
       "      <td>2011</td>\n",
       "    </tr>\n",
       "    <tr>\n",
       "      <th>248</th>\n",
       "      <td>249. Amores Brutos</td>\n",
       "      <td>16</td>\n",
       "      <td>2000</td>\n",
       "    </tr>\n",
       "    <tr>\n",
       "      <th>249</th>\n",
       "      <td>250. Rebecca, a Mulher Inesquecível</td>\n",
       "      <td>10</td>\n",
       "      <td>1940</td>\n",
       "    </tr>\n",
       "  </tbody>\n",
       "</table>\n",
       "<p>250 rows × 3 columns</p>\n",
       "</div>"
      ],
      "text/plain": [
       "                                  Titulo Classificacao   Ano\n",
       "0               1. Um Sonho de Liberdade            16  1994\n",
       "1                   2. O Poderoso Chefão            14  1972\n",
       "2      3. Batman: O Cavaleiro das Trevas            12  2008\n",
       "3         4. O Poderoso Chefão: Parte II            14  1974\n",
       "4            5. 12 Homens e uma Sentença         Livre  1957\n",
       "..                                   ...           ...   ...\n",
       "245            246. Na Natureza Selvagem            12  2007\n",
       "246                247. Feitiço do Tempo            12  1993\n",
       "247              248. Histórias Cruzadas            12  2011\n",
       "248                   249. Amores Brutos            16  2000\n",
       "249  250. Rebecca, a Mulher Inesquecível            10  1940\n",
       "\n",
       "[250 rows x 3 columns]"
      ]
     },
     "metadata": {},
     "output_type": "display_data"
    }
   ],
   "source": [
    "import pandas as pd\n",
    "import numpy as np\n",
    "import seaborn as sns\n",
    "import matplotlib.pyplot as plt\n",
    "df = pd.read_excel('Filmes.xlsx')\n",
    "\n",
    "display(df)"
   ]
  },
  {
   "cell_type": "code",
   "execution_count": 106,
   "id": "281dd745",
   "metadata": {},
   "outputs": [
    {
     "name": "stdout",
     "output_type": "stream",
     "text": [
      "    Ano  Quantidade\n",
      "0  1995           8\n",
      "1  2004           7\n",
      "2  1999           6\n"
     ]
    }
   ],
   "source": [
    "frequencia_ano = df['Ano'].value_counts().reset_index()\n",
    "\n",
    "# 2. Renomear as colunas do novo DataFrame\n",
    "frequencia_ano.columns = ['Ano', 'Quantidade']  # ← essa coluna é criada aqui\n",
    "frequencia_ano['Quantidade'].astype(int)\n",
    "frequencia_ano['Ano'].astype(str)\n",
    "# 3. Adicionar a coluna de ranking\n",
    "#frequencia_ano['Ranking'] = frequencia_ano['Quantidade'].rank(method='first', ascending=False).astype(int)\n",
    "\n",
    "# 4. Pegar apenas os 5 primeiros\n",
    "top3 = frequencia_ano.sort_values(by='Quantidade', ascending=False).head(3)\n",
    "\n",
    "print(top3)"
   ]
  },
  {
   "cell_type": "code",
   "execution_count": null,
   "id": "7a173f92",
   "metadata": {},
   "outputs": [
    {
     "data": {
      "image/png": "[encoded data removed]",
      "text/plain": [
       "<Figure size 800x500 with 1 Axes>"
      ]
     },
     "metadata": {},
     "output_type": "display_data"
    }
   ],
   "source": [
    "plt.figure(figsize=(8, 5))\n",
    "plt.bar(top3['Ano'].astype(str), top3['Quantidade'], color='blue')\n",
    "plt.xlabel('Ano')\n",
    "plt.ylabel('Quantidade de Filmes')\n",
    "plt.title('Top 3 Anos com Mais Filmes')\n",
    "plt.tight_layout()\n",
    "plt.show()"
   ]
  },
  {
   "cell_type": "code",
   "execution_count": null,
   "id": "49c37973",
   "metadata": {},
   "outputs": [
    {
     "name": "stdout",
     "output_type": "stream",
     "text": [
      "                Titulo  Ano\n",
      "Classificacao              \n",
      "10                  24   24\n",
      "12                  46   46\n",
      "14                  59   59\n",
      "16                  37   37\n",
      "18                  25   25\n",
      "Livre               51   51\n",
      "Não encontrada       8    8\n"
     ]
    }
   ],
   "source": [
    "distribuicao_class = df.groupby(df['Classificacao']).count()\n",
    "\n",
    "print(distribuicao_class)"
   ]
  },
  {
   "cell_type": "code",
   "execution_count": 122,
   "id": "4a420d96",
   "metadata": {},
   "outputs": [
    {
     "data": {
      "text/plain": [
       "<Figure size 1000x500 with 0 Axes>"
      ]
     },
     "metadata": {},
     "output_type": "display_data"
    },
    {
     "data": {
      "image/png": "[encoded data removed]",
      "text/plain": [
       "<Figure size 640x480 with 1 Axes>"
      ]
     },
     "metadata": {},
     "output_type": "display_data"
    }
   ],
   "source": [
    "plt.figure(figsize=(10,5))\n",
    "distribuicao_class.plot(kind=\"bar\", color = \"green\")\n",
    "plt.title(\"Distribuição Faixa Etaria\")\n",
    "plt.xlabel(\"Classificação Etaria\")\n",
    "plt.ylabel(\"Quantidade\")\n",
    "plt.xticks(rotation = 45)\n",
    "plt.grid(axis = \"y\")\n",
    "plt.show()"
   ]
  }
 ],
 "metadata": {
  "kernelspec": {
   "display_name": "Python 3",
   "language": "python",
   "name": "python3"
  },
  "language_info": {
   "codemirror_mode": {
    "name": "ipython",
    "version": 3
   },
   "file_extension": ".py",
   "mimetype": "text/x-python",
   "name": "python",
   "nbconvert_exporter": "python",
   "pygments_lexer": "ipython3",
   "version": "3.13.1"
  }
 },
 "nbformat": 4,
 "nbformat_minor": 5
}
