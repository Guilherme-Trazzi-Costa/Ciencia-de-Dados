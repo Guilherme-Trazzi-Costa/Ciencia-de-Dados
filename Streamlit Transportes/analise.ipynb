{
 "cells": [
  {
   "cell_type": "code",
   "execution_count": 82,
   "metadata": {},
   "outputs": [],
   "source": [
    "import pandas as pd\n",
    "import numpy as np\n",
    "df = pd.read_excel('base_transportes.xlsx')\n",
    "df_unificado = pd.read_excel('base_transportes_leve.xlsx')\n"
   ]
  },
  {
   "cell_type": "code",
   "execution_count": 83,
   "metadata": {},
   "outputs": [],
   "source": [
    "colunas_anos = [2020, 2021, 2022, 2023]"
   ]
  },
  {
   "cell_type": "code",
   "execution_count": 84,
   "metadata": {},
   "outputs": [
    {
     "name": "stdout",
     "output_type": "stream",
     "text": [
      "                 Estado          2020          2021          2022  \\\n",
      "0                  Acre  8.438287e+05  8.485278e+05  9.174185e+05   \n",
      "1               Alagoas  2.845132e+06  3.049793e+06  3.272154e+06   \n",
      "2                 Amapá  1.004644e+06  1.066173e+06  1.102484e+06   \n",
      "3              Amazonas  4.736139e+06  5.094094e+06  5.558290e+06   \n",
      "4                 Bahia  1.921773e+07  2.072335e+07  2.060025e+07   \n",
      "5                 Ceará  8.422779e+06  9.042682e+06  9.551056e+06   \n",
      "6      Distrito Federal  4.559051e+06  4.829756e+06  5.147340e+06   \n",
      "7        Espírito Santo  7.637576e+06  8.742663e+06  8.860721e+06   \n",
      "8                 Goiás  1.516302e+07  1.686101e+07  1.817850e+07   \n",
      "9              Maranhão  9.020345e+06  9.503809e+06  9.818706e+06   \n",
      "10          Mato Grosso  1.394647e+07  1.561599e+07  1.689082e+07   \n",
      "11   Mato Grosso do Sul  7.983897e+06  8.861404e+06  9.690693e+06   \n",
      "12         Minas Gerais  3.796913e+07  4.183505e+07  4.506922e+07   \n",
      "13          Não Alocado  5.460724e+06  5.250120e+06  4.907987e+06   \n",
      "14               Paraná  3.165124e+07  3.460911e+07  3.557094e+07   \n",
      "15              Paraíba  3.814104e+06  4.076998e+06  4.242600e+06   \n",
      "16                 Pará  1.378765e+07  1.464473e+07  1.554455e+07   \n",
      "17           Pernambuco  1.009510e+07  1.096670e+07  1.148595e+07   \n",
      "18                Piauí  3.873487e+06  4.088140e+06  4.351157e+06   \n",
      "19  Rio Grande do Norte  3.824718e+06  3.969312e+06  4.205864e+06   \n",
      "20    Rio Grande do Sul  2.530479e+07  2.721766e+07  2.824603e+07   \n",
      "21       Rio de Janeiro  1.913875e+07  2.059716e+07  2.249258e+07   \n",
      "22             Rondônia  4.832679e+06  5.009940e+06  5.186485e+06   \n",
      "23              Roraima  9.296442e+05  1.042922e+06  1.148092e+06   \n",
      "24       Santa Catarina  1.967795e+07  2.195647e+07  2.266902e+07   \n",
      "25              Sergipe  2.511903e+06  2.634741e+06  2.947488e+06   \n",
      "26            São Paulo  7.243142e+07  8.102635e+07  8.698275e+07   \n",
      "27            Tocantins  5.661204e+06  6.094799e+06  6.438773e+06   \n",
      "\n",
      "            2023  \n",
      "0   9.271745e+05  \n",
      "1   3.414798e+06  \n",
      "2   1.072121e+06  \n",
      "3   5.237245e+06  \n",
      "4   2.197823e+07  \n",
      "5   9.890072e+06  \n",
      "6   5.094091e+06  \n",
      "7   8.754949e+06  \n",
      "8   1.917465e+07  \n",
      "9   1.046355e+07  \n",
      "10  1.744906e+07  \n",
      "11  9.988293e+06  \n",
      "12  4.753743e+07  \n",
      "13  4.803154e+06  \n",
      "14  3.669482e+07  \n",
      "15  4.524043e+06  \n",
      "16  1.593769e+07  \n",
      "17  1.175656e+07  \n",
      "18  4.613672e+06  \n",
      "19  4.349214e+06  \n",
      "20  2.878514e+07  \n",
      "21  2.386133e+07  \n",
      "22  5.267844e+06  \n",
      "23  1.070392e+06  \n",
      "24  2.274735e+07  \n",
      "25  3.029645e+06  \n",
      "26  8.880224e+07  \n",
      "27  6.496734e+06  \n"
     ]
    }
   ],
   "source": [
    "emissao_estado_group = df.groupby(\"Estado\", as_index=False)[colunas_anos].sum()\n",
    "\n",
    "print(emissao_estado_group)"
   ]
  },
  {
   "cell_type": "code",
   "execution_count": 85,
   "metadata": {},
   "outputs": [
    {
     "name": "stdout",
     "output_type": "stream",
     "text": [
      "     Estado          2020          2021          2022          2023  \\\n",
      "0      Acre  8.438287e+05  8.485278e+05  9.174185e+05  9.271745e+05   \n",
      "1   Alagoas  2.845132e+06  3.049793e+06  3.272154e+06  3.414798e+06   \n",
      "2     Amapá  1.004644e+06  1.066173e+06  1.102484e+06  1.072121e+06   \n",
      "3  Amazonas  4.736139e+06  5.094094e+06  5.558290e+06  5.237245e+06   \n",
      "4     Bahia  1.921773e+07  2.072335e+07  2.060025e+07  2.197823e+07   \n",
      "\n",
      "   Quantidade  \n",
      "0         NaN  \n",
      "1         NaN  \n",
      "2         NaN  \n",
      "3         NaN  \n",
      "4         NaN  \n"
     ]
    }
   ],
   "source": [
    "soma = emissao_estado_group['Quantidade'] = emissao_estado_group[colunas_anos].sum()\n",
    "\n",
    "top_5_estados = emissao_estado_group.nlargest(5, 'Quantidade')\n",
    "\n",
    "print(top_5_estados)"
   ]
  },
  {
   "cell_type": "code",
   "execution_count": 86,
   "metadata": {},
   "outputs": [],
   "source": [
    "df_co2 = df_unificado [df_unificado ['Gás'] == 'CO2e (t) GWP-AR6']\n",
    "\n"
   ]
  },
  {
   "cell_type": "code",
   "execution_count": 87,
   "metadata": {},
   "outputs": [
    {
     "ename": "TypeError",
     "evalue": "decimals must be an integer, a dict-like or a Series",
     "output_type": "error",
     "traceback": [
      "\u001b[31m---------------------------------------------------------------------------\u001b[39m",
      "\u001b[31mTypeError\u001b[39m                                 Traceback (most recent call last)",
      "\u001b[32m~\\AppData\\Local\\Temp\\ipykernel_19368\\2179490561.py\u001b[39m in \u001b[36m?\u001b[39m\u001b[34m()\u001b[39m\n\u001b[32m      8\u001b[39m     \u001b[38;5;66;03m#y = np.array(emissao_total)\u001b[39;00m\n\u001b[32m      9\u001b[39m     coef = np.polyfit(emissao_total, y, deg=\u001b[32m1\u001b[39m)  \u001b[38;5;66;03m# Regressão linear\u001b[39;00m\n\u001b[32m     10\u001b[39m     previsao = {ano: coef[\u001b[32m0\u001b[39m] * anos + coef[\u001b[32m1\u001b[39m] \u001b[38;5;28;01mfor\u001b[39;00m ano \u001b[38;5;28;01min\u001b[39;00m range(\u001b[32m2024\u001b[39m, \u001b[32m2031\u001b[39m)}\n\u001b[32m     11\u001b[39m     \u001b[38;5;28;01mfor\u001b[39;00m ano, valor \u001b[38;5;28;01min\u001b[39;00m previsao.items():\n\u001b[32m---> \u001b[39m\u001b[32m12\u001b[39m         df_co2.at[idx, ano] = df_co2.round(valor)\n",
      "\u001b[32m~\\AppData\\Roaming\\Python\\Python312\\site-packages\\pandas\\core\\frame.py\u001b[39m in \u001b[36m?\u001b[39m\u001b[34m(self, decimals, *args, **kwargs)\u001b[39m\n\u001b[32m  10959\u001b[39m             return self._constructor_from_mgr(new_mgr, axes=new_mgr.axes).__finalize__(\n\u001b[32m  10960\u001b[39m                 self, method=\u001b[33m\"round\"\u001b[39m\n\u001b[32m  10961\u001b[39m             )\n\u001b[32m  10962\u001b[39m         \u001b[38;5;28;01melse\u001b[39;00m:\n\u001b[32m> \u001b[39m\u001b[32m10963\u001b[39m             \u001b[38;5;28;01mraise\u001b[39;00m TypeError(\u001b[33m\"decimals must be an integer, a dict-like or a Series\"\u001b[39m)\n\u001b[32m  10964\u001b[39m \n\u001b[32m  10965\u001b[39m         \u001b[38;5;28;01mif\u001b[39;00m new_cols \u001b[38;5;28;01mis\u001b[39;00m \u001b[38;5;28;01mnot\u001b[39;00m \u001b[38;5;28;01mNone\u001b[39;00m \u001b[38;5;28;01mand\u001b[39;00m len(new_cols) > \u001b[32m0\u001b[39m:\n\u001b[32m  10966\u001b[39m             return self._constructor(\n",
      "\u001b[31mTypeError\u001b[39m: decimals must be an integer, a dict-like or a Series"
     ]
    }
   ],
   "source": [
    "anos = np.array([2020, 2021, 2022, 2023])\n",
    "# Suponha que a coluna 'Quantidade' já tem a soma de cada linha (estado)\n",
    "# Aqui, vamos fazer previsão para cada estado individualmente\n",
    "emissao_total = df_co2[\"Emissão Total\"]\n",
    "for idx, row in df_co2.iterrows():\n",
    "    #y = np.array([row[2020], row[2021], row[2022], row[2023]])\n",
    "    y = emissao_total\n",
    "    #y = np.array(emissao_total)\n",
    "    coef = np.polyfit(emissao_total, y, deg=1)  # Regressão linear\n",
    "    previsao = {ano: coef[0] * anos + coef[1] for ano in range(2024, 2031)}\n",
    "    for ano, valor in previsao.items():\n",
    "        df_co2.at[idx, ano] = df_co2.round(valor)"
   ]
  },
  {
   "cell_type": "code",
   "execution_count": null,
   "metadata": {},
   "outputs": [],
   "source": [
    "display(df_co2)"
   ]
  }
 ],
 "metadata": {
  "kernelspec": {
   "display_name": "Python 3",
   "language": "python",
   "name": "python3"
  },
  "language_info": {
   "codemirror_mode": {
    "name": "ipython",
    "version": 3
   },
   "file_extension": ".py",
   "mimetype": "text/x-python",
   "name": "python",
   "nbconvert_exporter": "python",
   "pygments_lexer": "ipython3",
   "version": "3.12.1"
  }
 },
 "nbformat": 4,
 "nbformat_minor": 2
}
